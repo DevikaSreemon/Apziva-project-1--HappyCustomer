{
  "cells": [
    {
      "cell_type": "markdown",
      "metadata": {
        "id": "view-in-github",
        "colab_type": "text"
      },
      "source": [
        "<a href=\"https://colab.research.google.com/github/DevikaSreemon/Apziva-project-1--HappyCustomer/blob/main/Happy_Customers.ipynb\" target=\"_parent\"><img src=\"https://colab.research.google.com/assets/colab-badge.svg\" alt=\"Open In Colab\"/></a>"
      ]
    },
    {
      "cell_type": "markdown",
      "source": [
        "## **Happy Customers**"
      ],
      "metadata": {
        "id": "ww4Qr48Rz1z3"
      }
    },
    {
      "cell_type": "markdown",
      "source": [
        "### Project Overview: Predicting Customer Happiness for a Logistics Startup\n",
        "\n",
        "As a rapidly expanding startup in the logistics and delivery domain, understanding customer satisfaction is crucial to our growth. The challenge lies in not only delivering exceptional service but also in predicting what drives customer happiness. During the COVID-19 pandemic, the importance of maintaining customer satisfaction has become even more critical due to evolving challenges in logistics.\n",
        "\n",
        "**Problem Statement:**\n",
        " We aim to develop a model that predicts customer happiness based on recent survey responses. By identifying the key factors that influence customer satisfaction, we can take data-driven actions to improve our services and enhance the overall customer experience.\n",
        "\n",
        "**Approach:**\n",
        " To achieve this, we will analyze a dataset containing customer feedback on various aspects of their experience, such as delivery timeliness, order accuracy, pricing, courier satisfaction, and app usability. Our target is to build a model that can predict the Customer Happiness based on responses.\n",
        "\n",
        "**Success Criteria:**\n",
        " Our goal is to develop a model with an accuracy score of 73% or higher. Additionally, we will perform feature selection to identify the most significant factors contributing to customer happiness, which could help in refining future customer surveys.\n"
      ],
      "metadata": {
        "id": "ZCQpB5I5z1kb"
      }
    },
    {
      "cell_type": "code",
      "execution_count": 2,
      "metadata": {
        "colab": {
          "base_uri": "https://localhost:8080/"
        },
        "id": "pj2KMDwnbyQl",
        "outputId": "617be223-6328-426b-9d4a-8ba38c0593f0"
      },
      "outputs": [
        {
          "output_type": "stream",
          "name": "stdout",
          "text": [
            "Collecting vecstack\n",
            "  Downloading vecstack-0.4.0.tar.gz (18 kB)\n",
            "  Preparing metadata (setup.py) ... \u001b[?25l\u001b[?25hdone\n",
            "Requirement already satisfied: numpy in /usr/local/lib/python3.10/dist-packages (from vecstack) (1.26.4)\n",
            "Requirement already satisfied: scipy in /usr/local/lib/python3.10/dist-packages (from vecstack) (1.13.1)\n",
            "Requirement already satisfied: scikit-learn>=0.18 in /usr/local/lib/python3.10/dist-packages (from vecstack) (1.3.2)\n",
            "Requirement already satisfied: joblib>=1.1.1 in /usr/local/lib/python3.10/dist-packages (from scikit-learn>=0.18->vecstack) (1.4.2)\n",
            "Requirement already satisfied: threadpoolctl>=2.0.0 in /usr/local/lib/python3.10/dist-packages (from scikit-learn>=0.18->vecstack) (3.5.0)\n",
            "Building wheels for collected packages: vecstack\n",
            "  Building wheel for vecstack (setup.py) ... \u001b[?25l\u001b[?25hdone\n",
            "  Created wheel for vecstack: filename=vecstack-0.4.0-py3-none-any.whl size=19860 sha256=29373e9654524cbec1cff7a42b94ab7a62511467cf0f95045115b246a4fc1686\n",
            "  Stored in directory: /root/.cache/pip/wheels/b8/d8/51/3cf39adf22c522b0a91dc2208db4e9de4d2d9d171683596220\n",
            "Successfully built vecstack\n",
            "Installing collected packages: vecstack\n",
            "Successfully installed vecstack-0.4.0\n"
          ]
        }
      ],
      "source": [
        "!pip install vecstack"
      ]
    },
    {
      "cell_type": "code",
      "execution_count": 1,
      "metadata": {
        "colab": {
          "base_uri": "https://localhost:8080/"
        },
        "id": "lKmSdwnFbsN2",
        "outputId": "9c3ec81d-bf27-4716-ba72-54f2c1b7ab5d"
      },
      "outputs": [
        {
          "output_type": "stream",
          "name": "stdout",
          "text": [
            "Collecting lazypredict\n",
            "  Downloading lazypredict-0.2.12-py2.py3-none-any.whl.metadata (12 kB)\n",
            "Requirement already satisfied: click in /usr/local/lib/python3.10/dist-packages (from lazypredict) (8.1.7)\n",
            "Requirement already satisfied: scikit-learn in /usr/local/lib/python3.10/dist-packages (from lazypredict) (1.3.2)\n",
            "Requirement already satisfied: pandas in /usr/local/lib/python3.10/dist-packages (from lazypredict) (2.1.4)\n",
            "Requirement already satisfied: tqdm in /usr/local/lib/python3.10/dist-packages (from lazypredict) (4.66.5)\n",
            "Requirement already satisfied: joblib in /usr/local/lib/python3.10/dist-packages (from lazypredict) (1.4.2)\n",
            "Requirement already satisfied: lightgbm in /usr/local/lib/python3.10/dist-packages (from lazypredict) (4.4.0)\n",
            "Requirement already satisfied: xgboost in /usr/local/lib/python3.10/dist-packages (from lazypredict) (2.1.1)\n",
            "Requirement already satisfied: numpy>=1.17.0 in /usr/local/lib/python3.10/dist-packages (from lightgbm->lazypredict) (1.26.4)\n",
            "Requirement already satisfied: scipy in /usr/local/lib/python3.10/dist-packages (from lightgbm->lazypredict) (1.13.1)\n",
            "Requirement already satisfied: python-dateutil>=2.8.2 in /usr/local/lib/python3.10/dist-packages (from pandas->lazypredict) (2.8.2)\n",
            "Requirement already satisfied: pytz>=2020.1 in /usr/local/lib/python3.10/dist-packages (from pandas->lazypredict) (2024.1)\n",
            "Requirement already satisfied: tzdata>=2022.1 in /usr/local/lib/python3.10/dist-packages (from pandas->lazypredict) (2024.1)\n",
            "Requirement already satisfied: threadpoolctl>=2.0.0 in /usr/local/lib/python3.10/dist-packages (from scikit-learn->lazypredict) (3.5.0)\n",
            "Requirement already satisfied: nvidia-nccl-cu12 in /usr/local/lib/python3.10/dist-packages (from xgboost->lazypredict) (2.22.3)\n",
            "Requirement already satisfied: six>=1.5 in /usr/local/lib/python3.10/dist-packages (from python-dateutil>=2.8.2->pandas->lazypredict) (1.16.0)\n",
            "Downloading lazypredict-0.2.12-py2.py3-none-any.whl (12 kB)\n",
            "Installing collected packages: lazypredict\n",
            "Successfully installed lazypredict-0.2.12\n"
          ]
        }
      ],
      "source": [
        "! pip install lazypredict"
      ]
    },
    {
      "cell_type": "code",
      "source": [
        "!pip install hyperopt"
      ],
      "metadata": {
        "colab": {
          "base_uri": "https://localhost:8080/"
        },
        "id": "caztivPprmY9",
        "outputId": "c5521cce-66ec-4ca1-f3c7-338eaa02f179"
      },
      "execution_count": 4,
      "outputs": [
        {
          "output_type": "stream",
          "name": "stdout",
          "text": [
            "Requirement already satisfied: hyperopt in /usr/local/lib/python3.10/dist-packages (0.2.7)\n",
            "Requirement already satisfied: numpy in /usr/local/lib/python3.10/dist-packages (from hyperopt) (1.26.4)\n",
            "Requirement already satisfied: scipy in /usr/local/lib/python3.10/dist-packages (from hyperopt) (1.13.1)\n",
            "Requirement already satisfied: six in /usr/local/lib/python3.10/dist-packages (from hyperopt) (1.16.0)\n",
            "Requirement already satisfied: networkx>=2.2 in /usr/local/lib/python3.10/dist-packages (from hyperopt) (3.3)\n",
            "Requirement already satisfied: future in /usr/local/lib/python3.10/dist-packages (from hyperopt) (1.0.0)\n",
            "Requirement already satisfied: tqdm in /usr/local/lib/python3.10/dist-packages (from hyperopt) (4.66.5)\n",
            "Requirement already satisfied: cloudpickle in /usr/local/lib/python3.10/dist-packages (from hyperopt) (2.2.1)\n",
            "Requirement already satisfied: py4j in /usr/local/lib/python3.10/dist-packages (from hyperopt) (0.10.9.7)\n"
          ]
        }
      ]
    },
    {
      "cell_type": "code",
      "source": [
        "!pip install --upgrade lightgbm"
      ],
      "metadata": {
        "colab": {
          "base_uri": "https://localhost:8080/"
        },
        "id": "1-a61mh68qmd",
        "outputId": "78899a8e-7dcf-4eea-8806-296559db2f13"
      },
      "execution_count": 24,
      "outputs": [
        {
          "output_type": "stream",
          "name": "stdout",
          "text": [
            "Requirement already satisfied: lightgbm in /usr/local/lib/python3.10/dist-packages (4.4.0)\n",
            "Collecting lightgbm\n",
            "  Downloading lightgbm-4.5.0-py3-none-manylinux_2_28_x86_64.whl.metadata (17 kB)\n",
            "Requirement already satisfied: numpy>=1.17.0 in /usr/local/lib/python3.10/dist-packages (from lightgbm) (1.26.4)\n",
            "Requirement already satisfied: scipy in /usr/local/lib/python3.10/dist-packages (from lightgbm) (1.13.1)\n",
            "Downloading lightgbm-4.5.0-py3-none-manylinux_2_28_x86_64.whl (3.6 MB)\n",
            "\u001b[2K   \u001b[90m━━━━━━━━━━━━━━━━━━━━━━━━━━━━━━━━━━━━━━━━\u001b[0m \u001b[32m3.6/3.6 MB\u001b[0m \u001b[31m29.3 MB/s\u001b[0m eta \u001b[36m0:00:00\u001b[0m\n",
            "\u001b[?25hInstalling collected packages: lightgbm\n",
            "  Attempting uninstall: lightgbm\n",
            "    Found existing installation: lightgbm 4.4.0\n",
            "    Uninstalling lightgbm-4.4.0:\n",
            "      Successfully uninstalled lightgbm-4.4.0\n",
            "Successfully installed lightgbm-4.5.0\n"
          ]
        }
      ]
    },
    {
      "cell_type": "markdown",
      "metadata": {
        "id": "5iDRhLwyb11g"
      },
      "source": [
        "**Data Description:**\n",
        "\n",
        "Y = target attribute (Y) with values indicating 0 (unhappy) and 1 (happy) customers\n",
        "\n",
        "X1 = my order was delivered on time\n",
        "\n",
        "X2 = contents of my order was as I expected\n",
        "\n",
        "X3 = I ordered everything I wanted to order\n",
        "\n",
        "X4 = I paid a good price for my order\n",
        "\n",
        "X5 = I am satisfied with my courier\n",
        "\n",
        "X6 = the app makes ordering easy for me\n",
        "\n",
        "\n",
        "Attributes X1 to X6 indicate the responses for each question and have values from 1 to 5 where the smaller number indicates less and the higher number indicates more towards the answer.\n"
      ]
    },
    {
      "cell_type": "markdown",
      "source": [
        "#### Importing Necessary Libraries"
      ],
      "metadata": {
        "id": "Sqsemy48608w"
      }
    },
    {
      "cell_type": "code",
      "execution_count": 5,
      "metadata": {
        "id": "VhTGf25Fb8rv"
      },
      "outputs": [],
      "source": [
        "import pandas as pd\n",
        "import numpy as np\n",
        "import matplotlib.pyplot as plt\n",
        "import seaborn as sns"
      ]
    },
    {
      "cell_type": "markdown",
      "source": [
        "#### Loading Dataset"
      ],
      "metadata": {
        "id": "T0D2bEwt7BH8"
      }
    },
    {
      "cell_type": "code",
      "execution_count": 6,
      "metadata": {
        "colab": {
          "base_uri": "https://localhost:8080/",
          "height": 441
        },
        "id": "a1dibGULb-WD",
        "outputId": "93469aaf-b340-4fb1-c0c6-1e0c62720510"
      },
      "outputs": [
        {
          "output_type": "stream",
          "name": "stdout",
          "text": [
            "Mounted at /content/drive\n"
          ]
        },
        {
          "output_type": "execute_result",
          "data": {
            "text/plain": [
              "     Y  X1  X2  X3  X4  X5  X6\n",
              "0    0   3   3   3   4   2   4\n",
              "1    0   3   2   3   5   4   3\n",
              "2    1   5   3   3   3   3   5\n",
              "3    0   5   4   3   3   3   5\n",
              "4    0   5   4   3   3   3   5\n",
              "..  ..  ..  ..  ..  ..  ..  ..\n",
              "121  1   5   2   3   4   4   3\n",
              "122  1   5   2   3   4   2   5\n",
              "123  1   5   3   3   4   4   5\n",
              "124  0   4   3   3   4   4   5\n",
              "125  0   5   3   2   5   5   5\n",
              "\n",
              "[126 rows x 7 columns]"
            ],
            "text/html": [
              "\n",
              "  <div id=\"df-3f5a40a9-bfe2-49f7-bbae-ebcd9658e12b\" class=\"colab-df-container\">\n",
              "    <div>\n",
              "<style scoped>\n",
              "    .dataframe tbody tr th:only-of-type {\n",
              "        vertical-align: middle;\n",
              "    }\n",
              "\n",
              "    .dataframe tbody tr th {\n",
              "        vertical-align: top;\n",
              "    }\n",
              "\n",
              "    .dataframe thead th {\n",
              "        text-align: right;\n",
              "    }\n",
              "</style>\n",
              "<table border=\"1\" class=\"dataframe\">\n",
              "  <thead>\n",
              "    <tr style=\"text-align: right;\">\n",
              "      <th></th>\n",
              "      <th>Y</th>\n",
              "      <th>X1</th>\n",
              "      <th>X2</th>\n",
              "      <th>X3</th>\n",
              "      <th>X4</th>\n",
              "      <th>X5</th>\n",
              "      <th>X6</th>\n",
              "    </tr>\n",
              "  </thead>\n",
              "  <tbody>\n",
              "    <tr>\n",
              "      <th>0</th>\n",
              "      <td>0</td>\n",
              "      <td>3</td>\n",
              "      <td>3</td>\n",
              "      <td>3</td>\n",
              "      <td>4</td>\n",
              "      <td>2</td>\n",
              "      <td>4</td>\n",
              "    </tr>\n",
              "    <tr>\n",
              "      <th>1</th>\n",
              "      <td>0</td>\n",
              "      <td>3</td>\n",
              "      <td>2</td>\n",
              "      <td>3</td>\n",
              "      <td>5</td>\n",
              "      <td>4</td>\n",
              "      <td>3</td>\n",
              "    </tr>\n",
              "    <tr>\n",
              "      <th>2</th>\n",
              "      <td>1</td>\n",
              "      <td>5</td>\n",
              "      <td>3</td>\n",
              "      <td>3</td>\n",
              "      <td>3</td>\n",
              "      <td>3</td>\n",
              "      <td>5</td>\n",
              "    </tr>\n",
              "    <tr>\n",
              "      <th>3</th>\n",
              "      <td>0</td>\n",
              "      <td>5</td>\n",
              "      <td>4</td>\n",
              "      <td>3</td>\n",
              "      <td>3</td>\n",
              "      <td>3</td>\n",
              "      <td>5</td>\n",
              "    </tr>\n",
              "    <tr>\n",
              "      <th>4</th>\n",
              "      <td>0</td>\n",
              "      <td>5</td>\n",
              "      <td>4</td>\n",
              "      <td>3</td>\n",
              "      <td>3</td>\n",
              "      <td>3</td>\n",
              "      <td>5</td>\n",
              "    </tr>\n",
              "    <tr>\n",
              "      <th>...</th>\n",
              "      <td>...</td>\n",
              "      <td>...</td>\n",
              "      <td>...</td>\n",
              "      <td>...</td>\n",
              "      <td>...</td>\n",
              "      <td>...</td>\n",
              "      <td>...</td>\n",
              "    </tr>\n",
              "    <tr>\n",
              "      <th>121</th>\n",
              "      <td>1</td>\n",
              "      <td>5</td>\n",
              "      <td>2</td>\n",
              "      <td>3</td>\n",
              "      <td>4</td>\n",
              "      <td>4</td>\n",
              "      <td>3</td>\n",
              "    </tr>\n",
              "    <tr>\n",
              "      <th>122</th>\n",
              "      <td>1</td>\n",
              "      <td>5</td>\n",
              "      <td>2</td>\n",
              "      <td>3</td>\n",
              "      <td>4</td>\n",
              "      <td>2</td>\n",
              "      <td>5</td>\n",
              "    </tr>\n",
              "    <tr>\n",
              "      <th>123</th>\n",
              "      <td>1</td>\n",
              "      <td>5</td>\n",
              "      <td>3</td>\n",
              "      <td>3</td>\n",
              "      <td>4</td>\n",
              "      <td>4</td>\n",
              "      <td>5</td>\n",
              "    </tr>\n",
              "    <tr>\n",
              "      <th>124</th>\n",
              "      <td>0</td>\n",
              "      <td>4</td>\n",
              "      <td>3</td>\n",
              "      <td>3</td>\n",
              "      <td>4</td>\n",
              "      <td>4</td>\n",
              "      <td>5</td>\n",
              "    </tr>\n",
              "    <tr>\n",
              "      <th>125</th>\n",
              "      <td>0</td>\n",
              "      <td>5</td>\n",
              "      <td>3</td>\n",
              "      <td>2</td>\n",
              "      <td>5</td>\n",
              "      <td>5</td>\n",
              "      <td>5</td>\n",
              "    </tr>\n",
              "  </tbody>\n",
              "</table>\n",
              "<p>126 rows × 7 columns</p>\n",
              "</div>\n",
              "    <div class=\"colab-df-buttons\">\n",
              "\n",
              "  <div class=\"colab-df-container\">\n",
              "    <button class=\"colab-df-convert\" onclick=\"convertToInteractive('df-3f5a40a9-bfe2-49f7-bbae-ebcd9658e12b')\"\n",
              "            title=\"Convert this dataframe to an interactive table.\"\n",
              "            style=\"display:none;\">\n",
              "\n",
              "  <svg xmlns=\"http://www.w3.org/2000/svg\" height=\"24px\" viewBox=\"0 -960 960 960\">\n",
              "    <path d=\"M120-120v-720h720v720H120Zm60-500h600v-160H180v160Zm220 220h160v-160H400v160Zm0 220h160v-160H400v160ZM180-400h160v-160H180v160Zm440 0h160v-160H620v160ZM180-180h160v-160H180v160Zm440 0h160v-160H620v160Z\"/>\n",
              "  </svg>\n",
              "    </button>\n",
              "\n",
              "  <style>\n",
              "    .colab-df-container {\n",
              "      display:flex;\n",
              "      gap: 12px;\n",
              "    }\n",
              "\n",
              "    .colab-df-convert {\n",
              "      background-color: #E8F0FE;\n",
              "      border: none;\n",
              "      border-radius: 50%;\n",
              "      cursor: pointer;\n",
              "      display: none;\n",
              "      fill: #1967D2;\n",
              "      height: 32px;\n",
              "      padding: 0 0 0 0;\n",
              "      width: 32px;\n",
              "    }\n",
              "\n",
              "    .colab-df-convert:hover {\n",
              "      background-color: #E2EBFA;\n",
              "      box-shadow: 0px 1px 2px rgba(60, 64, 67, 0.3), 0px 1px 3px 1px rgba(60, 64, 67, 0.15);\n",
              "      fill: #174EA6;\n",
              "    }\n",
              "\n",
              "    .colab-df-buttons div {\n",
              "      margin-bottom: 4px;\n",
              "    }\n",
              "\n",
              "    [theme=dark] .colab-df-convert {\n",
              "      background-color: #3B4455;\n",
              "      fill: #D2E3FC;\n",
              "    }\n",
              "\n",
              "    [theme=dark] .colab-df-convert:hover {\n",
              "      background-color: #434B5C;\n",
              "      box-shadow: 0px 1px 3px 1px rgba(0, 0, 0, 0.15);\n",
              "      filter: drop-shadow(0px 1px 2px rgba(0, 0, 0, 0.3));\n",
              "      fill: #FFFFFF;\n",
              "    }\n",
              "  </style>\n",
              "\n",
              "    <script>\n",
              "      const buttonEl =\n",
              "        document.querySelector('#df-3f5a40a9-bfe2-49f7-bbae-ebcd9658e12b button.colab-df-convert');\n",
              "      buttonEl.style.display =\n",
              "        google.colab.kernel.accessAllowed ? 'block' : 'none';\n",
              "\n",
              "      async function convertToInteractive(key) {\n",
              "        const element = document.querySelector('#df-3f5a40a9-bfe2-49f7-bbae-ebcd9658e12b');\n",
              "        const dataTable =\n",
              "          await google.colab.kernel.invokeFunction('convertToInteractive',\n",
              "                                                    [key], {});\n",
              "        if (!dataTable) return;\n",
              "\n",
              "        const docLinkHtml = 'Like what you see? Visit the ' +\n",
              "          '<a target=\"_blank\" href=https://colab.research.google.com/notebooks/data_table.ipynb>data table notebook</a>'\n",
              "          + ' to learn more about interactive tables.';\n",
              "        element.innerHTML = '';\n",
              "        dataTable['output_type'] = 'display_data';\n",
              "        await google.colab.output.renderOutput(dataTable, element);\n",
              "        const docLink = document.createElement('div');\n",
              "        docLink.innerHTML = docLinkHtml;\n",
              "        element.appendChild(docLink);\n",
              "      }\n",
              "    </script>\n",
              "  </div>\n",
              "\n",
              "\n",
              "<div id=\"df-dc5446b9-4106-489b-8f8a-afe22c84b092\">\n",
              "  <button class=\"colab-df-quickchart\" onclick=\"quickchart('df-dc5446b9-4106-489b-8f8a-afe22c84b092')\"\n",
              "            title=\"Suggest charts\"\n",
              "            style=\"display:none;\">\n",
              "\n",
              "<svg xmlns=\"http://www.w3.org/2000/svg\" height=\"24px\"viewBox=\"0 0 24 24\"\n",
              "     width=\"24px\">\n",
              "    <g>\n",
              "        <path d=\"M19 3H5c-1.1 0-2 .9-2 2v14c0 1.1.9 2 2 2h14c1.1 0 2-.9 2-2V5c0-1.1-.9-2-2-2zM9 17H7v-7h2v7zm4 0h-2V7h2v10zm4 0h-2v-4h2v4z\"/>\n",
              "    </g>\n",
              "</svg>\n",
              "  </button>\n",
              "\n",
              "<style>\n",
              "  .colab-df-quickchart {\n",
              "      --bg-color: #E8F0FE;\n",
              "      --fill-color: #1967D2;\n",
              "      --hover-bg-color: #E2EBFA;\n",
              "      --hover-fill-color: #174EA6;\n",
              "      --disabled-fill-color: #AAA;\n",
              "      --disabled-bg-color: #DDD;\n",
              "  }\n",
              "\n",
              "  [theme=dark] .colab-df-quickchart {\n",
              "      --bg-color: #3B4455;\n",
              "      --fill-color: #D2E3FC;\n",
              "      --hover-bg-color: #434B5C;\n",
              "      --hover-fill-color: #FFFFFF;\n",
              "      --disabled-bg-color: #3B4455;\n",
              "      --disabled-fill-color: #666;\n",
              "  }\n",
              "\n",
              "  .colab-df-quickchart {\n",
              "    background-color: var(--bg-color);\n",
              "    border: none;\n",
              "    border-radius: 50%;\n",
              "    cursor: pointer;\n",
              "    display: none;\n",
              "    fill: var(--fill-color);\n",
              "    height: 32px;\n",
              "    padding: 0;\n",
              "    width: 32px;\n",
              "  }\n",
              "\n",
              "  .colab-df-quickchart:hover {\n",
              "    background-color: var(--hover-bg-color);\n",
              "    box-shadow: 0 1px 2px rgba(60, 64, 67, 0.3), 0 1px 3px 1px rgba(60, 64, 67, 0.15);\n",
              "    fill: var(--button-hover-fill-color);\n",
              "  }\n",
              "\n",
              "  .colab-df-quickchart-complete:disabled,\n",
              "  .colab-df-quickchart-complete:disabled:hover {\n",
              "    background-color: var(--disabled-bg-color);\n",
              "    fill: var(--disabled-fill-color);\n",
              "    box-shadow: none;\n",
              "  }\n",
              "\n",
              "  .colab-df-spinner {\n",
              "    border: 2px solid var(--fill-color);\n",
              "    border-color: transparent;\n",
              "    border-bottom-color: var(--fill-color);\n",
              "    animation:\n",
              "      spin 1s steps(1) infinite;\n",
              "  }\n",
              "\n",
              "  @keyframes spin {\n",
              "    0% {\n",
              "      border-color: transparent;\n",
              "      border-bottom-color: var(--fill-color);\n",
              "      border-left-color: var(--fill-color);\n",
              "    }\n",
              "    20% {\n",
              "      border-color: transparent;\n",
              "      border-left-color: var(--fill-color);\n",
              "      border-top-color: var(--fill-color);\n",
              "    }\n",
              "    30% {\n",
              "      border-color: transparent;\n",
              "      border-left-color: var(--fill-color);\n",
              "      border-top-color: var(--fill-color);\n",
              "      border-right-color: var(--fill-color);\n",
              "    }\n",
              "    40% {\n",
              "      border-color: transparent;\n",
              "      border-right-color: var(--fill-color);\n",
              "      border-top-color: var(--fill-color);\n",
              "    }\n",
              "    60% {\n",
              "      border-color: transparent;\n",
              "      border-right-color: var(--fill-color);\n",
              "    }\n",
              "    80% {\n",
              "      border-color: transparent;\n",
              "      border-right-color: var(--fill-color);\n",
              "      border-bottom-color: var(--fill-color);\n",
              "    }\n",
              "    90% {\n",
              "      border-color: transparent;\n",
              "      border-bottom-color: var(--fill-color);\n",
              "    }\n",
              "  }\n",
              "</style>\n",
              "\n",
              "  <script>\n",
              "    async function quickchart(key) {\n",
              "      const quickchartButtonEl =\n",
              "        document.querySelector('#' + key + ' button');\n",
              "      quickchartButtonEl.disabled = true;  // To prevent multiple clicks.\n",
              "      quickchartButtonEl.classList.add('colab-df-spinner');\n",
              "      try {\n",
              "        const charts = await google.colab.kernel.invokeFunction(\n",
              "            'suggestCharts', [key], {});\n",
              "      } catch (error) {\n",
              "        console.error('Error during call to suggestCharts:', error);\n",
              "      }\n",
              "      quickchartButtonEl.classList.remove('colab-df-spinner');\n",
              "      quickchartButtonEl.classList.add('colab-df-quickchart-complete');\n",
              "    }\n",
              "    (() => {\n",
              "      let quickchartButtonEl =\n",
              "        document.querySelector('#df-dc5446b9-4106-489b-8f8a-afe22c84b092 button');\n",
              "      quickchartButtonEl.style.display =\n",
              "        google.colab.kernel.accessAllowed ? 'block' : 'none';\n",
              "    })();\n",
              "  </script>\n",
              "</div>\n",
              "\n",
              "  <div id=\"id_796bfac4-f83c-4539-9568-bc55e3e0311d\">\n",
              "    <style>\n",
              "      .colab-df-generate {\n",
              "        background-color: #E8F0FE;\n",
              "        border: none;\n",
              "        border-radius: 50%;\n",
              "        cursor: pointer;\n",
              "        display: none;\n",
              "        fill: #1967D2;\n",
              "        height: 32px;\n",
              "        padding: 0 0 0 0;\n",
              "        width: 32px;\n",
              "      }\n",
              "\n",
              "      .colab-df-generate:hover {\n",
              "        background-color: #E2EBFA;\n",
              "        box-shadow: 0px 1px 2px rgba(60, 64, 67, 0.3), 0px 1px 3px 1px rgba(60, 64, 67, 0.15);\n",
              "        fill: #174EA6;\n",
              "      }\n",
              "\n",
              "      [theme=dark] .colab-df-generate {\n",
              "        background-color: #3B4455;\n",
              "        fill: #D2E3FC;\n",
              "      }\n",
              "\n",
              "      [theme=dark] .colab-df-generate:hover {\n",
              "        background-color: #434B5C;\n",
              "        box-shadow: 0px 1px 3px 1px rgba(0, 0, 0, 0.15);\n",
              "        filter: drop-shadow(0px 1px 2px rgba(0, 0, 0, 0.3));\n",
              "        fill: #FFFFFF;\n",
              "      }\n",
              "    </style>\n",
              "    <button class=\"colab-df-generate\" onclick=\"generateWithVariable('customer_data')\"\n",
              "            title=\"Generate code using this dataframe.\"\n",
              "            style=\"display:none;\">\n",
              "\n",
              "  <svg xmlns=\"http://www.w3.org/2000/svg\" height=\"24px\"viewBox=\"0 0 24 24\"\n",
              "       width=\"24px\">\n",
              "    <path d=\"M7,19H8.4L18.45,9,17,7.55,7,17.6ZM5,21V16.75L18.45,3.32a2,2,0,0,1,2.83,0l1.4,1.43a1.91,1.91,0,0,1,.58,1.4,1.91,1.91,0,0,1-.58,1.4L9.25,21ZM18.45,9,17,7.55Zm-12,3A5.31,5.31,0,0,0,4.9,8.1,5.31,5.31,0,0,0,1,6.5,5.31,5.31,0,0,0,4.9,4.9,5.31,5.31,0,0,0,6.5,1,5.31,5.31,0,0,0,8.1,4.9,5.31,5.31,0,0,0,12,6.5,5.46,5.46,0,0,0,6.5,12Z\"/>\n",
              "  </svg>\n",
              "    </button>\n",
              "    <script>\n",
              "      (() => {\n",
              "      const buttonEl =\n",
              "        document.querySelector('#id_796bfac4-f83c-4539-9568-bc55e3e0311d button.colab-df-generate');\n",
              "      buttonEl.style.display =\n",
              "        google.colab.kernel.accessAllowed ? 'block' : 'none';\n",
              "\n",
              "      buttonEl.onclick = () => {\n",
              "        google.colab.notebook.generateWithVariable('customer_data');\n",
              "      }\n",
              "      })();\n",
              "    </script>\n",
              "  </div>\n",
              "\n",
              "    </div>\n",
              "  </div>\n"
            ],
            "application/vnd.google.colaboratory.intrinsic+json": {
              "type": "dataframe",
              "variable_name": "customer_data",
              "summary": "{\n  \"name\": \"customer_data\",\n  \"rows\": 126,\n  \"fields\": [\n    {\n      \"column\": \"Y\",\n      \"properties\": {\n        \"dtype\": \"number\",\n        \"std\": 0,\n        \"min\": 0,\n        \"max\": 1,\n        \"num_unique_values\": 2,\n        \"samples\": [\n          1,\n          0\n        ],\n        \"semantic_type\": \"\",\n        \"description\": \"\"\n      }\n    },\n    {\n      \"column\": \"X1\",\n      \"properties\": {\n        \"dtype\": \"number\",\n        \"std\": 0,\n        \"min\": 1,\n        \"max\": 5,\n        \"num_unique_values\": 4,\n        \"samples\": [\n          5,\n          1\n        ],\n        \"semantic_type\": \"\",\n        \"description\": \"\"\n      }\n    },\n    {\n      \"column\": \"X2\",\n      \"properties\": {\n        \"dtype\": \"number\",\n        \"std\": 1,\n        \"min\": 1,\n        \"max\": 5,\n        \"num_unique_values\": 5,\n        \"samples\": [\n          2,\n          1\n        ],\n        \"semantic_type\": \"\",\n        \"description\": \"\"\n      }\n    },\n    {\n      \"column\": \"X3\",\n      \"properties\": {\n        \"dtype\": \"number\",\n        \"std\": 1,\n        \"min\": 1,\n        \"max\": 5,\n        \"num_unique_values\": 5,\n        \"samples\": [\n          2,\n          1\n        ],\n        \"semantic_type\": \"\",\n        \"description\": \"\"\n      }\n    },\n    {\n      \"column\": \"X4\",\n      \"properties\": {\n        \"dtype\": \"number\",\n        \"std\": 0,\n        \"min\": 1,\n        \"max\": 5,\n        \"num_unique_values\": 5,\n        \"samples\": [\n          5,\n          1\n        ],\n        \"semantic_type\": \"\",\n        \"description\": \"\"\n      }\n    },\n    {\n      \"column\": \"X5\",\n      \"properties\": {\n        \"dtype\": \"number\",\n        \"std\": 1,\n        \"min\": 1,\n        \"max\": 5,\n        \"num_unique_values\": 5,\n        \"samples\": [\n          4,\n          1\n        ],\n        \"semantic_type\": \"\",\n        \"description\": \"\"\n      }\n    },\n    {\n      \"column\": \"X6\",\n      \"properties\": {\n        \"dtype\": \"number\",\n        \"std\": 0,\n        \"min\": 1,\n        \"max\": 5,\n        \"num_unique_values\": 5,\n        \"samples\": [\n          3,\n          1\n        ],\n        \"semantic_type\": \"\",\n        \"description\": \"\"\n      }\n    }\n  ]\n}"
            }
          },
          "metadata": {},
          "execution_count": 6
        }
      ],
      "source": [
        "from google.colab import drive\n",
        "drive.mount('/content/drive')\n",
        "import os\n",
        "os.chdir(\"/content/drive/My Drive/ApzivaProjects\")\n",
        "\n",
        "# Importing dataset\n",
        "path = r'ACME-HappinessSurvey2020.csv'\n",
        "customer_data = pd.read_csv(f\"{path}\")\n",
        "\n",
        "customer_data"
      ]
    },
    {
      "cell_type": "code",
      "execution_count": 8,
      "metadata": {
        "id": "Xemj0TbmcC-x"
      },
      "outputs": [],
      "source": [
        "# rename the columns\n",
        "data = customer_data.rename(columns = {'Y': 'happiness', 'X1':'on_time_delivery', 'X2':'contents_of_order', 'X3':'ordered_everything', 'X4': 'good_price_paid', 'X5':'courier_satisfaction', 'X6': 'easy_ordering_app'})"
      ]
    },
    {
      "cell_type": "markdown",
      "metadata": {
        "id": "7lDgCXjJcFGh"
      },
      "source": [
        "#### Descriptive Analysis"
      ]
    },
    {
      "cell_type": "code",
      "execution_count": 9,
      "metadata": {
        "colab": {
          "base_uri": "https://localhost:8080/",
          "height": 300
        },
        "id": "qiMJ5NlQcFaA",
        "outputId": "c58226e9-22fc-4fef-d359-ad8ec60829be"
      },
      "outputs": [
        {
          "output_type": "execute_result",
          "data": {
            "text/plain": [
              "        happiness  on_time_delivery  contents_of_order  ordered_everything  \\\n",
              "count  126.000000        126.000000         126.000000          126.000000   \n",
              "mean     0.547619          4.333333           2.531746            3.309524   \n",
              "std      0.499714          0.800000           1.114892            1.023440   \n",
              "min      0.000000          1.000000           1.000000            1.000000   \n",
              "25%      0.000000          4.000000           2.000000            3.000000   \n",
              "50%      1.000000          5.000000           3.000000            3.000000   \n",
              "75%      1.000000          5.000000           3.000000            4.000000   \n",
              "max      1.000000          5.000000           5.000000            5.000000   \n",
              "\n",
              "       good_price_paid  courier_satisfaction  easy_ordering_app  \n",
              "count       126.000000            126.000000         126.000000  \n",
              "mean          3.746032              3.650794           4.253968  \n",
              "std           0.875776              1.147641           0.809311  \n",
              "min           1.000000              1.000000           1.000000  \n",
              "25%           3.000000              3.000000           4.000000  \n",
              "50%           4.000000              4.000000           4.000000  \n",
              "75%           4.000000              4.000000           5.000000  \n",
              "max           5.000000              5.000000           5.000000  "
            ],
            "text/html": [
              "\n",
              "  <div id=\"df-2d73265d-97bd-4bc0-a264-9ff39b7fd037\" class=\"colab-df-container\">\n",
              "    <div>\n",
              "<style scoped>\n",
              "    .dataframe tbody tr th:only-of-type {\n",
              "        vertical-align: middle;\n",
              "    }\n",
              "\n",
              "    .dataframe tbody tr th {\n",
              "        vertical-align: top;\n",
              "    }\n",
              "\n",
              "    .dataframe thead th {\n",
              "        text-align: right;\n",
              "    }\n",
              "</style>\n",
              "<table border=\"1\" class=\"dataframe\">\n",
              "  <thead>\n",
              "    <tr style=\"text-align: right;\">\n",
              "      <th></th>\n",
              "      <th>happiness</th>\n",
              "      <th>on_time_delivery</th>\n",
              "      <th>contents_of_order</th>\n",
              "      <th>ordered_everything</th>\n",
              "      <th>good_price_paid</th>\n",
              "      <th>courier_satisfaction</th>\n",
              "      <th>easy_ordering_app</th>\n",
              "    </tr>\n",
              "  </thead>\n",
              "  <tbody>\n",
              "    <tr>\n",
              "      <th>count</th>\n",
              "      <td>126.000000</td>\n",
              "      <td>126.000000</td>\n",
              "      <td>126.000000</td>\n",
              "      <td>126.000000</td>\n",
              "      <td>126.000000</td>\n",
              "      <td>126.000000</td>\n",
              "      <td>126.000000</td>\n",
              "    </tr>\n",
              "    <tr>\n",
              "      <th>mean</th>\n",
              "      <td>0.547619</td>\n",
              "      <td>4.333333</td>\n",
              "      <td>2.531746</td>\n",
              "      <td>3.309524</td>\n",
              "      <td>3.746032</td>\n",
              "      <td>3.650794</td>\n",
              "      <td>4.253968</td>\n",
              "    </tr>\n",
              "    <tr>\n",
              "      <th>std</th>\n",
              "      <td>0.499714</td>\n",
              "      <td>0.800000</td>\n",
              "      <td>1.114892</td>\n",
              "      <td>1.023440</td>\n",
              "      <td>0.875776</td>\n",
              "      <td>1.147641</td>\n",
              "      <td>0.809311</td>\n",
              "    </tr>\n",
              "    <tr>\n",
              "      <th>min</th>\n",
              "      <td>0.000000</td>\n",
              "      <td>1.000000</td>\n",
              "      <td>1.000000</td>\n",
              "      <td>1.000000</td>\n",
              "      <td>1.000000</td>\n",
              "      <td>1.000000</td>\n",
              "      <td>1.000000</td>\n",
              "    </tr>\n",
              "    <tr>\n",
              "      <th>25%</th>\n",
              "      <td>0.000000</td>\n",
              "      <td>4.000000</td>\n",
              "      <td>2.000000</td>\n",
              "      <td>3.000000</td>\n",
              "      <td>3.000000</td>\n",
              "      <td>3.000000</td>\n",
              "      <td>4.000000</td>\n",
              "    </tr>\n",
              "    <tr>\n",
              "      <th>50%</th>\n",
              "      <td>1.000000</td>\n",
              "      <td>5.000000</td>\n",
              "      <td>3.000000</td>\n",
              "      <td>3.000000</td>\n",
              "      <td>4.000000</td>\n",
              "      <td>4.000000</td>\n",
              "      <td>4.000000</td>\n",
              "    </tr>\n",
              "    <tr>\n",
              "      <th>75%</th>\n",
              "      <td>1.000000</td>\n",
              "      <td>5.000000</td>\n",
              "      <td>3.000000</td>\n",
              "      <td>4.000000</td>\n",
              "      <td>4.000000</td>\n",
              "      <td>4.000000</td>\n",
              "      <td>5.000000</td>\n",
              "    </tr>\n",
              "    <tr>\n",
              "      <th>max</th>\n",
              "      <td>1.000000</td>\n",
              "      <td>5.000000</td>\n",
              "      <td>5.000000</td>\n",
              "      <td>5.000000</td>\n",
              "      <td>5.000000</td>\n",
              "      <td>5.000000</td>\n",
              "      <td>5.000000</td>\n",
              "    </tr>\n",
              "  </tbody>\n",
              "</table>\n",
              "</div>\n",
              "    <div class=\"colab-df-buttons\">\n",
              "\n",
              "  <div class=\"colab-df-container\">\n",
              "    <button class=\"colab-df-convert\" onclick=\"convertToInteractive('df-2d73265d-97bd-4bc0-a264-9ff39b7fd037')\"\n",
              "            title=\"Convert this dataframe to an interactive table.\"\n",
              "            style=\"display:none;\">\n",
              "\n",
              "  <svg xmlns=\"http://www.w3.org/2000/svg\" height=\"24px\" viewBox=\"0 -960 960 960\">\n",
              "    <path d=\"M120-120v-720h720v720H120Zm60-500h600v-160H180v160Zm220 220h160v-160H400v160Zm0 220h160v-160H400v160ZM180-400h160v-160H180v160Zm440 0h160v-160H620v160ZM180-180h160v-160H180v160Zm440 0h160v-160H620v160Z\"/>\n",
              "  </svg>\n",
              "    </button>\n",
              "\n",
              "  <style>\n",
              "    .colab-df-container {\n",
              "      display:flex;\n",
              "      gap: 12px;\n",
              "    }\n",
              "\n",
              "    .colab-df-convert {\n",
              "      background-color: #E8F0FE;\n",
              "      border: none;\n",
              "      border-radius: 50%;\n",
              "      cursor: pointer;\n",
              "      display: none;\n",
              "      fill: #1967D2;\n",
              "      height: 32px;\n",
              "      padding: 0 0 0 0;\n",
              "      width: 32px;\n",
              "    }\n",
              "\n",
              "    .colab-df-convert:hover {\n",
              "      background-color: #E2EBFA;\n",
              "      box-shadow: 0px 1px 2px rgba(60, 64, 67, 0.3), 0px 1px 3px 1px rgba(60, 64, 67, 0.15);\n",
              "      fill: #174EA6;\n",
              "    }\n",
              "\n",
              "    .colab-df-buttons div {\n",
              "      margin-bottom: 4px;\n",
              "    }\n",
              "\n",
              "    [theme=dark] .colab-df-convert {\n",
              "      background-color: #3B4455;\n",
              "      fill: #D2E3FC;\n",
              "    }\n",
              "\n",
              "    [theme=dark] .colab-df-convert:hover {\n",
              "      background-color: #434B5C;\n",
              "      box-shadow: 0px 1px 3px 1px rgba(0, 0, 0, 0.15);\n",
              "      filter: drop-shadow(0px 1px 2px rgba(0, 0, 0, 0.3));\n",
              "      fill: #FFFFFF;\n",
              "    }\n",
              "  </style>\n",
              "\n",
              "    <script>\n",
              "      const buttonEl =\n",
              "        document.querySelector('#df-2d73265d-97bd-4bc0-a264-9ff39b7fd037 button.colab-df-convert');\n",
              "      buttonEl.style.display =\n",
              "        google.colab.kernel.accessAllowed ? 'block' : 'none';\n",
              "\n",
              "      async function convertToInteractive(key) {\n",
              "        const element = document.querySelector('#df-2d73265d-97bd-4bc0-a264-9ff39b7fd037');\n",
              "        const dataTable =\n",
              "          await google.colab.kernel.invokeFunction('convertToInteractive',\n",
              "                                                    [key], {});\n",
              "        if (!dataTable) return;\n",
              "\n",
              "        const docLinkHtml = 'Like what you see? Visit the ' +\n",
              "          '<a target=\"_blank\" href=https://colab.research.google.com/notebooks/data_table.ipynb>data table notebook</a>'\n",
              "          + ' to learn more about interactive tables.';\n",
              "        element.innerHTML = '';\n",
              "        dataTable['output_type'] = 'display_data';\n",
              "        await google.colab.output.renderOutput(dataTable, element);\n",
              "        const docLink = document.createElement('div');\n",
              "        docLink.innerHTML = docLinkHtml;\n",
              "        element.appendChild(docLink);\n",
              "      }\n",
              "    </script>\n",
              "  </div>\n",
              "\n",
              "\n",
              "<div id=\"df-2bc48eb0-b3ae-4b7c-9789-e8ee9e305373\">\n",
              "  <button class=\"colab-df-quickchart\" onclick=\"quickchart('df-2bc48eb0-b3ae-4b7c-9789-e8ee9e305373')\"\n",
              "            title=\"Suggest charts\"\n",
              "            style=\"display:none;\">\n",
              "\n",
              "<svg xmlns=\"http://www.w3.org/2000/svg\" height=\"24px\"viewBox=\"0 0 24 24\"\n",
              "     width=\"24px\">\n",
              "    <g>\n",
              "        <path d=\"M19 3H5c-1.1 0-2 .9-2 2v14c0 1.1.9 2 2 2h14c1.1 0 2-.9 2-2V5c0-1.1-.9-2-2-2zM9 17H7v-7h2v7zm4 0h-2V7h2v10zm4 0h-2v-4h2v4z\"/>\n",
              "    </g>\n",
              "</svg>\n",
              "  </button>\n",
              "\n",
              "<style>\n",
              "  .colab-df-quickchart {\n",
              "      --bg-color: #E8F0FE;\n",
              "      --fill-color: #1967D2;\n",
              "      --hover-bg-color: #E2EBFA;\n",
              "      --hover-fill-color: #174EA6;\n",
              "      --disabled-fill-color: #AAA;\n",
              "      --disabled-bg-color: #DDD;\n",
              "  }\n",
              "\n",
              "  [theme=dark] .colab-df-quickchart {\n",
              "      --bg-color: #3B4455;\n",
              "      --fill-color: #D2E3FC;\n",
              "      --hover-bg-color: #434B5C;\n",
              "      --hover-fill-color: #FFFFFF;\n",
              "      --disabled-bg-color: #3B4455;\n",
              "      --disabled-fill-color: #666;\n",
              "  }\n",
              "\n",
              "  .colab-df-quickchart {\n",
              "    background-color: var(--bg-color);\n",
              "    border: none;\n",
              "    border-radius: 50%;\n",
              "    cursor: pointer;\n",
              "    display: none;\n",
              "    fill: var(--fill-color);\n",
              "    height: 32px;\n",
              "    padding: 0;\n",
              "    width: 32px;\n",
              "  }\n",
              "\n",
              "  .colab-df-quickchart:hover {\n",
              "    background-color: var(--hover-bg-color);\n",
              "    box-shadow: 0 1px 2px rgba(60, 64, 67, 0.3), 0 1px 3px 1px rgba(60, 64, 67, 0.15);\n",
              "    fill: var(--button-hover-fill-color);\n",
              "  }\n",
              "\n",
              "  .colab-df-quickchart-complete:disabled,\n",
              "  .colab-df-quickchart-complete:disabled:hover {\n",
              "    background-color: var(--disabled-bg-color);\n",
              "    fill: var(--disabled-fill-color);\n",
              "    box-shadow: none;\n",
              "  }\n",
              "\n",
              "  .colab-df-spinner {\n",
              "    border: 2px solid var(--fill-color);\n",
              "    border-color: transparent;\n",
              "    border-bottom-color: var(--fill-color);\n",
              "    animation:\n",
              "      spin 1s steps(1) infinite;\n",
              "  }\n",
              "\n",
              "  @keyframes spin {\n",
              "    0% {\n",
              "      border-color: transparent;\n",
              "      border-bottom-color: var(--fill-color);\n",
              "      border-left-color: var(--fill-color);\n",
              "    }\n",
              "    20% {\n",
              "      border-color: transparent;\n",
              "      border-left-color: var(--fill-color);\n",
              "      border-top-color: var(--fill-color);\n",
              "    }\n",
              "    30% {\n",
              "      border-color: transparent;\n",
              "      border-left-color: var(--fill-color);\n",
              "      border-top-color: var(--fill-color);\n",
              "      border-right-color: var(--fill-color);\n",
              "    }\n",
              "    40% {\n",
              "      border-color: transparent;\n",
              "      border-right-color: var(--fill-color);\n",
              "      border-top-color: var(--fill-color);\n",
              "    }\n",
              "    60% {\n",
              "      border-color: transparent;\n",
              "      border-right-color: var(--fill-color);\n",
              "    }\n",
              "    80% {\n",
              "      border-color: transparent;\n",
              "      border-right-color: var(--fill-color);\n",
              "      border-bottom-color: var(--fill-color);\n",
              "    }\n",
              "    90% {\n",
              "      border-color: transparent;\n",
              "      border-bottom-color: var(--fill-color);\n",
              "    }\n",
              "  }\n",
              "</style>\n",
              "\n",
              "  <script>\n",
              "    async function quickchart(key) {\n",
              "      const quickchartButtonEl =\n",
              "        document.querySelector('#' + key + ' button');\n",
              "      quickchartButtonEl.disabled = true;  // To prevent multiple clicks.\n",
              "      quickchartButtonEl.classList.add('colab-df-spinner');\n",
              "      try {\n",
              "        const charts = await google.colab.kernel.invokeFunction(\n",
              "            'suggestCharts', [key], {});\n",
              "      } catch (error) {\n",
              "        console.error('Error during call to suggestCharts:', error);\n",
              "      }\n",
              "      quickchartButtonEl.classList.remove('colab-df-spinner');\n",
              "      quickchartButtonEl.classList.add('colab-df-quickchart-complete');\n",
              "    }\n",
              "    (() => {\n",
              "      let quickchartButtonEl =\n",
              "        document.querySelector('#df-2bc48eb0-b3ae-4b7c-9789-e8ee9e305373 button');\n",
              "      quickchartButtonEl.style.display =\n",
              "        google.colab.kernel.accessAllowed ? 'block' : 'none';\n",
              "    })();\n",
              "  </script>\n",
              "</div>\n",
              "\n",
              "    </div>\n",
              "  </div>\n"
            ],
            "application/vnd.google.colaboratory.intrinsic+json": {
              "type": "dataframe",
              "summary": "{\n  \"name\": \"data\",\n  \"rows\": 8,\n  \"fields\": [\n    {\n      \"column\": \"happiness\",\n      \"properties\": {\n        \"dtype\": \"number\",\n        \"std\": 44.34525419957374,\n        \"min\": 0.0,\n        \"max\": 126.0,\n        \"num_unique_values\": 5,\n        \"samples\": [\n          0.5476190476190477,\n          1.0,\n          0.4997142040349521\n        ],\n        \"semantic_type\": \"\",\n        \"description\": \"\"\n      }\n    },\n    {\n      \"column\": \"on_time_delivery\",\n      \"properties\": {\n        \"dtype\": \"number\",\n        \"std\": 43.31323984686144,\n        \"min\": 0.8,\n        \"max\": 126.0,\n        \"num_unique_values\": 6,\n        \"samples\": [\n          126.0,\n          4.333333333333333,\n          5.0\n        ],\n        \"semantic_type\": \"\",\n        \"description\": \"\"\n      }\n    },\n    {\n      \"column\": \"contents_of_order\",\n      \"properties\": {\n        \"dtype\": \"number\",\n        \"std\": 43.6747036061378,\n        \"min\": 1.0,\n        \"max\": 126.0,\n        \"num_unique_values\": 7,\n        \"samples\": [\n          126.0,\n          2.5317460317460316,\n          3.0\n        ],\n        \"semantic_type\": \"\",\n        \"description\": \"\"\n      }\n    },\n    {\n      \"column\": \"ordered_everything\",\n      \"properties\": {\n        \"dtype\": \"number\",\n        \"std\": 43.5419885277691,\n        \"min\": 1.0,\n        \"max\": 126.0,\n        \"num_unique_values\": 7,\n        \"samples\": [\n          126.0,\n          3.3095238095238093,\n          4.0\n        ],\n        \"semantic_type\": \"\",\n        \"description\": \"\"\n      }\n    },\n    {\n      \"column\": \"good_price_paid\",\n      \"properties\": {\n        \"dtype\": \"number\",\n        \"std\": 43.480332108134476,\n        \"min\": 0.8757762996245827,\n        \"max\": 126.0,\n        \"num_unique_values\": 7,\n        \"samples\": [\n          126.0,\n          3.746031746031746,\n          4.0\n        ],\n        \"semantic_type\": \"\",\n        \"description\": \"\"\n      }\n    },\n    {\n      \"column\": \"courier_satisfaction\",\n      \"properties\": {\n        \"dtype\": \"number\",\n        \"std\": 43.46936231586972,\n        \"min\": 1.0,\n        \"max\": 126.0,\n        \"num_unique_values\": 7,\n        \"samples\": [\n          126.0,\n          3.6507936507936507,\n          4.0\n        ],\n        \"semantic_type\": \"\",\n        \"description\": \"\"\n      }\n    },\n    {\n      \"column\": \"easy_ordering_app\",\n      \"properties\": {\n        \"dtype\": \"number\",\n        \"std\": 43.36370727654915,\n        \"min\": 0.8093108963705646,\n        \"max\": 126.0,\n        \"num_unique_values\": 6,\n        \"samples\": [\n          126.0,\n          4.253968253968254,\n          5.0\n        ],\n        \"semantic_type\": \"\",\n        \"description\": \"\"\n      }\n    }\n  ]\n}"
            }
          },
          "metadata": {},
          "execution_count": 9
        }
      ],
      "source": [
        "data.describe()"
      ]
    },
    {
      "cell_type": "markdown",
      "metadata": {
        "id": "yhGDjUXocN3l"
      },
      "source": [
        "#### Analyzing Correlation Between Variables"
      ]
    },
    {
      "cell_type": "code",
      "execution_count": 10,
      "metadata": {
        "colab": {
          "base_uri": "https://localhost:8080/",
          "height": 269
        },
        "id": "n7bFCPo3cME5",
        "outputId": "9049c31c-4e06-421a-e46d-fadd9a641c09"
      },
      "outputs": [
        {
          "output_type": "execute_result",
          "data": {
            "text/plain": [
              "<pandas.io.formats.style.Styler at 0x7c8fae973880>"
            ],
            "text/html": [
              "<style type=\"text/css\">\n",
              "#T_b5830_row0_col0, #T_b5830_row1_col1, #T_b5830_row2_col2, #T_b5830_row3_col3, #T_b5830_row4_col4, #T_b5830_row5_col5, #T_b5830_row6_col6 {\n",
              "  background-color: #800026;\n",
              "  color: #f1f1f1;\n",
              "}\n",
              "#T_b5830_row0_col1, #T_b5830_row3_col1 {\n",
              "  background-color: #fedb7b;\n",
              "  color: #000000;\n",
              "}\n",
              "#T_b5830_row0_col2 {\n",
              "  background-color: #fffac0;\n",
              "  color: #000000;\n",
              "}\n",
              "#T_b5830_row0_col3, #T_b5830_row0_col4, #T_b5830_row2_col0, #T_b5830_row2_col1, #T_b5830_row2_col5, #T_b5830_row2_col6, #T_b5830_row6_col2 {\n",
              "  background-color: #ffffcc;\n",
              "  color: #000000;\n",
              "}\n",
              "#T_b5830_row0_col5 {\n",
              "  background-color: #fee289;\n",
              "  color: #000000;\n",
              "}\n",
              "#T_b5830_row0_col6 {\n",
              "  background-color: #fede82;\n",
              "  color: #000000;\n",
              "}\n",
              "#T_b5830_row1_col0 {\n",
              "  background-color: #feca66;\n",
              "  color: #000000;\n",
              "}\n",
              "#T_b5830_row1_col2 {\n",
              "  background-color: #ffefa4;\n",
              "  color: #000000;\n",
              "}\n",
              "#T_b5830_row1_col3 {\n",
              "  background-color: #ffe997;\n",
              "  color: #000000;\n",
              "}\n",
              "#T_b5830_row1_col4 {\n",
              "  background-color: #fffcc4;\n",
              "  color: #000000;\n",
              "}\n",
              "#T_b5830_row1_col5 {\n",
              "  background-color: #fea848;\n",
              "  color: #000000;\n",
              "}\n",
              "#T_b5830_row1_col6 {\n",
              "  background-color: #fd9d43;\n",
              "  color: #000000;\n",
              "}\n",
              "#T_b5830_row2_col3 {\n",
              "  background-color: #fff9be;\n",
              "  color: #000000;\n",
              "}\n",
              "#T_b5830_row2_col4 {\n",
              "  background-color: #fff8ba;\n",
              "  color: #000000;\n",
              "}\n",
              "#T_b5830_row3_col0 {\n",
              "  background-color: #ffe691;\n",
              "  color: #000000;\n",
              "}\n",
              "#T_b5830_row3_col2 {\n",
              "  background-color: #fedc7c;\n",
              "  color: #000000;\n",
              "}\n",
              "#T_b5830_row3_col4 {\n",
              "  background-color: #fed774;\n",
              "  color: #000000;\n",
              "}\n",
              "#T_b5830_row3_col5 {\n",
              "  background-color: #fec05b;\n",
              "  color: #000000;\n",
              "}\n",
              "#T_b5830_row3_col6 {\n",
              "  background-color: #fed976;\n",
              "  color: #000000;\n",
              "}\n",
              "#T_b5830_row4_col0 {\n",
              "  background-color: #fff3ae;\n",
              "  color: #000000;\n",
              "}\n",
              "#T_b5830_row4_col1 {\n",
              "  background-color: #fffbc2;\n",
              "  color: #000000;\n",
              "}\n",
              "#T_b5830_row4_col2 {\n",
              "  background-color: #ffe793;\n",
              "  color: #000000;\n",
              "}\n",
              "#T_b5830_row4_col3 {\n",
              "  background-color: #ffe58f;\n",
              "  color: #000000;\n",
              "}\n",
              "#T_b5830_row4_col5, #T_b5830_row4_col6 {\n",
              "  background-color: #fed572;\n",
              "  color: #000000;\n",
              "}\n",
              "#T_b5830_row5_col0, #T_b5830_row5_col3, #T_b5830_row5_col4 {\n",
              "  background-color: #feda78;\n",
              "  color: #000000;\n",
              "}\n",
              "#T_b5830_row5_col1 {\n",
              "  background-color: #feac49;\n",
              "  color: #000000;\n",
              "}\n",
              "#T_b5830_row5_col2 {\n",
              "  background-color: #fff1ab;\n",
              "  color: #000000;\n",
              "}\n",
              "#T_b5830_row5_col6 {\n",
              "  background-color: #feb651;\n",
              "  color: #000000;\n",
              "}\n",
              "#T_b5830_row6_col0 {\n",
              "  background-color: #ffe48c;\n",
              "  color: #000000;\n",
              "}\n",
              "#T_b5830_row6_col1 {\n",
              "  background-color: #feb34d;\n",
              "  color: #000000;\n",
              "}\n",
              "#T_b5830_row6_col3 {\n",
              "  background-color: #fff7b7;\n",
              "  color: #000000;\n",
              "}\n",
              "#T_b5830_row6_col4 {\n",
              "  background-color: #ffe794;\n",
              "  color: #000000;\n",
              "}\n",
              "#T_b5830_row6_col5 {\n",
              "  background-color: #fecc68;\n",
              "  color: #000000;\n",
              "}\n",
              "</style>\n",
              "<table id=\"T_b5830\" class=\"dataframe\">\n",
              "  <thead>\n",
              "    <tr>\n",
              "      <th class=\"blank level0\" >&nbsp;</th>\n",
              "      <th id=\"T_b5830_level0_col0\" class=\"col_heading level0 col0\" >happiness</th>\n",
              "      <th id=\"T_b5830_level0_col1\" class=\"col_heading level0 col1\" >on_time_delivery</th>\n",
              "      <th id=\"T_b5830_level0_col2\" class=\"col_heading level0 col2\" >contents_of_order</th>\n",
              "      <th id=\"T_b5830_level0_col3\" class=\"col_heading level0 col3\" >ordered_everything</th>\n",
              "      <th id=\"T_b5830_level0_col4\" class=\"col_heading level0 col4\" >good_price_paid</th>\n",
              "      <th id=\"T_b5830_level0_col5\" class=\"col_heading level0 col5\" >courier_satisfaction</th>\n",
              "      <th id=\"T_b5830_level0_col6\" class=\"col_heading level0 col6\" >easy_ordering_app</th>\n",
              "    </tr>\n",
              "  </thead>\n",
              "  <tbody>\n",
              "    <tr>\n",
              "      <th id=\"T_b5830_level0_row0\" class=\"row_heading level0 row0\" >happiness</th>\n",
              "      <td id=\"T_b5830_row0_col0\" class=\"data row0 col0\" >1.000000</td>\n",
              "      <td id=\"T_b5830_row0_col1\" class=\"data row0 col1\" >0.280160</td>\n",
              "      <td id=\"T_b5830_row0_col2\" class=\"data row0 col2\" >-0.024274</td>\n",
              "      <td id=\"T_b5830_row0_col3\" class=\"data row0 col3\" >0.150838</td>\n",
              "      <td id=\"T_b5830_row0_col4\" class=\"data row0 col4\" >0.064415</td>\n",
              "      <td id=\"T_b5830_row0_col5\" class=\"data row0 col5\" >0.224522</td>\n",
              "      <td id=\"T_b5830_row0_col6\" class=\"data row0 col6\" >0.167669</td>\n",
              "    </tr>\n",
              "    <tr>\n",
              "      <th id=\"T_b5830_level0_row1\" class=\"row_heading level0 row1\" >on_time_delivery</th>\n",
              "      <td id=\"T_b5830_row1_col0\" class=\"data row1 col0\" >0.280160</td>\n",
              "      <td id=\"T_b5830_row1_col1\" class=\"data row1 col1\" >1.000000</td>\n",
              "      <td id=\"T_b5830_row1_col2\" class=\"data row1 col2\" >0.059797</td>\n",
              "      <td id=\"T_b5830_row1_col3\" class=\"data row1 col3\" >0.283358</td>\n",
              "      <td id=\"T_b5830_row1_col4\" class=\"data row1 col4\" >0.087541</td>\n",
              "      <td id=\"T_b5830_row1_col5\" class=\"data row1 col5\" >0.432772</td>\n",
              "      <td id=\"T_b5830_row1_col6\" class=\"data row1 col6\" >0.411873</td>\n",
              "    </tr>\n",
              "    <tr>\n",
              "      <th id=\"T_b5830_level0_row2\" class=\"row_heading level0 row2\" >contents_of_order</th>\n",
              "      <td id=\"T_b5830_row2_col0\" class=\"data row2 col0\" >-0.024274</td>\n",
              "      <td id=\"T_b5830_row2_col1\" class=\"data row2 col1\" >0.059797</td>\n",
              "      <td id=\"T_b5830_row2_col2\" class=\"data row2 col2\" >1.000000</td>\n",
              "      <td id=\"T_b5830_row2_col3\" class=\"data row2 col3\" >0.184129</td>\n",
              "      <td id=\"T_b5830_row2_col4\" class=\"data row2 col4\" >0.114838</td>\n",
              "      <td id=\"T_b5830_row2_col5\" class=\"data row2 col5\" >0.039996</td>\n",
              "      <td id=\"T_b5830_row2_col6\" class=\"data row2 col6\" >-0.062205</td>\n",
              "    </tr>\n",
              "    <tr>\n",
              "      <th id=\"T_b5830_level0_row3\" class=\"row_heading level0 row3\" >ordered_everything</th>\n",
              "      <td id=\"T_b5830_row3_col0\" class=\"data row3 col0\" >0.150838</td>\n",
              "      <td id=\"T_b5830_row3_col1\" class=\"data row3 col1\" >0.283358</td>\n",
              "      <td id=\"T_b5830_row3_col2\" class=\"data row3 col2\" >0.184129</td>\n",
              "      <td id=\"T_b5830_row3_col3\" class=\"data row3 col3\" >1.000000</td>\n",
              "      <td id=\"T_b5830_row3_col4\" class=\"data row3 col4\" >0.302618</td>\n",
              "      <td id=\"T_b5830_row3_col5\" class=\"data row3 col5\" >0.358397</td>\n",
              "      <td id=\"T_b5830_row3_col6\" class=\"data row3 col6\" >0.203750</td>\n",
              "    </tr>\n",
              "    <tr>\n",
              "      <th id=\"T_b5830_level0_row4\" class=\"row_heading level0 row4\" >good_price_paid</th>\n",
              "      <td id=\"T_b5830_row4_col0\" class=\"data row4 col0\" >0.064415</td>\n",
              "      <td id=\"T_b5830_row4_col1\" class=\"data row4 col1\" >0.087541</td>\n",
              "      <td id=\"T_b5830_row4_col2\" class=\"data row4 col2\" >0.114838</td>\n",
              "      <td id=\"T_b5830_row4_col3\" class=\"data row4 col3\" >0.302618</td>\n",
              "      <td id=\"T_b5830_row4_col4\" class=\"data row4 col4\" >1.000000</td>\n",
              "      <td id=\"T_b5830_row4_col5\" class=\"data row4 col5\" >0.293115</td>\n",
              "      <td id=\"T_b5830_row4_col6\" class=\"data row4 col6\" >0.215888</td>\n",
              "    </tr>\n",
              "    <tr>\n",
              "      <th id=\"T_b5830_level0_row5\" class=\"row_heading level0 row5\" >courier_satisfaction</th>\n",
              "      <td id=\"T_b5830_row5_col0\" class=\"data row5 col0\" >0.224522</td>\n",
              "      <td id=\"T_b5830_row5_col1\" class=\"data row5 col1\" >0.432772</td>\n",
              "      <td id=\"T_b5830_row5_col2\" class=\"data row5 col2\" >0.039996</td>\n",
              "      <td id=\"T_b5830_row5_col3\" class=\"data row5 col3\" >0.358397</td>\n",
              "      <td id=\"T_b5830_row5_col4\" class=\"data row5 col4\" >0.293115</td>\n",
              "      <td id=\"T_b5830_row5_col5\" class=\"data row5 col5\" >1.000000</td>\n",
              "      <td id=\"T_b5830_row5_col6\" class=\"data row5 col6\" >0.320195</td>\n",
              "    </tr>\n",
              "    <tr>\n",
              "      <th id=\"T_b5830_level0_row6\" class=\"row_heading level0 row6\" >easy_ordering_app</th>\n",
              "      <td id=\"T_b5830_row6_col0\" class=\"data row6 col0\" >0.167669</td>\n",
              "      <td id=\"T_b5830_row6_col1\" class=\"data row6 col1\" >0.411873</td>\n",
              "      <td id=\"T_b5830_row6_col2\" class=\"data row6 col2\" >-0.062205</td>\n",
              "      <td id=\"T_b5830_row6_col3\" class=\"data row6 col3\" >0.203750</td>\n",
              "      <td id=\"T_b5830_row6_col4\" class=\"data row6 col4\" >0.215888</td>\n",
              "      <td id=\"T_b5830_row6_col5\" class=\"data row6 col5\" >0.320195</td>\n",
              "      <td id=\"T_b5830_row6_col6\" class=\"data row6 col6\" >1.000000</td>\n",
              "    </tr>\n",
              "  </tbody>\n",
              "</table>\n"
            ]
          },
          "metadata": {},
          "execution_count": 10
        }
      ],
      "source": [
        "#Get correlation between the variables\n",
        "corr = data.corr(numeric_only = True)\n",
        "corr.style.background_gradient(cmap='YlOrRd')"
      ]
    },
    {
      "cell_type": "markdown",
      "metadata": {
        "id": "HyMuxieRcR9J"
      },
      "source": [
        "#### Visualizing Categorical Variables by Customer Happiness"
      ]
    },
    {
      "cell_type": "code",
      "execution_count": 18,
      "metadata": {
        "colab": {
          "base_uri": "https://localhost:8080/",
          "height": 807
        },
        "id": "85Zpgaw-cSIC",
        "outputId": "77322dfa-bd9d-480f-f5bc-a8e627351ef3"
      },
      "outputs": [
        {
          "output_type": "display_data",
          "data": {
            "text/plain": [
              "<Figure size 600x800 with 6 Axes>"
            ],
            "image/png": "[encoded data removed]"
          },
          "metadata": {}
        }
      ],
      "source": [
        "import warnings\n",
        "warnings.filterwarnings('ignore')\n",
        "\n",
        "\n",
        "fig, axes = plt.subplots(3, 2, figsize=(6, 8), constrained_layout=True)\n",
        "\n",
        "# First plot for Variable X1 - my order was delivered on time\n",
        "sns.countplot(x='on_time_delivery', hue='happiness', data=data, ax=axes[0, 0])\n",
        "axes[0, 0].set_xlabel('On-Time Delivery')\n",
        "axes[0, 0].set_ylabel('Count')\n",
        "\n",
        "# Second plot for Variable X2 - contents of my order was as I expected\n",
        "sns.countplot(x='contents_of_order', hue='happiness', data=data, ax=axes[0, 1])\n",
        "axes[0, 1].set_xlabel('Contents of Order')\n",
        "axes[0, 1].set_ylabel('Count')\n",
        "\n",
        "# Third plot for Variable X3 - I ordered everything I wanted to order\n",
        "sns.countplot(x='ordered_everything', hue='happiness', data=data, ax=axes[1, 0])\n",
        "axes[1, 0].set_xlabel('Ordered Everything')\n",
        "axes[1, 0].set_ylabel('Count')\n",
        "\n",
        "# Fourth plot for Variable X4 - I paid a good price for my order\n",
        "sns.countplot(x='good_price_paid', hue='happiness', data=data, ax=axes[1, 1])\n",
        "axes[1, 1].set_xlabel('Good Price Paid')\n",
        "axes[1, 1].set_ylabel('Count')\n",
        "\n",
        "# Fifth plot for Variable X5 - I am satisfied with my courier\n",
        "sns.countplot(x='courier_satisfaction', hue='happiness', data=data, ax=axes[2, 0])\n",
        "axes[2, 0].set_xlabel('Courier Satisfaction')\n",
        "axes[2, 0].set_ylabel('Count')\n",
        "\n",
        "# Sixth plot for Variable X6 - the app makes ordering easy for me\n",
        "sns.countplot(x='easy_ordering_app', hue='happiness', data=data, ax=axes[2, 1])\n",
        "axes[2, 1].set_xlabel('Easy Ordering App')\n",
        "axes[2, 1].set_ylabel('Count')\n",
        "\n",
        "# Rotate x-axis labels for the bottom row\n",
        "for ax in axes[2, :]:\n",
        "    ax.set_xticklabels(ax.get_xticklabels(), rotation=30, ha='right')\n",
        "\n",
        "# Adjust layout\n",
        "fig.tight_layout()\n",
        "plt.show()\n",
        "\n"
      ]
    },
    {
      "cell_type": "markdown",
      "metadata": {
        "id": "Sa9U7d8acXpL"
      },
      "source": [
        "#### Visualizing Distribution of Variables Using Boxplot"
      ]
    },
    {
      "cell_type": "code",
      "execution_count": 20,
      "metadata": {
        "colab": {
          "base_uri": "https://localhost:8080/",
          "height": 407
        },
        "id": "njgNuFZ8cXyY",
        "outputId": "8c63ee56-b354-49d3-8ea2-4f3211ca89b4"
      },
      "outputs": [
        {
          "output_type": "display_data",
          "data": {
            "text/plain": [
              "<Figure size 800x400 with 1 Axes>"
            ],
            "image/png": "[encoded data removed]"
          },
          "metadata": {}
        }
      ],
      "source": [
        "#Boxplot for variables\n",
        "\n",
        "variables = data[['on_time_delivery',\t'contents_of_order',\t'ordered_everything',\t'good_price_paid',\t'courier_satisfaction',\t'easy_ordering_app']]\n",
        "\n",
        "# Increase figure size for better readability\n",
        "plt.figure(figsize=(8, 4))\n",
        "\n",
        "# Create the boxplot\n",
        "sns.boxplot(data=variables)\n",
        "\n",
        "# Rotate x-axis labels to prevent overlapping\n",
        "plt.xticks(rotation=45, ha='right')\n",
        "\n",
        "# Adjust layout to ensure everything fits well\n",
        "plt.tight_layout()\n",
        "\n",
        "# Show the plot\n",
        "plt.show()"
      ]
    },
    {
      "cell_type": "markdown",
      "source": [
        "\n",
        "**Observation:**\n",
        "\n",
        "*   For Concents_of_order variable the Customer happiness is found to be really low.\n",
        "\n",
        "*   Comparitively good responses received for On_time_delivery and Easy_ordering_app.\n"
      ],
      "metadata": {
        "id": "_A0J5Mg_vkWv"
      }
    },
    {
      "cell_type": "markdown",
      "source": [
        "#### Visualizing the Distribution of Customer Happiness- (Output variable)"
      ],
      "metadata": {
        "id": "VzZ9Jc-r7vhm"
      }
    },
    {
      "cell_type": "code",
      "execution_count": 21,
      "metadata": {
        "colab": {
          "base_uri": "https://localhost:8080/",
          "height": 406
        },
        "id": "aadzGpv5cfGR",
        "outputId": "715eb8ab-3917-4523-91fe-8fa3cc824de7"
      },
      "outputs": [
        {
          "output_type": "display_data",
          "data": {
            "text/plain": [
              "<Figure size 300x400 with 1 Axes>"
            ],
            "image/png": "[encoded data removed]"
          },
          "metadata": {}
        }
      ],
      "source": [
        "#Plot Output variable Y\n",
        "\n",
        "plt.figure(figsize=(3, 4))\n",
        "ax = sns.countplot(x='happiness', data=data)\n",
        "\n",
        "# Calculate the total count and percentages\n",
        "total = len(data)\n",
        "for p in ax.patches:\n",
        "    height = p.get_height()\n",
        "    percentage = (height / total) * 100\n",
        "    ax.annotate(f'{percentage:.1f}%',\n",
        "                (p.get_x() + p.get_width() / 2., height),\n",
        "                ha='center', va='center',\n",
        "                xytext=(0, 5),\n",
        "                textcoords='offset points')\n",
        "\n",
        "# Show the plot\n",
        "plt.tight_layout()\n",
        "plt.show()"
      ]
    },
    {
      "cell_type": "markdown",
      "source": [
        "### **Observations from EDA**\n",
        "\n",
        "**On Time**: Seems to have the strongest correlation out of all the features.\n",
        "\n",
        "**Contents as Expected**: Does NOT seem to have any strong relationship to happiness.\n",
        "\n",
        "**Ordered Everything**: Also does NOT seem to have any meaningful relationship to happiness.\n",
        "\n",
        "**Good Price**: Seems to have a loosely positive correlation to happiness, this is also shown through the correlation matrix.\n",
        "\n",
        "**Satisfied With Courier**: Has a strong positive linear relationship to happiness.\n",
        "\n",
        "**App Easy**: Positively correlated to happiness.\n",
        "\n",
        "**Output Y**: The percentage of Happy and Unhappy Customers are found to almost equal interms of the percentages. Since, there is very little data in the dataset which skews what ratings accurately tend to increase customer satisfaction, there is a high chance this will skew models ability to predict."
      ],
      "metadata": {
        "id": "t3WrfmFR6nrO"
      }
    },
    {
      "cell_type": "markdown",
      "metadata": {
        "id": "64rGV7n7cgKw"
      },
      "source": [
        "## Modelling\n",
        "\n",
        "### Split and Train data"
      ]
    },
    {
      "cell_type": "code",
      "execution_count": 22,
      "metadata": {
        "colab": {
          "base_uri": "https://localhost:8080/"
        },
        "id": "ySDE-EyfcgRp",
        "outputId": "bf2e3bcc-c35f-44fb-8c98-f990c91efde9"
      },
      "outputs": [
        {
          "output_type": "stream",
          "name": "stdout",
          "text": [
            "5516\n",
            "Training set has 100 samples\n",
            "Training set has 100 samples\n",
            "Test set has 26 samples\n",
            "Test set has 26 samples\n"
          ]
        }
      ],
      "source": [
        "from sklearn.model_selection import train_test_split\n",
        "import random\n",
        "#seed = random.randint(1000,9999)\n",
        "seed = 5516\n",
        "# Assign the seed after experimenting\n",
        "print(seed)\n",
        "\n",
        "train, test = train_test_split(data, test_size=0.2, random_state=seed)\n",
        "#train, val = train_test_split(train, test_size=0.2, random_state=seed)\n",
        "X_train = train.drop(columns=['happiness'])\n",
        "y_train = train['happiness']\n",
        "\n",
        "#X_val = val.drop(columns=['Y'])\n",
        "#y_val = val['Y']\n",
        "\n",
        "X_test = test.drop(columns=['happiness'])\n",
        "y_test = test['happiness']\n",
        "\n",
        "print(f\"Training set has {len(X_train)} samples\")\n",
        "print(f\"Training set has {len(y_train)} samples\")\n",
        "#print(f\"Validation set has {len(X_val)} samples\")\n",
        "#print(f\"Validation set has {len(y_val)} samples\")\n",
        "print(f\"Test set has {len(X_test)} samples\")\n",
        "print(f\"Test set has {len(y_test)} samples\")"
      ]
    },
    {
      "cell_type": "markdown",
      "metadata": {
        "id": "slvghE-GcnU3"
      },
      "source": [
        "#### Lazy Predict Algorithm\n"
      ]
    },
    {
      "cell_type": "code",
      "execution_count": 25,
      "metadata": {
        "colab": {
          "base_uri": "https://localhost:8080/"
        },
        "id": "bgVTbWg-cnco",
        "outputId": "bb34734d-e331-4538-fff1-431e2013b2bc"
      },
      "outputs": [
        {
          "output_type": "stream",
          "name": "stderr",
          "text": [
            "100%|██████████| 29/29 [00:04<00:00,  6.77it/s]"
          ]
        },
        {
          "output_type": "stream",
          "name": "stdout",
          "text": [
            "[LightGBM] [Info] Number of positive: 52, number of negative: 48\n",
            "[LightGBM] [Info] Auto-choosing col-wise multi-threading, the overhead of testing was 0.000045 seconds.\n",
            "You can set `force_col_wise=true` to remove the overhead.\n",
            "[LightGBM] [Info] Total Bins 31\n",
            "[LightGBM] [Info] Number of data points in the train set: 100, number of used features: 6\n",
            "[LightGBM] [Info] [binary:BoostFromScore]: pavg=0.520000 -> initscore=0.080043\n",
            "[LightGBM] [Info] Start training from score 0.080043\n",
            "[LightGBM] [Warning] No further splits with positive gain, best gain: -inf\n",
            "[LightGBM] [Warning] No further splits with positive gain, best gain: -inf\n",
            "[LightGBM] [Warning] No further splits with positive gain, best gain: -inf\n",
            "[LightGBM] [Warning] No further splits with positive gain, best gain: -inf\n",
            "[LightGBM] [Warning] No further splits with positive gain, best gain: -inf\n",
            "[LightGBM] [Warning] No further splits with positive gain, best gain: -inf\n",
            "[LightGBM] [Warning] No further splits with positive gain, best gain: -inf\n",
            "[LightGBM] [Warning] No further splits with positive gain, best gain: -inf\n",
            "[LightGBM] [Warning] No further splits with positive gain, best gain: -inf\n",
            "[LightGBM] [Warning] No further splits with positive gain, best gain: -inf\n",
            "[LightGBM] [Warning] No further splits with positive gain, best gain: -inf\n",
            "[LightGBM] [Warning] No further splits with positive gain, best gain: -inf\n",
            "[LightGBM] [Warning] No further splits with positive gain, best gain: -inf\n",
            "[LightGBM] [Warning] No further splits with positive gain, best gain: -inf\n",
            "[LightGBM] [Warning] No further splits with positive gain, best gain: -inf\n",
            "[LightGBM] [Warning] No further splits with positive gain, best gain: -inf\n",
            "[LightGBM] [Warning] No further splits with positive gain, best gain: -inf\n",
            "[LightGBM] [Warning] No further splits with positive gain, best gain: -inf\n",
            "[LightGBM] [Warning] No further splits with positive gain, best gain: -inf\n",
            "[LightGBM] [Warning] No further splits with positive gain, best gain: -inf\n",
            "[LightGBM] [Warning] No further splits with positive gain, best gain: -inf\n",
            "[LightGBM] [Warning] No further splits with positive gain, best gain: -inf\n",
            "[LightGBM] [Warning] No further splits with positive gain, best gain: -inf\n",
            "[LightGBM] [Warning] No further splits with positive gain, best gain: -inf\n",
            "[LightGBM] [Warning] No further splits with positive gain, best gain: -inf\n",
            "[LightGBM] [Warning] No further splits with positive gain, best gain: -inf\n",
            "[LightGBM] [Warning] No further splits with positive gain, best gain: -inf\n",
            "[LightGBM] [Warning] No further splits with positive gain, best gain: -inf\n",
            "[LightGBM] [Warning] No further splits with positive gain, best gain: -inf\n",
            "[LightGBM] [Warning] No further splits with positive gain, best gain: -inf\n",
            "[LightGBM] [Warning] No further splits with positive gain, best gain: -inf\n",
            "[LightGBM] [Warning] No further splits with positive gain, best gain: -inf\n",
            "[LightGBM] [Warning] No further splits with positive gain, best gain: -inf\n",
            "[LightGBM] [Warning] No further splits with positive gain, best gain: -inf\n",
            "[LightGBM] [Warning] No further splits with positive gain, best gain: -inf\n",
            "[LightGBM] [Warning] No further splits with positive gain, best gain: -inf\n",
            "[LightGBM] [Warning] No further splits with positive gain, best gain: -inf\n",
            "[LightGBM] [Warning] No further splits with positive gain, best gain: -inf\n",
            "[LightGBM] [Warning] No further splits with positive gain, best gain: -inf\n",
            "[LightGBM] [Warning] No further splits with positive gain, best gain: -inf\n",
            "[LightGBM] [Warning] No further splits with positive gain, best gain: -inf\n",
            "[LightGBM] [Warning] No further splits with positive gain, best gain: -inf\n",
            "[LightGBM] [Warning] No further splits with positive gain, best gain: -inf\n",
            "[LightGBM] [Warning] No further splits with positive gain, best gain: -inf\n",
            "[LightGBM] [Warning] No further splits with positive gain, best gain: -inf\n",
            "[LightGBM] [Warning] No further splits with positive gain, best gain: -inf\n",
            "[LightGBM] [Warning] No further splits with positive gain, best gain: -inf\n",
            "[LightGBM] [Warning] No further splits with positive gain, best gain: -inf\n",
            "[LightGBM] [Warning] No further splits with positive gain, best gain: -inf\n",
            "[LightGBM] [Warning] No further splits with positive gain, best gain: -inf\n",
            "[LightGBM] [Warning] No further splits with positive gain, best gain: -inf\n",
            "[LightGBM] [Warning] No further splits with positive gain, best gain: -inf\n",
            "[LightGBM] [Warning] No further splits with positive gain, best gain: -inf\n",
            "[LightGBM] [Warning] No further splits with positive gain, best gain: -inf\n",
            "[LightGBM] [Warning] No further splits with positive gain, best gain: -inf\n",
            "[LightGBM] [Warning] No further splits with positive gain, best gain: -inf\n",
            "[LightGBM] [Warning] No further splits with positive gain, best gain: -inf\n",
            "[LightGBM] [Warning] No further splits with positive gain, best gain: -inf\n",
            "[LightGBM] [Warning] No further splits with positive gain, best gain: -inf\n",
            "[LightGBM] [Warning] No further splits with positive gain, best gain: -inf\n",
            "[LightGBM] [Warning] No further splits with positive gain, best gain: -inf\n",
            "[LightGBM] [Warning] No further splits with positive gain, best gain: -inf\n",
            "[LightGBM] [Warning] No further splits with positive gain, best gain: -inf\n",
            "[LightGBM] [Warning] No further splits with positive gain, best gain: -inf\n",
            "[LightGBM] [Warning] No further splits with positive gain, best gain: -inf\n",
            "[LightGBM] [Warning] No further splits with positive gain, best gain: -inf\n",
            "[LightGBM] [Warning] No further splits with positive gain, best gain: -inf\n",
            "[LightGBM] [Warning] No further splits with positive gain, best gain: -inf\n",
            "[LightGBM] [Warning] No further splits with positive gain, best gain: -inf\n",
            "[LightGBM] [Warning] No further splits with positive gain, best gain: -inf\n",
            "[LightGBM] [Warning] No further splits with positive gain, best gain: -inf\n",
            "[LightGBM] [Warning] No further splits with positive gain, best gain: -inf\n",
            "[LightGBM] [Warning] No further splits with positive gain, best gain: -inf\n",
            "[LightGBM] [Warning] No further splits with positive gain, best gain: -inf\n",
            "[LightGBM] [Warning] No further splits with positive gain, best gain: -inf\n",
            "[LightGBM] [Warning] No further splits with positive gain, best gain: -inf\n",
            "[LightGBM] [Warning] No further splits with positive gain, best gain: -inf\n",
            "[LightGBM] [Warning] No further splits with positive gain, best gain: -inf\n",
            "[LightGBM] [Warning] No further splits with positive gain, best gain: -inf\n",
            "[LightGBM] [Warning] No further splits with positive gain, best gain: -inf\n",
            "[LightGBM] [Warning] No further splits with positive gain, best gain: -inf\n",
            "[LightGBM] [Warning] No further splits with positive gain, best gain: -inf\n",
            "[LightGBM] [Warning] No further splits with positive gain, best gain: -inf\n",
            "[LightGBM] [Warning] No further splits with positive gain, best gain: -inf\n",
            "[LightGBM] [Warning] No further splits with positive gain, best gain: -inf\n",
            "[LightGBM] [Warning] No further splits with positive gain, best gain: -inf\n",
            "[LightGBM] [Warning] No further splits with positive gain, best gain: -inf\n",
            "[LightGBM] [Warning] No further splits with positive gain, best gain: -inf\n",
            "[LightGBM] [Warning] No further splits with positive gain, best gain: -inf\n",
            "[LightGBM] [Warning] No further splits with positive gain, best gain: -inf\n",
            "[LightGBM] [Warning] No further splits with positive gain, best gain: -inf\n",
            "[LightGBM] [Warning] No further splits with positive gain, best gain: -inf\n",
            "[LightGBM] [Warning] No further splits with positive gain, best gain: -inf\n",
            "[LightGBM] [Warning] No further splits with positive gain, best gain: -inf\n",
            "[LightGBM] [Warning] No further splits with positive gain, best gain: -inf\n",
            "[LightGBM] [Warning] No further splits with positive gain, best gain: -inf\n",
            "[LightGBM] [Warning] No further splits with positive gain, best gain: -inf\n",
            "[LightGBM] [Warning] No further splits with positive gain, best gain: -inf\n",
            "[LightGBM] [Warning] No further splits with positive gain, best gain: -inf\n",
            "[LightGBM] [Warning] No further splits with positive gain, best gain: -inf\n",
            "                               Accuracy  Balanced Accuracy  ROC AUC  F1 Score  \\\n",
            "Model                                                                           \n",
            "NearestCentroid                    0.88               0.89     0.89      0.89   \n",
            "BernoulliNB                        0.81               0.80     0.80      0.81   \n",
            "SGDClassifier                      0.81               0.80     0.80      0.81   \n",
            "Perceptron                         0.73               0.77     0.77      0.74   \n",
            "GaussianNB                         0.77               0.75     0.75      0.77   \n",
            "LogisticRegression                 0.77               0.75     0.75      0.77   \n",
            "SVC                                0.77               0.69     0.69      0.75   \n",
            "LinearSVC                          0.73               0.69     0.69      0.73   \n",
            "LinearDiscriminantAnalysis         0.73               0.69     0.69      0.73   \n",
            "RidgeClassifierCV                  0.73               0.69     0.69      0.73   \n",
            "RidgeClassifier                    0.73               0.69     0.69      0.73   \n",
            "QuadraticDiscriminantAnalysis      0.65               0.66     0.66      0.66   \n",
            "LGBMClassifier                     0.69               0.63     0.63      0.68   \n",
            "BaggingClassifier                  0.54               0.59     0.59      0.54   \n",
            "DecisionTreeClassifier             0.54               0.57     0.57      0.55   \n",
            "AdaBoostClassifier                 0.58               0.55     0.55      0.58   \n",
            "NuSVC                              0.54               0.54     0.54      0.55   \n",
            "KNeighborsClassifier               0.54               0.54     0.54      0.55   \n",
            "PassiveAggressiveClassifier        0.46               0.54     0.54      0.45   \n",
            "LabelPropagation                   0.54               0.52     0.52      0.55   \n",
            "RandomForestClassifier             0.54               0.52     0.52      0.55   \n",
            "DummyClassifier                    0.65               0.50     0.50      0.52   \n",
            "LabelSpreading                     0.50               0.49     0.49      0.51   \n",
            "ExtraTreesClassifier               0.50               0.49     0.49      0.51   \n",
            "ExtraTreeClassifier                0.46               0.48     0.48      0.47   \n",
            "XGBClassifier                      0.46               0.46     0.46      0.47   \n",
            "CalibratedClassifierCV             0.27               0.23     0.23      0.29   \n",
            "\n",
            "                               Time Taken  \n",
            "Model                                      \n",
            "NearestCentroid                      0.06  \n",
            "BernoulliNB                          0.03  \n",
            "SGDClassifier                        0.08  \n",
            "Perceptron                           0.03  \n",
            "GaussianNB                           0.13  \n",
            "LogisticRegression                   0.08  \n",
            "SVC                                  0.14  \n",
            "LinearSVC                            0.07  \n",
            "LinearDiscriminantAnalysis           0.11  \n",
            "RidgeClassifierCV                    0.05  \n",
            "RidgeClassifier                      0.05  \n",
            "QuadraticDiscriminantAnalysis        0.04  \n",
            "LGBMClassifier                       0.15  \n",
            "BaggingClassifier                    0.28  \n",
            "DecisionTreeClassifier               0.07  \n",
            "AdaBoostClassifier                   0.46  \n",
            "NuSVC                                0.07  \n",
            "KNeighborsClassifier                 0.12  \n",
            "PassiveAggressiveClassifier          0.06  \n",
            "LabelPropagation                     0.08  \n",
            "RandomForestClassifier               0.82  \n",
            "DummyClassifier                      0.04  \n",
            "LabelSpreading                       0.06  \n",
            "ExtraTreesClassifier                 0.45  \n",
            "ExtraTreeClassifier                  0.03  \n",
            "XGBClassifier                        0.36  \n",
            "CalibratedClassifierCV               0.16  \n"
          ]
        },
        {
          "output_type": "stream",
          "name": "stderr",
          "text": [
            "\n"
          ]
        }
      ],
      "source": [
        "\n",
        "from lazypredict.Supervised import LazyClassifier\n",
        "from sklearn.model_selection import train_test_split\n",
        "# Suppress warnings from LightGBM\n",
        "warnings.filterwarnings('ignore', category=UserWarning, module='lightgbm')\n",
        "warnings.filterwarnings('ignore', category=DeprecationWarning)\n",
        "\n",
        "clf = LazyClassifier(verbose=0,ignore_warnings=True, custom_metric=None, random_state=seed,)\n",
        "models,predictions = clf.fit(X_train, X_test, y_train, y_test)\n",
        "print(models)"
      ]
    },
    {
      "cell_type": "markdown",
      "metadata": {
        "id": "EHSWFaD6dSIR"
      },
      "source": [
        "**Define Your Objective:**\n",
        "\n",
        "Understand the primary goal of your model.\n",
        "*   If you need to minimize false positives, the ROC AUC or Precision might be more important.\n",
        "*   If you need to balance between false positives and false negatives, the F1 Score might be more suitable.\n",
        "\n",
        "\n",
        "**Understand Each Metric:**\n",
        "\n",
        "**Accuracy**: The ratio of correctly predicted instances to the total instances. Best for balanced datasets.\n",
        "\n",
        "**Balanced Accuracy**: The average of recall obtained on each class. Useful for imbalanced datasets.\n",
        "\n",
        "**ROC AUC**: Measures the ability of the classifier to distinguish between classes. A higher value indicates better performance.\n",
        "\n",
        "**F1 Score**: The harmonic mean of Precision and Recall. Useful when you need to balance precision and recall.\n",
        "\n",
        "**Time Taken**: The time required to train and predict with the model. Important for real-time or resource-constrained applications.\n"
      ]
    },
    {
      "cell_type": "markdown",
      "metadata": {
        "id": "X2rn6XvedUhQ"
      },
      "source": [
        "## Ranking Model"
      ]
    },
    {
      "cell_type": "code",
      "execution_count": 26,
      "metadata": {
        "colab": {
          "base_uri": "https://localhost:8080/"
        },
        "id": "qQkr9P3sdS1Y",
        "outputId": "06669651-d06a-4fdc-de91-828015ad1d0a"
      },
      "outputs": [
        {
          "output_type": "stream",
          "name": "stdout",
          "text": [
            "                 Accuracy  Balanced Accuracy  ROC AUC  F1 Score  Time Taken  \\\n",
            "Model                                                                         \n",
            "BernoulliNB          0.81               0.80     0.80      0.81        0.79   \n",
            "NearestCentroid      0.88               0.89     0.89      0.89        0.76   \n",
            "Perceptron           0.73               0.77     0.77      0.74        0.79   \n",
            "\n",
            "                 Accuracy_Rank  Balanced Accuracy_Rank  ROC AUC_Rank  \\\n",
            "Model                                                                  \n",
            "BernoulliNB               2.50                    2.50          2.50   \n",
            "NearestCentroid           1.00                    1.00          1.00   \n",
            "Perceptron                9.00                    4.00          4.00   \n",
            "\n",
            "                 F1 Score_Rank  Time Taken_Rank  Composite_Score  \n",
            "Model                                                             \n",
            "BernoulliNB               2.50             2.00             3.10  \n",
            "NearestCentroid           1.00             8.00             3.40  \n",
            "Perceptron                7.00             3.00             6.30  \n"
          ]
        }
      ],
      "source": [
        "df = pd.DataFrame(models)\n",
        "#df = pd.DataFrame(data)\n",
        "\n",
        "# Normalize the Time Taken (lower is better, so we invert the rank)\n",
        "df['Time Taken'] = df['Time Taken'].max() - df['Time Taken']\n",
        "\n",
        "# Rank the models for each metric\n",
        "for metric in ['Accuracy', 'Balanced Accuracy', 'ROC AUC', 'F1 Score', 'Time Taken']:\n",
        "    df[metric + '_Rank'] = df[metric].rank(ascending=False)\n",
        "\n",
        "# Assign weights to each metric\n",
        "weights = {\n",
        "    'Accuracy': 0.1,\n",
        "    'Balanced Accuracy': 0.2,\n",
        "    'ROC AUC': 0.4,\n",
        "    'F1 Score': 0.3,\n",
        "    'Time Taken': 0.3\n",
        "}\n",
        "\n",
        "# Calculate the composite score\n",
        "df['Composite_Score'] = sum(df[metric + '_Rank'] * weight for metric, weight in weights.items())\n",
        "\n",
        "# Sort models by the composite score to get the best models\n",
        "df = df.sort_values(by='Composite_Score')\n",
        "\n",
        "# Select the top 3 models\n",
        "top_3_models = df.head(3)\n",
        "print(top_3_models)\n"
      ]
    },
    {
      "cell_type": "markdown",
      "metadata": {
        "id": "KFUDeoefdafQ"
      },
      "source": [
        "#### Importing Models Libraries"
      ]
    },
    {
      "cell_type": "code",
      "execution_count": 27,
      "metadata": {
        "id": "EWW__gD_daoO"
      },
      "outputs": [],
      "source": [
        "from sklearn.metrics import classification_report, accuracy_score, roc_auc_score, recall_score\n",
        "from sklearn.naive_bayes import BernoulliNB\n",
        "from sklearn.linear_model import Perceptron\n",
        "from sklearn.linear_model import SGDClassifier\n",
        "from sklearn.tree import DecisionTreeClassifier\n",
        "from sklearn.linear_model import LogisticRegression\n",
        "from sklearn.neighbors import KNeighborsClassifier\n",
        "import lightgbm as lgb\n",
        "from sklearn.ensemble import RandomForestClassifier\n",
        "from sklearn.ensemble import BaggingClassifier\n",
        "from lightgbm import LGBMClassifier\n",
        "from sklearn.ensemble import ExtraTreesClassifier\n",
        "from sklearn.svm import SVC\n",
        "import xgboost as xgb\n",
        "from sklearn.neighbors import NearestCentroid"
      ]
    },
    {
      "cell_type": "markdown",
      "metadata": {
        "id": "85IwKguldhmw"
      },
      "source": [
        "### 1. Bernouli Naive Bayes"
      ]
    },
    {
      "cell_type": "code",
      "execution_count": 28,
      "metadata": {
        "colab": {
          "base_uri": "https://localhost:8080/"
        },
        "id": "f6dYAnmSdhwW",
        "outputId": "0db465e9-a2fc-4370-e843-3733018655b0"
      },
      "outputs": [
        {
          "output_type": "stream",
          "name": "stdout",
          "text": [
            "Classification Report:\n",
            "               precision    recall  f1-score   support\n",
            "\n",
            "           0       0.00      0.00      0.00         9\n",
            "           1       0.65      1.00      0.79        17\n",
            "\n",
            "    accuracy                           0.65        26\n",
            "   macro avg       0.33      0.50      0.40        26\n",
            "weighted avg       0.43      0.65      0.52        26\n",
            "\n",
            "Training accuracy: 0.654\n"
          ]
        }
      ],
      "source": [
        "bnb = BernoulliNB(binarize=0.0)\n",
        "model = bnb.fit(X_train, y_train)\n",
        "y_pred1 = bnb.predict(X_test)\n",
        "print(\"Classification Report:\\n\", classification_report(y_test, y_pred1))\n",
        "print('Training accuracy: {:.3f}'.format(accuracy_score(y_test,y_pred1)))\n"
      ]
    },
    {
      "cell_type": "markdown",
      "metadata": {
        "id": "eC1Rzct9drcJ"
      },
      "source": [
        "#### 2. Bagging Classifier"
      ]
    },
    {
      "cell_type": "code",
      "execution_count": 29,
      "metadata": {
        "colab": {
          "base_uri": "https://localhost:8080/"
        },
        "id": "Rrtcz12Tdrk3",
        "outputId": "9bd138a1-b666-4311-aa65-595d80a887b1"
      },
      "outputs": [
        {
          "output_type": "stream",
          "name": "stdout",
          "text": [
            "Classification Report:\n",
            "               precision    recall  f1-score   support\n",
            "\n",
            "           0       0.41      0.78      0.54         9\n",
            "           1       0.78      0.41      0.54        17\n",
            "\n",
            "    accuracy                           0.54        26\n",
            "   macro avg       0.59      0.59      0.54        26\n",
            "weighted avg       0.65      0.54      0.54        26\n",
            "\n",
            "Training accuracy: 0.538\n"
          ]
        }
      ],
      "source": [
        "# Create the base classifier\n",
        "dc = DecisionTreeClassifier()\n",
        "model = BaggingClassifier(estimator=dc, n_estimators=10, random_state=seed)\n",
        "classifiers = model.fit(X_train, y_train)\n",
        "\n",
        "y_pred = model.predict(X_test)\n",
        "\n",
        "print(\"Classification Report:\\n\", classification_report(y_test, y_pred))\n",
        "print('Training accuracy: {:.3f}'.format(accuracy_score(y_test,y_pred)))"
      ]
    },
    {
      "cell_type": "markdown",
      "metadata": {
        "id": "8KHDlSFjdyV5"
      },
      "source": [
        "#### 3. LGBM Classifier"
      ]
    },
    {
      "cell_type": "code",
      "execution_count": 30,
      "metadata": {
        "colab": {
          "base_uri": "https://localhost:8080/"
        },
        "id": "n-Uqo96ldyca",
        "outputId": "93a60d83-c057-4604-fce9-b0705a05b838"
      },
      "outputs": [
        {
          "output_type": "stream",
          "name": "stdout",
          "text": [
            "[LightGBM] [Info] Number of positive: 52, number of negative: 48\n",
            "[LightGBM] [Info] Auto-choosing row-wise multi-threading, the overhead of testing was 0.000034 seconds.\n",
            "You can set `force_row_wise=true` to remove the overhead.\n",
            "And if memory is not enough, you can set `force_col_wise=true`.\n",
            "[LightGBM] [Info] Total Bins 31\n",
            "[LightGBM] [Info] Number of data points in the train set: 100, number of used features: 6\n",
            "[LightGBM] [Info] [binary:BoostFromScore]: pavg=0.520000 -> initscore=0.080043\n",
            "[LightGBM] [Info] Start training from score 0.080043\n",
            "[LightGBM] [Warning] No further splits with positive gain, best gain: -inf\n",
            "[LightGBM] [Warning] No further splits with positive gain, best gain: -inf\n",
            "[LightGBM] [Warning] No further splits with positive gain, best gain: -inf\n",
            "[LightGBM] [Warning] No further splits with positive gain, best gain: -inf\n",
            "[LightGBM] [Warning] No further splits with positive gain, best gain: -inf\n",
            "[LightGBM] [Warning] No further splits with positive gain, best gain: -inf\n",
            "[LightGBM] [Warning] No further splits with positive gain, best gain: -inf\n",
            "[LightGBM] [Warning] No further splits with positive gain, best gain: -inf\n",
            "[LightGBM] [Warning] No further splits with positive gain, best gain: -inf\n",
            "[LightGBM] [Warning] No further splits with positive gain, best gain: -inf\n",
            "[LightGBM] [Warning] No further splits with positive gain, best gain: -inf\n",
            "[LightGBM] [Warning] No further splits with positive gain, best gain: -inf\n",
            "[LightGBM] [Warning] No further splits with positive gain, best gain: -inf\n",
            "[LightGBM] [Warning] No further splits with positive gain, best gain: -inf\n",
            "[LightGBM] [Warning] No further splits with positive gain, best gain: -inf\n",
            "[LightGBM] [Warning] No further splits with positive gain, best gain: -inf\n",
            "[LightGBM] [Warning] No further splits with positive gain, best gain: -inf\n",
            "[LightGBM] [Warning] No further splits with positive gain, best gain: -inf\n",
            "[LightGBM] [Warning] No further splits with positive gain, best gain: -inf\n",
            "[LightGBM] [Warning] No further splits with positive gain, best gain: -inf\n",
            "[LightGBM] [Warning] No further splits with positive gain, best gain: -inf\n",
            "[LightGBM] [Warning] No further splits with positive gain, best gain: -inf\n",
            "[LightGBM] [Warning] No further splits with positive gain, best gain: -inf\n",
            "[LightGBM] [Warning] No further splits with positive gain, best gain: -inf\n",
            "[LightGBM] [Warning] No further splits with positive gain, best gain: -inf\n",
            "[LightGBM] [Warning] No further splits with positive gain, best gain: -inf\n",
            "[LightGBM] [Warning] No further splits with positive gain, best gain: -inf\n",
            "[LightGBM] [Warning] No further splits with positive gain, best gain: -inf\n",
            "[LightGBM] [Warning] No further splits with positive gain, best gain: -inf\n",
            "[LightGBM] [Warning] No further splits with positive gain, best gain: -inf\n",
            "[LightGBM] [Warning] No further splits with positive gain, best gain: -inf\n",
            "[LightGBM] [Warning] No further splits with positive gain, best gain: -inf\n",
            "[LightGBM] [Warning] No further splits with positive gain, best gain: -inf\n",
            "[LightGBM] [Warning] No further splits with positive gain, best gain: -inf\n",
            "[LightGBM] [Warning] No further splits with positive gain, best gain: -inf\n",
            "[LightGBM] [Warning] No further splits with positive gain, best gain: -inf\n",
            "[LightGBM] [Warning] No further splits with positive gain, best gain: -inf\n",
            "[LightGBM] [Warning] No further splits with positive gain, best gain: -inf\n",
            "[LightGBM] [Warning] No further splits with positive gain, best gain: -inf\n",
            "[LightGBM] [Warning] No further splits with positive gain, best gain: -inf\n",
            "[LightGBM] [Warning] No further splits with positive gain, best gain: -inf\n",
            "[LightGBM] [Warning] No further splits with positive gain, best gain: -inf\n",
            "[LightGBM] [Warning] No further splits with positive gain, best gain: -inf\n",
            "[LightGBM] [Warning] No further splits with positive gain, best gain: -inf\n",
            "[LightGBM] [Warning] No further splits with positive gain, best gain: -inf\n",
            "[LightGBM] [Warning] No further splits with positive gain, best gain: -inf\n",
            "[LightGBM] [Warning] No further splits with positive gain, best gain: -inf\n",
            "[LightGBM] [Warning] No further splits with positive gain, best gain: -inf\n",
            "[LightGBM] [Warning] No further splits with positive gain, best gain: -inf\n",
            "[LightGBM] [Warning] No further splits with positive gain, best gain: -inf\n",
            "[LightGBM] [Warning] No further splits with positive gain, best gain: -inf\n",
            "[LightGBM] [Warning] No further splits with positive gain, best gain: -inf\n",
            "[LightGBM] [Warning] No further splits with positive gain, best gain: -inf\n",
            "[LightGBM] [Warning] No further splits with positive gain, best gain: -inf\n",
            "[LightGBM] [Warning] No further splits with positive gain, best gain: -inf\n",
            "[LightGBM] [Warning] No further splits with positive gain, best gain: -inf\n",
            "[LightGBM] [Warning] No further splits with positive gain, best gain: -inf\n",
            "[LightGBM] [Warning] No further splits with positive gain, best gain: -inf\n",
            "[LightGBM] [Warning] No further splits with positive gain, best gain: -inf\n",
            "[LightGBM] [Warning] No further splits with positive gain, best gain: -inf\n",
            "[LightGBM] [Warning] No further splits with positive gain, best gain: -inf\n",
            "[LightGBM] [Warning] No further splits with positive gain, best gain: -inf\n",
            "[LightGBM] [Warning] No further splits with positive gain, best gain: -inf\n",
            "[LightGBM] [Warning] No further splits with positive gain, best gain: -inf\n",
            "[LightGBM] [Warning] No further splits with positive gain, best gain: -inf\n",
            "[LightGBM] [Warning] No further splits with positive gain, best gain: -inf\n",
            "[LightGBM] [Warning] No further splits with positive gain, best gain: -inf\n",
            "[LightGBM] [Warning] No further splits with positive gain, best gain: -inf\n",
            "[LightGBM] [Warning] No further splits with positive gain, best gain: -inf\n",
            "[LightGBM] [Warning] No further splits with positive gain, best gain: -inf\n",
            "[LightGBM] [Warning] No further splits with positive gain, best gain: -inf\n",
            "[LightGBM] [Warning] No further splits with positive gain, best gain: -inf\n",
            "[LightGBM] [Warning] No further splits with positive gain, best gain: -inf\n",
            "[LightGBM] [Warning] No further splits with positive gain, best gain: -inf\n",
            "[LightGBM] [Warning] No further splits with positive gain, best gain: -inf\n",
            "[LightGBM] [Warning] No further splits with positive gain, best gain: -inf\n",
            "[LightGBM] [Warning] No further splits with positive gain, best gain: -inf\n",
            "[LightGBM] [Warning] No further splits with positive gain, best gain: -inf\n",
            "[LightGBM] [Warning] No further splits with positive gain, best gain: -inf\n",
            "[LightGBM] [Warning] No further splits with positive gain, best gain: -inf\n",
            "[LightGBM] [Warning] No further splits with positive gain, best gain: -inf\n",
            "[LightGBM] [Warning] No further splits with positive gain, best gain: -inf\n",
            "[LightGBM] [Warning] No further splits with positive gain, best gain: -inf\n",
            "[LightGBM] [Warning] No further splits with positive gain, best gain: -inf\n",
            "[LightGBM] [Warning] No further splits with positive gain, best gain: -inf\n",
            "[LightGBM] [Warning] No further splits with positive gain, best gain: -inf\n",
            "[LightGBM] [Warning] No further splits with positive gain, best gain: -inf\n",
            "[LightGBM] [Warning] No further splits with positive gain, best gain: -inf\n",
            "[LightGBM] [Warning] No further splits with positive gain, best gain: -inf\n",
            "[LightGBM] [Warning] No further splits with positive gain, best gain: -inf\n",
            "[LightGBM] [Warning] No further splits with positive gain, best gain: -inf\n",
            "[LightGBM] [Warning] No further splits with positive gain, best gain: -inf\n",
            "[LightGBM] [Warning] No further splits with positive gain, best gain: -inf\n",
            "[LightGBM] [Warning] No further splits with positive gain, best gain: -inf\n",
            "[LightGBM] [Warning] No further splits with positive gain, best gain: -inf\n",
            "[LightGBM] [Warning] No further splits with positive gain, best gain: -inf\n",
            "[LightGBM] [Warning] No further splits with positive gain, best gain: -inf\n",
            "[LightGBM] [Warning] No further splits with positive gain, best gain: -inf\n",
            "[LightGBM] [Warning] No further splits with positive gain, best gain: -inf\n",
            "[LightGBM] [Warning] No further splits with positive gain, best gain: -inf\n",
            "Training Report\n",
            "               precision    recall  f1-score   support\n",
            "\n",
            "           0       0.57      0.44      0.50         9\n",
            "           1       0.74      0.82      0.78        17\n",
            "\n",
            "    accuracy                           0.69        26\n",
            "   macro avg       0.65      0.63      0.64        26\n",
            "weighted avg       0.68      0.69      0.68        26\n",
            "\n",
            "Training accuracy: 0.692\n"
          ]
        }
      ],
      "source": [
        "# LGBM Classifier\n",
        "\n",
        "clf = lgb.LGBMClassifier(random_state=seed)\n",
        "clf.fit(X_train, y_train)\n",
        "y_pred=clf.predict(X_test)\n",
        "print('Training Report\\n {}'.format(classification_report(y_test, y_pred)))\n",
        "print('Training accuracy: {:.3f}'.format(accuracy_score(y_test, y_pred)))"
      ]
    },
    {
      "cell_type": "markdown",
      "metadata": {
        "id": "7Ur7KvBQd4Ax"
      },
      "source": [
        "#### 4. Perceptron Model"
      ]
    },
    {
      "cell_type": "code",
      "execution_count": 31,
      "metadata": {
        "colab": {
          "base_uri": "https://localhost:8080/"
        },
        "id": "xpvpstF5d4Hd",
        "outputId": "82df52c3-234c-478d-fb45-8177d1a82601"
      },
      "outputs": [
        {
          "output_type": "stream",
          "name": "stdout",
          "text": [
            "Classification Report:\n",
            "               precision    recall  f1-score   support\n",
            "\n",
            "           0       0.35      1.00      0.51         9\n",
            "           1       0.00      0.00      0.00        17\n",
            "\n",
            "    accuracy                           0.35        26\n",
            "   macro avg       0.17      0.50      0.26        26\n",
            "weighted avg       0.12      0.35      0.18        26\n",
            "\n",
            "Training accuracy: 0.346\n"
          ]
        }
      ],
      "source": [
        "\n",
        "perceptron = Perceptron(max_iter=100, eta0=0.1, random_state=seed)\n",
        "perceptron.fit(X_train, y_train)\n",
        "y_pred = perceptron.predict(X_test)\n",
        "accuracy = accuracy_score(y_test, y_pred)\n",
        "\n",
        "class_report = classification_report(y_test, y_pred)\n",
        "print(\"Classification Report:\\n\", class_report)\n",
        "print('Training accuracy: {:.3f}'.format(accuracy_score(y_test, y_pred)))"
      ]
    },
    {
      "cell_type": "markdown",
      "metadata": {
        "id": "kZ04VsO6d9z5"
      },
      "source": [
        "#### 5. SGD Classifier"
      ]
    },
    {
      "cell_type": "code",
      "execution_count": 32,
      "metadata": {
        "colab": {
          "base_uri": "https://localhost:8080/"
        },
        "id": "uSbsYjYJd97B",
        "outputId": "6c160742-76ff-4284-9f37-bd9f88db4710"
      },
      "outputs": [
        {
          "output_type": "stream",
          "name": "stdout",
          "text": [
            "Classification Report:\n",
            "               precision    recall  f1-score   support\n",
            "\n",
            "           0       0.75      0.67      0.71         9\n",
            "           1       0.83      0.88      0.86        17\n",
            "\n",
            "    accuracy                           0.81        26\n",
            "   macro avg       0.79      0.77      0.78        26\n",
            "weighted avg       0.80      0.81      0.80        26\n",
            "\n",
            "Training accuracy: 0.808\n"
          ]
        }
      ],
      "source": [
        "\n",
        "clf = SGDClassifier(loss='log_loss', alpha=0.01, max_iter=1000, random_state=seed,)\n",
        "clf.fit(X_train, y_train)\n",
        "y_pred = clf.predict(X_test)\n",
        "accuracy = accuracy_score(y_test, y_pred)\n",
        "\n",
        "class_report = classification_report(y_test, y_pred)\n",
        "print(\"Classification Report:\\n\", class_report)\n",
        "print('Training accuracy: {:.3f}'.format(accuracy_score(y_test, y_pred)))"
      ]
    },
    {
      "cell_type": "markdown",
      "metadata": {
        "id": "4d4WaijpeEZI"
      },
      "source": [
        "#### 5. Extratree Classifier"
      ]
    },
    {
      "cell_type": "code",
      "execution_count": 33,
      "metadata": {
        "colab": {
          "base_uri": "https://localhost:8080/"
        },
        "id": "QMxpKiiceEfT",
        "outputId": "33dabd0c-ca1c-417c-b0b0-512aa0b4e0de"
      },
      "outputs": [
        {
          "output_type": "stream",
          "name": "stdout",
          "text": [
            "Classification Report:\n",
            "               precision    recall  f1-score   support\n",
            "\n",
            "           0       0.31      0.44      0.36         9\n",
            "           1       0.62      0.47      0.53        17\n",
            "\n",
            "    accuracy                           0.46        26\n",
            "   macro avg       0.46      0.46      0.45        26\n",
            "weighted avg       0.51      0.46      0.47        26\n",
            "\n",
            "Training accuracy: 0.462\n"
          ]
        }
      ],
      "source": [
        "etf = ExtraTreesClassifier(n_estimators = 5, criterion ='entropy', max_features = 2, random_state=seed,)\n",
        "etf.fit(X_train, y_train)\n",
        "y_pred = etf.predict(X_test)\n",
        "accuracy = accuracy_score(y_test, y_pred)\n",
        "\n",
        "class_report = classification_report(y_test, y_pred)\n",
        "print(\"Classification Report:\\n\", class_report)\n",
        "print('Training accuracy: {:.3f}'.format(accuracy_score(y_test, y_pred)))"
      ]
    },
    {
      "cell_type": "markdown",
      "metadata": {
        "id": "WlSugJ7teKWq"
      },
      "source": [
        "#### 6. SVC Classifier"
      ]
    },
    {
      "cell_type": "code",
      "execution_count": 34,
      "metadata": {
        "colab": {
          "base_uri": "https://localhost:8080/"
        },
        "id": "U0z-Ho4geKdh",
        "outputId": "dbec3427-ee13-4b81-dfb9-d84878eedeb4"
      },
      "outputs": [
        {
          "output_type": "stream",
          "name": "stdout",
          "text": [
            "Classification Report:\n",
            "               precision    recall  f1-score   support\n",
            "\n",
            "           0       0.45      0.56      0.50         9\n",
            "           1       0.73      0.65      0.69        17\n",
            "\n",
            "    accuracy                           0.62        26\n",
            "   macro avg       0.59      0.60      0.59        26\n",
            "weighted avg       0.64      0.62      0.62        26\n",
            "\n",
            "Training accuracy: 0.615\n"
          ]
        }
      ],
      "source": [
        "svm = SVC(kernel=\"rbf\", gamma=0.5, C=1.0, random_state=seed,)\n",
        "svm.fit(X_train, y_train)\n",
        "y_pred = svm.predict(X_test)\n",
        "accuracy = accuracy_score(y_test, y_pred)\n",
        "\n",
        "class_report = classification_report(y_test, y_pred)\n",
        "print(\"Classification Report:\\n\", class_report)\n",
        "print('Training accuracy: {:.3f}'.format(accuracy_score(y_test, y_pred)))"
      ]
    },
    {
      "cell_type": "markdown",
      "metadata": {
        "id": "vcxWAy2ieRor"
      },
      "source": [
        "#### 7. XGB Classifier"
      ]
    },
    {
      "cell_type": "code",
      "execution_count": 35,
      "metadata": {
        "colab": {
          "base_uri": "https://localhost:8080/"
        },
        "id": "mVRFdA1feRxq",
        "outputId": "3086cff3-2e17-4311-ac32-9c784ff4ec92"
      },
      "outputs": [
        {
          "output_type": "stream",
          "name": "stdout",
          "text": [
            "Classification Report:\n",
            "               precision    recall  f1-score   support\n",
            "\n",
            "           0       0.31      0.44      0.36         9\n",
            "           1       0.62      0.47      0.53        17\n",
            "\n",
            "    accuracy                           0.46        26\n",
            "   macro avg       0.46      0.46      0.45        26\n",
            "weighted avg       0.51      0.46      0.47        26\n",
            "\n",
            "Training accuracy: 0.462\n"
          ]
        }
      ],
      "source": [
        "from xgboost import XGBClassifier\n",
        "\n",
        "model = XGBClassifier(random_state=seed,)\n",
        "\n",
        "model.fit(X_train, y_train)\n",
        "y_pred = model.predict(X_test)\n",
        "accuracy = accuracy_score(y_test, y_pred)\n",
        "\n",
        "class_report = classification_report(y_test, y_pred)\n",
        "print(\"Classification Report:\\n\", class_report)\n",
        "print('Training accuracy: {:.3f}'.format(accuracy_score(y_test, y_pred)))"
      ]
    },
    {
      "cell_type": "markdown",
      "metadata": {
        "id": "Qz1jnZ1we7Fu"
      },
      "source": [
        "#### 8. Decision tree Classifier"
      ]
    },
    {
      "cell_type": "code",
      "execution_count": 36,
      "metadata": {
        "colab": {
          "base_uri": "https://localhost:8080/"
        },
        "id": "Rf8Y7Q8re7Mw",
        "outputId": "3010e992-0518-44d3-eee0-1beb1cc55822"
      },
      "outputs": [
        {
          "output_type": "stream",
          "name": "stdout",
          "text": [
            "Training Report\n",
            "               precision    recall  f1-score   support\n",
            "\n",
            "           0       0.36      0.56      0.43         9\n",
            "           1       0.67      0.47      0.55        17\n",
            "\n",
            "    accuracy                           0.50        26\n",
            "   macro avg       0.51      0.51      0.49        26\n",
            "weighted avg       0.56      0.50      0.51        26\n",
            "\n",
            "Training accuracy: 0.500\n"
          ]
        }
      ],
      "source": [
        "model = DecisionTreeClassifier(min_samples_split=4, random_state=seed,)\n",
        "model.fit(X_train, y_train)\n",
        "y_pred = model.predict(X_test)\n",
        "print('Training Report\\n {}'.format(classification_report(y_test,y_pred)))\n",
        "print('Training accuracy: {:.3f}'.format(accuracy_score(y_test,y_pred)))"
      ]
    },
    {
      "cell_type": "markdown",
      "metadata": {
        "id": "6RboHBvHlK56"
      },
      "source": [
        "#### 9. Random Forest"
      ]
    },
    {
      "cell_type": "code",
      "execution_count": 37,
      "metadata": {
        "colab": {
          "base_uri": "https://localhost:8080/"
        },
        "id": "Qj0FshgdlLAo",
        "outputId": "fcdd1e60-f303-4b0b-db71-8a2f76f65863"
      },
      "outputs": [
        {
          "output_type": "stream",
          "name": "stdout",
          "text": [
            "Training Report\n",
            "               precision    recall  f1-score   support\n",
            "\n",
            "           0       0.36      0.44      0.40         9\n",
            "           1       0.67      0.59      0.62        17\n",
            "\n",
            "    accuracy                           0.54        26\n",
            "   macro avg       0.52      0.52      0.51        26\n",
            "weighted avg       0.56      0.54      0.55        26\n",
            "\n",
            "Training accuracy: 0.538\n"
          ]
        }
      ],
      "source": [
        "model = RandomForestClassifier(n_estimators=100, random_state=seed,)\n",
        "model.fit(X_train, y_train)\n",
        "y_pred = model.predict(X_test)\n",
        "print('Training Report\\n {}'.format(classification_report(y_test,y_pred)))\n",
        "print('Training accuracy: {:.3f}'.format(accuracy_score(y_test,y_pred)))"
      ]
    },
    {
      "cell_type": "markdown",
      "metadata": {
        "id": "mGPWdZ_deVi9"
      },
      "source": [
        "#### 10. Logistic Regression"
      ]
    },
    {
      "cell_type": "code",
      "execution_count": 38,
      "metadata": {
        "colab": {
          "base_uri": "https://localhost:8080/"
        },
        "id": "wL3croHkeVo4",
        "outputId": "5c4cd94b-e151-4568-84c5-4411757e2deb"
      },
      "outputs": [
        {
          "output_type": "stream",
          "name": "stdout",
          "text": [
            "Training Report\n",
            "               precision    recall  f1-score   support\n",
            "\n",
            "           0       0.62      0.56      0.59         9\n",
            "           1       0.78      0.82      0.80        17\n",
            "\n",
            "    accuracy                           0.73        26\n",
            "   macro avg       0.70      0.69      0.69        26\n",
            "weighted avg       0.72      0.73      0.73        26\n",
            "\n",
            "Training accuracy: 0.731\n"
          ]
        }
      ],
      "source": [
        "# fit logistic regression\n",
        "lr = LogisticRegression(random_state=seed,)\n",
        "lr.fit(X_train,y_train)\n",
        "\n",
        "# predict on the test set and get the test accuracy:\n",
        "y_pred = lr.predict(X_test)\n",
        "print('Training Report\\n {}'.format(classification_report(y_test, y_pred)))\n",
        "print('Training accuracy: {:.3f}'.format(accuracy_score(y_test, y_pred)))"
      ]
    },
    {
      "cell_type": "markdown",
      "source": [
        "#### 11. NearestCentroid"
      ],
      "metadata": {
        "id": "J7p0YiFfSx3F"
      }
    },
    {
      "cell_type": "code",
      "source": [
        "nc = NearestCentroid()\n",
        "model = nc.fit(X_train, y_train)\n",
        "y_pred1 = nc.predict(X_test)\n",
        "print(\"Classification Report:\\n\", classification_report(y_test, y_pred1))\n",
        "print('Training accuracy: {:.3f}'.format(accuracy_score(y_test,y_pred1)))"
      ],
      "metadata": {
        "colab": {
          "base_uri": "https://localhost:8080/"
        },
        "id": "he6PdKxbSyBn",
        "outputId": "271c179d-97e0-46c4-a5ba-4e81de5fcd8c"
      },
      "execution_count": 39,
      "outputs": [
        {
          "output_type": "stream",
          "name": "stdout",
          "text": [
            "Classification Report:\n",
            "               precision    recall  f1-score   support\n",
            "\n",
            "           0       0.78      0.78      0.78         9\n",
            "           1       0.88      0.88      0.88        17\n",
            "\n",
            "    accuracy                           0.85        26\n",
            "   macro avg       0.83      0.83      0.83        26\n",
            "weighted avg       0.85      0.85      0.85        26\n",
            "\n",
            "Training accuracy: 0.846\n"
          ]
        }
      ]
    },
    {
      "cell_type": "markdown",
      "metadata": {
        "id": "-9tKWIiKeag5"
      },
      "source": [
        "### Logistic Regression with L1 Regularisation"
      ]
    },
    {
      "cell_type": "code",
      "execution_count": 40,
      "metadata": {
        "colab": {
          "base_uri": "https://localhost:8080/"
        },
        "id": "ntawaSA0eamq",
        "outputId": "f3c78271-ed0c-40b6-fcf2-6841851f4d36"
      },
      "outputs": [
        {
          "output_type": "stream",
          "name": "stdout",
          "text": [
            "Non Zero weights: 6\n"
          ]
        }
      ],
      "source": [
        "from sklearn.linear_model import LogisticRegression\n",
        "\n",
        "clf = LogisticRegression(C= 100, penalty= 'l1', solver='liblinear')\n",
        "clf.fit(X_train, y_train)\n",
        "pred = clf.predict(X_test)\n",
        "print(\"Non Zero weights:\",np.count_nonzero(clf.coef_))\n"
      ]
    },
    {
      "cell_type": "code",
      "execution_count": 41,
      "metadata": {
        "colab": {
          "base_uri": "https://localhost:8080/"
        },
        "id": "FuTBJlpWelRJ",
        "outputId": "df40da70-ac99-4e24-c1e9-d973a48e88a4"
      },
      "outputs": [
        {
          "output_type": "stream",
          "name": "stdout",
          "text": [
            "Non Zero weights: 1\n"
          ]
        }
      ],
      "source": [
        "from sklearn.linear_model import LogisticRegression\n",
        "\n",
        "clf = LogisticRegression(C= 0.1, penalty= 'l1', solver='liblinear')\n",
        "clf.fit(X_train, y_train)\n",
        "pred = clf.predict(X_test)\n",
        "print(\"Non Zero weights:\",np.count_nonzero(clf.coef_))\n"
      ]
    },
    {
      "cell_type": "code",
      "execution_count": 42,
      "metadata": {
        "colab": {
          "base_uri": "https://localhost:8080/"
        },
        "id": "dtwHtWVyeqg9",
        "outputId": "098f8118-8185-47d3-c4ee-866c4827fcbc"
      },
      "outputs": [
        {
          "output_type": "stream",
          "name": "stdout",
          "text": [
            "Non Zero weights: 0\n",
            "Training Report\n",
            "               precision    recall  f1-score   support\n",
            "\n",
            "           0       0.35      1.00      0.51         9\n",
            "           1       0.00      0.00      0.00        17\n",
            "\n",
            "    accuracy                           0.35        26\n",
            "   macro avg       0.17      0.50      0.26        26\n",
            "weighted avg       0.12      0.35      0.18        26\n",
            "\n",
            "Training accuracy: 0.346\n"
          ]
        }
      ],
      "source": [
        "clf = LogisticRegression(C= 0.0001, penalty= 'l1', solver='liblinear')\n",
        "clf.fit(X_train, y_train)\n",
        "pred = clf.predict(X_test)\n",
        "print(\"Non Zero weights:\",np.count_nonzero(clf.coef_))\n",
        "# Predit accuracy\n",
        "print('Training Report\\n {}'.format(classification_report(y_test, pred)))\n",
        "print('Training accuracy: {:.3f}'.format(accuracy_score(y_test, pred)))"
      ]
    },
    {
      "cell_type": "markdown",
      "metadata": {
        "id": "zoQDjoKnk1ET"
      },
      "source": [
        "### **Observation**\n",
        "\n",
        "##### From experimenting with different models we can conclude that **Nearest Centroid** has got good accuracies as 84% with better recall percentage of78%."
      ]
    },
    {
      "cell_type": "markdown",
      "source": [
        "### Initializing Models for Ensemble Techniques"
      ],
      "metadata": {
        "id": "AUPFgGsS8ihs"
      }
    },
    {
      "cell_type": "markdown",
      "metadata": {
        "id": "3wduT5wck1NS"
      },
      "source": [
        "### 1. Voting Ensemble Method using LGBM Classifier\n"
      ]
    },
    {
      "cell_type": "code",
      "execution_count": 43,
      "metadata": {
        "colab": {
          "base_uri": "https://localhost:8080/"
        },
        "id": "_MG8OYE1k1Y7",
        "outputId": "c15f6e50-03cb-4c94-f496-60f14f74fffa"
      },
      "outputs": [
        {
          "output_type": "stream",
          "name": "stdout",
          "text": [
            "Training Report\n",
            "               precision    recall  f1-score   support\n",
            "\n",
            "           0       0.70      0.78      0.74         9\n",
            "           1       0.88      0.82      0.85        17\n",
            "\n",
            "    accuracy                           0.81        26\n",
            "   macro avg       0.79      0.80      0.79        26\n",
            "weighted avg       0.81      0.81      0.81        26\n",
            "\n",
            "Training accuracy: 0.808\n"
          ]
        }
      ],
      "source": [
        "# importing voting classifier\n",
        "from sklearn.ensemble import VotingClassifier\n",
        "\n",
        "# initializing all the model objects with default parameters\n",
        "model_1 = LogisticRegression()\n",
        "model_2 = SGDClassifier(random_state=seed)\n",
        "model_3 = NearestCentroid()\n",
        "\n",
        "#model_4 = SVC(random_state=seed,)\n",
        "#model_5 = BaggingClassifier(random_state=seed)\n",
        "#model_6 = lgb.LGBMClassifier(random_state=seed)\n",
        "#model_7 = XGBClassifier(random_state=seed)\n",
        "\n",
        "# Making the final model using voting classifier\n",
        "final_model = VotingClassifier(\n",
        "    estimators=[('lr', model_1), ('sgd', model_2), ('nc', model_3)] , voting='hard')\n",
        "\n",
        "#estimators=[('lr', model_1), ('sgd', model_2), ('svc', model_3), ('nc', model_4), ('bag', model_5), ('lgb', model_5), ('xgb', model_5)] , voting='hard')\n",
        "\n",
        "# training all the model on the train dataset\n",
        "final_model.fit(X_train, y_train)\n",
        "\n",
        "\n",
        "# predicting the output on the test dataset\n",
        "pred_final = final_model.predict(X_test)\n",
        "\n",
        "print('Training Report\\n {}'.format(classification_report(y_test, pred_final)))\n",
        "print('Training accuracy: {:.3f}'.format(accuracy_score(y_test, pred_final)))\n"
      ]
    },
    {
      "cell_type": "markdown",
      "metadata": {
        "id": "900EkTGenlXR"
      },
      "source": [
        "### 2. Stacking Ensemble Method\n",
        "\n"
      ]
    },
    {
      "cell_type": "code",
      "execution_count": 44,
      "metadata": {
        "colab": {
          "base_uri": "https://localhost:8080/"
        },
        "id": "4Qc4ByM1nle5",
        "outputId": "b3012748-4815-4303-bd54-e18065a352bf"
      },
      "outputs": [
        {
          "output_type": "stream",
          "name": "stdout",
          "text": [
            "Training Report\n",
            "               precision    recall  f1-score   support\n",
            "\n",
            "           0       0.78      0.78      0.78         9\n",
            "           1       0.88      0.88      0.88        17\n",
            "\n",
            "    accuracy                           0.85        26\n",
            "   macro avg       0.83      0.83      0.83        26\n",
            "weighted avg       0.85      0.85      0.85        26\n",
            "\n",
            "Training accuracy: 0.846\n"
          ]
        }
      ],
      "source": [
        "# importing stacking lib\n",
        "from vecstack import stacking\n",
        "\n",
        "# initializing all the model objects with default parameters\n",
        "model_1 = LogisticRegression()\n",
        "model_2 = SGDClassifier(random_state=seed)\n",
        "model_3 = NearestCentroid()\n",
        "\n",
        "# putting all base model objects in one list\n",
        "all_models = [model_1, model_2, model_3]\n",
        "\n",
        "# Ensure y_train is a 1D array\n",
        "y_train = y_train.ravel()\n",
        "\n",
        "# computing the stack features\n",
        "s_train, s_test = stacking(all_models,\n",
        "                           X_train.values, # Convert X_train to numpy array\n",
        "                           y_train,\n",
        "                           X_test.values, # Convert X_test to numpy array\n",
        "                           regression=True,\n",
        "                           n_folds=4,\n",
        "                           shuffle=True, # Enable shuffling for KFold\n",
        "                           random_state=seed, # Now you can set a random state\n",
        "                          )\n",
        "\n",
        "# initializing the second-level model\n",
        "final_model = model_3\n",
        "\n",
        "# fitting the second level model with stack features\n",
        "final_model = final_model.fit(X_train, y_train)\n",
        "\n",
        "# predicting the final output using stacking\n",
        "pred_final = final_model.predict(X_test)\n",
        "\n",
        "print('Training Report\\n {}'.format(classification_report(y_test, pred_final)))\n",
        "print('Training accuracy: {:.3f}'.format(accuracy_score(y_test, pred_final)))"
      ]
    },
    {
      "cell_type": "markdown",
      "metadata": {
        "id": "OL_S5SXiu6M7"
      },
      "source": [
        "#### Evaluating Feature Importance Using Leave-One-Feature-Out Method with Nearest Centroid"
      ]
    },
    {
      "cell_type": "code",
      "source": [
        "# Initialize and train the nearest centroid model\n",
        "clf = NearestCentroid()\n",
        "rf1 = clf.fit(X_train, y_train)\n",
        "\n",
        "# Baseline accuracy with all features\n",
        "y_pred = clf.predict(X_test)\n",
        "baseline_accuracy = accuracy_score(y_test, y_pred)\n",
        "\n",
        "# Function to calculate feature importance\n",
        "def calculate_feature_importance(X_train, y_train, X_test, y_test, feature_names):\n",
        "    n_features = X_train.shape[1]\n",
        "    feature_importance = []\n",
        "\n",
        "    for i in range(n_features):\n",
        "        # Remove one feature (leave-one-feature-out)\n",
        "        X_train_reduced = np.delete(X_train, i, axis=1)\n",
        "        X_test_reduced = np.delete(X_test, i, axis=1)\n",
        "\n",
        "        # Train the model with the reduced feature set\n",
        "        clf_reduced = NearestCentroid()\n",
        "        clf_reduced.fit(X_train_reduced, y_train)\n",
        "\n",
        "        # Predict and calculate accuracy\n",
        "        y_pred_reduced = clf_reduced.predict(X_test_reduced)\n",
        "        accuracy_reduced = accuracy_score(y_test, y_pred_reduced)\n",
        "\n",
        "        # Calculate the drop in accuracy\n",
        "        accuracy_drop = baseline_accuracy - accuracy_reduced\n",
        "        feature_importance.append((feature_names[i], accuracy_drop))\n",
        "\n",
        "  # Sort features by importance\n",
        "    feature_importance.sort(key=lambda x: x[1], reverse=True)\n",
        "    return feature_importance\n",
        "\n",
        "# Get feature names from X_train (assuming it's a pandas DataFrame)\n",
        "feature_names = X_train.columns\n",
        "\n",
        "# Calculate feature importance\n",
        "importance = calculate_feature_importance(X_train, y_train, X_test, y_test, feature_names)\n",
        "\n",
        "# Print the ranked feature importance\n",
        "print(\"\\nFeature importance (ranked):\")\n",
        "for feature, importance_value in importance:\n",
        "    print(f\"{feature}: {importance_value:.4f}\")\n",
        "\n"
      ],
      "metadata": {
        "colab": {
          "base_uri": "https://localhost:8080/"
        },
        "id": "TF26OU6FJ3ay",
        "outputId": "c3f85fa4-f814-45e2-d827-e4d2d689da11"
      },
      "execution_count": 45,
      "outputs": [
        {
          "output_type": "stream",
          "name": "stdout",
          "text": [
            "\n",
            "Feature importance (ranked):\n",
            "on_time_delivery: 0.0769\n",
            "courier_satisfaction: 0.0769\n",
            "contents_of_order: 0.0000\n",
            "easy_ordering_app: 0.0000\n",
            "ordered_everything: -0.0385\n",
            "good_price_paid: -0.0385\n"
          ]
        }
      ]
    },
    {
      "cell_type": "code",
      "source": [
        "from sklearn.neighbors import NearestCentroid\n",
        "from sklearn.inspection import permutation_importance\n",
        "import numpy as np\n",
        "\n",
        "# Initialize and fit the NearestCentroid model\n",
        "model = NearestCentroid()\n",
        "model.fit(X_train, y_train)\n",
        "\n",
        "# Calculate permutation importance\n",
        "perm_importance = permutation_importance(model, X_train, y_train, n_repeats=10, random_state=seed)\n",
        "\n",
        "# Get the importances and sort them\n",
        "sorted_importances = np.argsort(perm_importance.importances_mean)\n",
        "\n",
        "# Print sorted importances (indices)\n",
        "print(\"Sorted feature importances:\", sorted_importances)\n",
        "\n",
        "# Select the top 4 most important features\n",
        "selected_features = sorted_importances[-4:]  # Select the indices of the top 4 features\n",
        "\n",
        "print(\"Selected feature indices:\", selected_features)\n",
        "\n",
        "# Map indices to feature names\n",
        "sorted_feature_names = feature_names[sorted_importances]\n",
        "selected_feature_names = feature_names[selected_features]\n",
        "\n",
        "# Print sorted features with their indices\n",
        "print(\"\\nSorted feature importances with names:\")\n",
        "for idx in sorted_importances:\n",
        "    print(f\"Feature: {feature_names[idx]}, Importance Rank: {idx}\")\n",
        "\n",
        "# Print selected top features with their names\n",
        "print(\"\\nSelected top 4 most important features:\")\n",
        "for idx in selected_features:\n",
        "    print(f\"Feature: {feature_names[idx]}\")\n"
      ],
      "metadata": {
        "colab": {
          "base_uri": "https://localhost:8080/"
        },
        "id": "w557c61v_QoP",
        "outputId": "50333208-3a3b-48fe-f980-a964cd5d87b4"
      },
      "execution_count": 46,
      "outputs": [
        {
          "output_type": "stream",
          "name": "stdout",
          "text": [
            "Sorted feature importances: [0 3 5 4 1 2]\n",
            "Selected feature indices: [5 4 1 2]\n",
            "\n",
            "Sorted feature importances with names:\n",
            "Feature: on_time_delivery, Importance Rank: 0\n",
            "Feature: good_price_paid, Importance Rank: 3\n",
            "Feature: easy_ordering_app, Importance Rank: 5\n",
            "Feature: courier_satisfaction, Importance Rank: 4\n",
            "Feature: contents_of_order, Importance Rank: 1\n",
            "Feature: ordered_everything, Importance Rank: 2\n",
            "\n",
            "Selected top 4 most important features:\n",
            "Feature: easy_ordering_app\n",
            "Feature: courier_satisfaction\n",
            "Feature: contents_of_order\n",
            "Feature: ordered_everything\n"
          ]
        }
      ]
    },
    {
      "cell_type": "markdown",
      "source": [
        "#### **Observation after Feature Elimination**\n",
        "\n",
        "Since the features **contents_of_order, easy_ordering_app, ordered_everything, good_price_paid** has got the least priority we will try removing of these and then see if the accuracy is improving."
      ],
      "metadata": {
        "id": "z4PE4U3K9lp2"
      }
    },
    {
      "cell_type": "markdown",
      "source": [
        "####  Model Training and Evaluation with Feature Exclusion"
      ],
      "metadata": {
        "id": "k6jmkVWX9Oj4"
      }
    },
    {
      "cell_type": "markdown",
      "metadata": {
        "id": "Jk9FoEtA_pi6"
      },
      "source": [
        "##### Modelling after removing 1 Variable to see if accuracy is improving\n",
        "\n",
        "\n"
      ]
    },
    {
      "cell_type": "code",
      "source": [
        "X_train_rfe1 = X_train.drop(columns=['good_price_paid'])\n",
        "X_test_rfe1 = X_test.drop(columns=['good_price_paid'])\n",
        "\n",
        "\n",
        "# Nearest Centroid\n",
        "\n",
        "nc = NearestCentroid()\n",
        "nc.fit(X_train_rfe1, y_train)\n",
        "y_pred = nc.predict(X_test_rfe1)\n",
        "print('Training Report\\n {}'.format(classification_report(y_test,y_pred)))\n",
        "print('Training accuracy: {:.3f}'.format(accuracy_score(y_test,y_pred)))"
      ],
      "metadata": {
        "colab": {
          "base_uri": "https://localhost:8080/"
        },
        "id": "rHkHTFqMIYHA",
        "outputId": "2902e924-55eb-44d1-8ff6-8ff99ed816d2"
      },
      "execution_count": 47,
      "outputs": [
        {
          "output_type": "stream",
          "name": "stdout",
          "text": [
            "Training Report\n",
            "               precision    recall  f1-score   support\n",
            "\n",
            "           0       0.80      0.89      0.84         9\n",
            "           1       0.94      0.88      0.91        17\n",
            "\n",
            "    accuracy                           0.88        26\n",
            "   macro avg       0.87      0.89      0.88        26\n",
            "weighted avg       0.89      0.88      0.89        26\n",
            "\n",
            "Training accuracy: 0.885\n"
          ]
        }
      ]
    },
    {
      "cell_type": "code",
      "source": [
        "X_train_rfe2 = X_train.drop(columns=['contents_of_order'])\n",
        "X_test_rfe2 = X_test.drop(columns=['contents_of_order'])\n",
        "\n",
        "\n",
        "# Nearest Centroid\n",
        "\n",
        "nc = NearestCentroid()\n",
        "nc.fit(X_train_rfe2, y_train)\n",
        "y_pred = nc.predict(X_test_rfe2)\n",
        "print('Training Report\\n {}'.format(classification_report(y_test,y_pred)))\n",
        "print('Training accuracy: {:.3f}'.format(accuracy_score(y_test,y_pred)))"
      ],
      "metadata": {
        "id": "3o6Snn8FJBdS",
        "colab": {
          "base_uri": "https://localhost:8080/"
        },
        "outputId": "589ebe1d-bab9-4c5e-9b9a-e0469c0c82ea"
      },
      "execution_count": null,
      "outputs": [
        {
          "output_type": "stream",
          "name": "stdout",
          "text": [
            "Training Report\n",
            "               precision    recall  f1-score   support\n",
            "\n",
            "           0       0.78      0.78      0.78         9\n",
            "           1       0.88      0.88      0.88        17\n",
            "\n",
            "    accuracy                           0.85        26\n",
            "   macro avg       0.83      0.83      0.83        26\n",
            "weighted avg       0.85      0.85      0.85        26\n",
            "\n",
            "Training accuracy: 0.846\n"
          ]
        }
      ]
    },
    {
      "cell_type": "code",
      "source": [
        "X_train_rfe3 = X_train.drop(columns=['ordered_everything'])\n",
        "X_test_rfe3 = X_test.drop(columns=['ordered_everything'])\n",
        "\n",
        "\n",
        "# Nearest Centroid\n",
        "\n",
        "nc = NearestCentroid()\n",
        "nc.fit(X_train_rfe3, y_train)\n",
        "y_pred = nc.predict(X_test_rfe3)\n",
        "print('Training Report\\n {}'.format(classification_report(y_test,y_pred)))\n",
        "print('Training accuracy: {:.3f}'.format(accuracy_score(y_test,y_pred)))"
      ],
      "metadata": {
        "colab": {
          "base_uri": "https://localhost:8080/"
        },
        "id": "uDN3gnrk_zr8",
        "outputId": "70609305-fc06-4224-9414-c001d864cde8"
      },
      "execution_count": null,
      "outputs": [
        {
          "output_type": "stream",
          "name": "stdout",
          "text": [
            "Training Report\n",
            "               precision    recall  f1-score   support\n",
            "\n",
            "           0       0.80      0.89      0.84         9\n",
            "           1       0.94      0.88      0.91        17\n",
            "\n",
            "    accuracy                           0.88        26\n",
            "   macro avg       0.87      0.89      0.88        26\n",
            "weighted avg       0.89      0.88      0.89        26\n",
            "\n",
            "Training accuracy: 0.885\n"
          ]
        }
      ]
    },
    {
      "cell_type": "code",
      "source": [
        "X_train_rfe4 = X_train.drop(columns=['easy_ordering_app'])\n",
        "X_test_rfe4 = X_test.drop(columns=['easy_ordering_app'])\n",
        "\n",
        "\n",
        "# Nearest Centroid\n",
        "\n",
        "nc = NearestCentroid()\n",
        "nc.fit(X_train_rfe4, y_train)\n",
        "y_pred = nc.predict(X_test_rfe4)\n",
        "print('Training Report\\n {}'.format(classification_report(y_test,y_pred)))\n",
        "print('Training accuracy: {:.3f}'.format(accuracy_score(y_test,y_pred)))"
      ],
      "metadata": {
        "colab": {
          "base_uri": "https://localhost:8080/"
        },
        "id": "xtOQjKMG-Vlv",
        "outputId": "4853175f-8763-4366-fbcf-06f077490138"
      },
      "execution_count": 48,
      "outputs": [
        {
          "output_type": "stream",
          "name": "stdout",
          "text": [
            "Training Report\n",
            "               precision    recall  f1-score   support\n",
            "\n",
            "           0       0.78      0.78      0.78         9\n",
            "           1       0.88      0.88      0.88        17\n",
            "\n",
            "    accuracy                           0.85        26\n",
            "   macro avg       0.83      0.83      0.83        26\n",
            "weighted avg       0.85      0.85      0.85        26\n",
            "\n",
            "Training accuracy: 0.846\n"
          ]
        }
      ]
    },
    {
      "cell_type": "markdown",
      "source": [
        "##### Since the accuracy is staying constant or improving only when removing 2 features among the 4, we try removing both of it together."
      ],
      "metadata": {
        "id": "iWXfWdqT_MSM"
      }
    },
    {
      "cell_type": "markdown",
      "source": [
        "##### Modelling after removing 2 Variable to see if accuracy is improving\n"
      ],
      "metadata": {
        "id": "fQ0f-pNf_hA0"
      }
    },
    {
      "cell_type": "code",
      "source": [
        "X_train_rfe5 = X_train.drop(columns=['good_price_paid', 'ordered_everything'])\n",
        "X_test_rfe5 = X_test.drop(columns=['good_price_paid', 'ordered_everything'])\n",
        "\n",
        "\n",
        "# Nearest Centroid\n",
        "\n",
        "nc = NearestCentroid()\n",
        "nc.fit(X_train_rfe5, y_train)\n",
        "y_pred = nc.predict(X_test_rfe5)\n",
        "print('Training Report\\n {}'.format(classification_report(y_test,y_pred)))\n",
        "print('Training accuracy: {:.3f}'.format(accuracy_score(y_test,y_pred)))"
      ],
      "metadata": {
        "id": "hLh_bgouKAtb",
        "colab": {
          "base_uri": "https://localhost:8080/"
        },
        "outputId": "d5e3d650-e635-4c60-f91b-39fac44443c7"
      },
      "execution_count": 49,
      "outputs": [
        {
          "output_type": "stream",
          "name": "stdout",
          "text": [
            "Training Report\n",
            "               precision    recall  f1-score   support\n",
            "\n",
            "           0       0.78      0.78      0.78         9\n",
            "           1       0.88      0.88      0.88        17\n",
            "\n",
            "    accuracy                           0.85        26\n",
            "   macro avg       0.83      0.83      0.83        26\n",
            "weighted avg       0.85      0.85      0.85        26\n",
            "\n",
            "Training accuracy: 0.846\n"
          ]
        }
      ]
    },
    {
      "cell_type": "code",
      "source": [
        "X_train_rfe6 = X_train.drop(columns=['easy_ordering_app', 'contents_of_order'])\n",
        "X_test_rfe6 = X_test.drop(columns=['easy_ordering_app', 'contents_of_order'])\n",
        "\n",
        "\n",
        "# Nearest Centroid\n",
        "\n",
        "nc = NearestCentroid()\n",
        "nc.fit(X_train_rfe6, y_train)\n",
        "y_pred = nc.predict(X_test_rfe6)\n",
        "print('Training Report\\n {}'.format(classification_report(y_test,y_pred)))\n",
        "print('Training accuracy: {:.3f}'.format(accuracy_score(y_test,y_pred)))"
      ],
      "metadata": {
        "colab": {
          "base_uri": "https://localhost:8080/"
        },
        "id": "g6j2NkJM-vdK",
        "outputId": "00b3bf13-b684-40cf-ae2d-dfbb33d4c02b"
      },
      "execution_count": 55,
      "outputs": [
        {
          "output_type": "stream",
          "name": "stdout",
          "text": [
            "Training Report\n",
            "               precision    recall  f1-score   support\n",
            "\n",
            "           0       0.78      0.78      0.78         9\n",
            "           1       0.88      0.88      0.88        17\n",
            "\n",
            "    accuracy                           0.85        26\n",
            "   macro avg       0.83      0.83      0.83        26\n",
            "weighted avg       0.85      0.85      0.85        26\n",
            "\n",
            "Training accuracy: 0.846\n"
          ]
        }
      ]
    },
    {
      "cell_type": "markdown",
      "source": [
        "##### Since the accuracy is staying constant when removing 2 features together, we trying removing 3 so see which combination is working better.\n",
        "\n"
      ],
      "metadata": {
        "id": "4kV8HT4-_m6j"
      }
    },
    {
      "cell_type": "markdown",
      "source": [
        "##### Modelling after removing 3 Variable to see if accuracy is improving"
      ],
      "metadata": {
        "id": "YmAlUVM5_6V_"
      }
    },
    {
      "cell_type": "code",
      "source": [
        "X_train_rfe7 = X_train.drop(columns=['ordered_everything', 'good_price_paid', 'contents_of_order'])\n",
        "X_test_rfe7 = X_test.drop(columns=['ordered_everything', 'good_price_paid', 'contents_of_order'])\n",
        "\n",
        "\n",
        "# Nearest Centroid\n",
        "\n",
        "nc = NearestCentroid()\n",
        "nc.fit(X_train_rfe7, y_train)\n",
        "y_pred = nc.predict(X_test_rfe7)\n",
        "print('Training Report\\n {}'.format(classification_report(y_test,y_pred)))\n",
        "print('Training accuracy: {:.3f}'.format(accuracy_score(y_test,y_pred)))"
      ],
      "metadata": {
        "id": "EoCz7DTFLVYO",
        "colab": {
          "base_uri": "https://localhost:8080/"
        },
        "outputId": "e48a82bb-98ee-40aa-e329-6f6dc18cad5b"
      },
      "execution_count": 54,
      "outputs": [
        {
          "output_type": "stream",
          "name": "stdout",
          "text": [
            "Training Report\n",
            "               precision    recall  f1-score   support\n",
            "\n",
            "           0       0.73      0.89      0.80         9\n",
            "           1       0.93      0.82      0.87        17\n",
            "\n",
            "    accuracy                           0.85        26\n",
            "   macro avg       0.83      0.86      0.84        26\n",
            "weighted avg       0.86      0.85      0.85        26\n",
            "\n",
            "Training accuracy: 0.846\n"
          ]
        }
      ]
    },
    {
      "cell_type": "code",
      "source": [
        "X_train_rfe8 = X_train.drop(columns=['ordered_everything', 'good_price_paid', 'easy_ordering_app'])\n",
        "X_test_rfe8 = X_test.drop(columns=['ordered_everything', 'good_price_paid', 'easy_ordering_app'])\n",
        "\n",
        "\n",
        "# Nearest Centroid\n",
        "\n",
        "nc = NearestCentroid()\n",
        "nc.fit(X_train_rfe8, y_train)\n",
        "y_pred = nc.predict(X_test_rfe8)\n",
        "print('Training Report\\n {}'.format(classification_report(y_test,y_pred)))\n",
        "print('Training accuracy: {:.3f}'.format(accuracy_score(y_test,y_pred)))"
      ],
      "metadata": {
        "id": "F2gPK_JyQvSu",
        "colab": {
          "base_uri": "https://localhost:8080/"
        },
        "outputId": "99f7b10a-005e-4250-b373-e968aba57e8e"
      },
      "execution_count": 56,
      "outputs": [
        {
          "output_type": "stream",
          "name": "stdout",
          "text": [
            "Training Report\n",
            "               precision    recall  f1-score   support\n",
            "\n",
            "           0       0.75      0.67      0.71         9\n",
            "           1       0.83      0.88      0.86        17\n",
            "\n",
            "    accuracy                           0.81        26\n",
            "   macro avg       0.79      0.77      0.78        26\n",
            "weighted avg       0.80      0.81      0.80        26\n",
            "\n",
            "Training accuracy: 0.808\n"
          ]
        }
      ]
    },
    {
      "cell_type": "markdown",
      "source": [
        "### Observation after RFE"
      ],
      "metadata": {
        "id": "vc5bvPYGAaYc"
      }
    },
    {
      "cell_type": "markdown",
      "source": [
        "##### Hence, we can conclude that removing the 3 features - **'ordered_everything', 'good_price_paid', 'contents_of_order'** improves the accuracy of prediction of the model.\n"
      ],
      "metadata": {
        "id": "p3T1TPujABcg"
      }
    },
    {
      "cell_type": "markdown",
      "source": [
        "### Hyperparamter Tuning on Nearest Centroid"
      ],
      "metadata": {
        "id": "JvoeCKdrLVvw"
      }
    },
    {
      "cell_type": "markdown",
      "source": [
        "#### 1. Hyperopt Tuning"
      ],
      "metadata": {
        "id": "BPNK553IAv7s"
      }
    },
    {
      "cell_type": "code",
      "source": [
        "from hyperopt import fmin, tpe, hp, STATUS_OK, Trials\n",
        "from sklearn.model_selection import cross_val_score\n",
        "\n",
        "def objective(params):\n",
        "    model = NearestCentroid(**params)\n",
        "    accuracy = cross_val_score(model, X_train_rfe7, y_train, cv=5, scoring='accuracy').mean()\n",
        "    return {'loss': -accuracy, 'status': STATUS_OK}\n",
        "\n",
        "space = {\n",
        "    'metric': hp.choice('metric', ['euclidean', 'manhattan']),\n",
        "    'shrink_threshold': hp.choice('shrink_threshold', [None, 0.1, 0.5, 1.0])\n",
        "}\n",
        "\n",
        "trials = Trials()\n",
        "best = fmin(fn=objective,\n",
        "            space=space,\n",
        "            algo=tpe.suggest,\n",
        "            max_evals=50,  # Number of evaluations\n",
        "            trials=trials)\n",
        "\n",
        "print(f\"Best parameters: {best}\")\n",
        "\n",
        "# Evaluate the best model on the test set\n",
        "best_metric = ['manhattan', 'euclidean', 'chebyshev'][best['metric']]\n",
        "\n",
        "print(f\"Best parameters: {best_metric}\")"
      ],
      "metadata": {
        "colab": {
          "base_uri": "https://localhost:8080/"
        },
        "id": "fxZer5XQA25T",
        "outputId": "6a71a0af-8832-42cd-b5b8-09239f7d237f"
      },
      "execution_count": 72,
      "outputs": [
        {
          "output_type": "stream",
          "name": "stdout",
          "text": [
            "100%|██████████| 50/50 [00:03<00:00, 14.43trial/s, best loss: -0.62]\n",
            "Best parameters: {'metric': 1, 'shrink_threshold': 3}\n",
            "Best parameters: euclidean\n"
          ]
        }
      ]
    },
    {
      "cell_type": "code",
      "source": [
        "model = NearestCentroid(metric=best_metric)\n",
        "model.fit(X_train_rfe7, y_train)\n",
        "\n",
        "y_pred = model.predict(X_test_rfe7)\n",
        "print('Training Report\\n {}'.format(classification_report(y_test,y_pred)))\n",
        "print('Training accuracy: {:.3f}'.format(accuracy_score(y_test,y_pred)))\n"
      ],
      "metadata": {
        "colab": {
          "base_uri": "https://localhost:8080/"
        },
        "id": "I7JjTX4xAzME",
        "outputId": "807ed4e7-d27a-4323-a0e5-7ed695e1914b"
      },
      "execution_count": 73,
      "outputs": [
        {
          "output_type": "stream",
          "name": "stdout",
          "text": [
            "Training Report\n",
            "               precision    recall  f1-score   support\n",
            "\n",
            "           0       0.73      0.89      0.80         9\n",
            "           1       0.93      0.82      0.87        17\n",
            "\n",
            "    accuracy                           0.85        26\n",
            "   macro avg       0.83      0.86      0.84        26\n",
            "weighted avg       0.86      0.85      0.85        26\n",
            "\n",
            "Training accuracy: 0.846\n"
          ]
        }
      ]
    },
    {
      "cell_type": "markdown",
      "source": [
        "#### 2. GridSearchCV"
      ],
      "metadata": {
        "id": "KiNvBOmX9dJo"
      }
    },
    {
      "cell_type": "code",
      "source": [
        "## Hyper Parameter Optimization\n",
        "param_grid = {\n",
        "    'shrink_threshold': [None]\n",
        "}"
      ],
      "metadata": {
        "id": "otR4pP3dLYxY"
      },
      "execution_count": 75,
      "outputs": []
    },
    {
      "cell_type": "code",
      "source": [
        "## Hyperparameter optimization using RandomizedSearchCV\n",
        "from sklearn.model_selection import RandomizedSearchCV, GridSearchCV\n"
      ],
      "metadata": {
        "id": "CP_dt0ZXLY3Q"
      },
      "execution_count": 76,
      "outputs": []
    },
    {
      "cell_type": "code",
      "source": [
        "# Initialize the NearestCentroid model\n",
        "model = NearestCentroid()\n",
        "\n",
        "# Initialize GridSearchCV\n",
        "grid_search = GridSearchCV(estimator=model, param_grid=param_grid, cv=5, scoring='accuracy')\n",
        "\n",
        "# Fit the model using grid search\n",
        "grid_search.fit(X_train_rfe7, y_train)\n",
        "\n",
        "# Get the best model and hyperparameters\n",
        "best_model = grid_search.best_estimator_\n",
        "best_params = grid_search.best_params_\n",
        "\n",
        "# Print the best hyperparameters\n",
        "print(\"Best hyperparameters:\", best_params)\n",
        "\n",
        "# Get the feature names used during training\n",
        "training_features = X_train_rfe7.columns\n",
        "\n",
        "# Select only those features from X_test_rfe5\n",
        "X_test_for_prediction = X_test_rfe7[training_features]\n",
        "\n",
        "# Now predict using the subset of X_test_rfe5\n",
        "y_pred = best_model.predict(X_test_for_prediction)\n",
        "\n",
        "\n",
        "# Evaluate the model\n",
        "print(\"\\nClassification Report:\\n\", classification_report(y_test, y_pred))\n",
        "print(\"Accuracy on test data:\", accuracy_score(y_test, y_pred))"
      ],
      "metadata": {
        "colab": {
          "base_uri": "https://localhost:8080/"
        },
        "id": "CAmXkXW4REYV",
        "outputId": "fec4936d-c3b5-4a1f-b7c8-24749e37eb9d"
      },
      "execution_count": 77,
      "outputs": [
        {
          "output_type": "stream",
          "name": "stdout",
          "text": [
            "Best hyperparameters: {'shrink_threshold': None}\n",
            "\n",
            "Classification Report:\n",
            "               precision    recall  f1-score   support\n",
            "\n",
            "           0       0.73      0.89      0.80         9\n",
            "           1       0.93      0.82      0.87        17\n",
            "\n",
            "    accuracy                           0.85        26\n",
            "   macro avg       0.83      0.86      0.84        26\n",
            "weighted avg       0.86      0.85      0.85        26\n",
            "\n",
            "Accuracy on test data: 0.8461538461538461\n"
          ]
        }
      ]
    },
    {
      "cell_type": "markdown",
      "source": [
        "#### 3. RandomizedSearchCV"
      ],
      "metadata": {
        "id": "Xhw2j3Iv9m_d"
      }
    },
    {
      "cell_type": "code",
      "source": [
        "# Initialize the NearestCentroid model\n",
        "classifier = NearestCentroid()\n",
        "\n",
        "# Initialize RandomizedSearchCV with cross-validation\n",
        "random_search = RandomizedSearchCV(\n",
        "    estimator=classifier,\n",
        "    param_distributions=param_grid,\n",
        "    n_iter=5,  # Number of parameter settings to try\n",
        "    scoring='accuracy',  # You might use 'roc_auc' for binary classification\n",
        "    n_jobs=-1,\n",
        "    cv=5,\n",
        "    verbose=3,\n",
        "    random_state=seed\n",
        ")\n",
        "\n",
        "# Fit the model using random search\n",
        "random_search.fit(X_train_rfe7, y_train)\n",
        "\n",
        "# Get the best estimator\n",
        "best_estimator = random_search.best_estimator_\n",
        "\n",
        "# Print the best hyperparameters and the best score\n",
        "print(\"Best Hyperparameters:\", random_search.best_params_)\n",
        "print(\"Best Cross-Validation Score:\", random_search.best_score_)\n",
        "\n",
        "# Get the feature names used during training\n",
        "training_features = X_train_rfe7.columns\n",
        "\n",
        "# Select only those features from X_test_rfe5\n",
        "X_test_for_prediction = X_test_rfe7[training_features]\n",
        "\n",
        "# Evaluate the best model on the test set (using the subset of X_test_rfe5)\n",
        "test_accuracy = best_estimator.score(X_test_for_prediction, y_test)\n",
        "\n",
        "y_pred = best_estimator.predict(X_test_for_prediction)\n",
        "\n",
        "print(\"\\nClassification Report:\\n\", classification_report(y_test, y_pred))\n",
        "print(\"Accuracy on test data:\", accuracy_score(y_test, y_pred))"
      ],
      "metadata": {
        "colab": {
          "base_uri": "https://localhost:8080/"
        },
        "id": "KONJ6nzkRZU-",
        "outputId": "70d985e9-c6d0-43fd-fdd0-78b1bef3acc7"
      },
      "execution_count": 78,
      "outputs": [
        {
          "output_type": "stream",
          "name": "stdout",
          "text": [
            "Fitting 5 folds for each of 1 candidates, totalling 5 fits\n",
            "Best Hyperparameters: {'shrink_threshold': None}\n",
            "Best Cross-Validation Score: 0.51\n",
            "\n",
            "Classification Report:\n",
            "               precision    recall  f1-score   support\n",
            "\n",
            "           0       0.73      0.89      0.80         9\n",
            "           1       0.93      0.82      0.87        17\n",
            "\n",
            "    accuracy                           0.85        26\n",
            "   macro avg       0.83      0.86      0.84        26\n",
            "weighted avg       0.86      0.85      0.85        26\n",
            "\n",
            "Accuracy on test data: 0.8461538461538461\n"
          ]
        }
      ]
    },
    {
      "cell_type": "markdown",
      "source": [
        "### **Conclusion**"
      ],
      "metadata": {
        "id": "TdrbS92eEVc4"
      }
    },
    {
      "cell_type": "markdown",
      "source": [
        "\n",
        "Our analysis focused on predicting customer happiness using survey data with various machine learning models. Here are the key findings and recommendations:\n",
        "\n",
        "**Model Performance:**\n",
        "\n",
        "The Nearest Centroid model demonstrated the best performance with an accuracy of 84.6% and a recall score of 89% for unhappy customers. This model outperformed others in terms of accuracy, precision, and recall.\n",
        "\n",
        "**Feature Importance and Selection:**\n",
        "\n",
        "Recursive Feature Elimination (RFE) revealed that removing the features 'ordered_everything' (X3), 'good_price_paid' (X4), and 'contents_of_order' (X2) improved the model's accuracy. This suggests that these features have minimal impact on predicting customer happiness. However, this observation should be interpreted with caution due to the limited size of the dataset, which may not fully reflect real-world trends.\n",
        "\n",
        "**Key Features:**\n",
        "\n",
        "The model identified 'on_time_delivery' (X1) and 'courier_satisfaction' (X5) as significant predictors of customer happiness. Ensuring timely deliveries and maintaining high courier satisfaction levels are likely to have a positive impact on customer satisfaction.\n",
        "\n",
        "**Hyperparameter Tuning:**\n",
        "\n",
        "Hyperparameter tuning did not yield improvements in accuracy for the Nearest Centroid model, reinforcing the conclusion that feature elimination positively affects model performance."
      ],
      "metadata": {
        "id": "_zC3Aq-NEX3w"
      }
    },
    {
      "cell_type": "markdown",
      "source": [
        "### **Recommendation**"
      ],
      "metadata": {
        "id": "Piju6mI-HYlB"
      }
    },
    {
      "cell_type": "markdown",
      "source": [
        "**Data Collection:**\n",
        "\n",
        "Increased data collection is crucial for refining the model and achieving more reliable predictions. A larger and more representative dataset will enhance the model’s ability to generalize and provide actionable insights.\n",
        "\n",
        "**Survey Focus:**\n",
        "\n",
        "To accurately predict customer happiness, focus on the following key questions in surveys:\n",
        "\n",
        "Was the delivery on time?\n",
        "Was the customer satisfied with the courier?\n",
        "Was the app easy to use for ordering?\n",
        "Other questions do not contribute significantly to prediction accuracy and can be streamlined.\n",
        "\n",
        "**Customer Satisfaction Improvement:**\n",
        "\n",
        "To boost customer satisfaction, prioritize improvements in delivery timeliness and courier performance. Ensuring high scores in these areas will likely lead to higher customer satisfaction levels.\n",
        "By focusing on these recommendations, the company can enhance its understanding of customer satisfaction and implement strategies to improve service quality and customer happiness."
      ],
      "metadata": {
        "id": "sK_kQEdYH0b8"
      }
    }
  ],
  "metadata": {
    "colab": {
      "provenance": [],
      "authorship_tag": "ABX9TyOFvGUZsc6c1AfRjGGCZbRR",
      "include_colab_link": true
    },
    "kernelspec": {
      "display_name": "Python 3",
      "name": "python3"
    },
    "language_info": {
      "name": "python"
    }
  },
  "nbformat": 4,
  "nbformat_minor": 0
}