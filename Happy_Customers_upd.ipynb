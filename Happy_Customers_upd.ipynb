{
  "cells": [
    {
      "cell_type": "markdown",
      "metadata": {
        "id": "view-in-github",
        "colab_type": "text"
      },
      "source": [
        "<a href=\"https://colab.research.google.com/github/DevikaSreemon/Apziva-project-1--HappyCustomer/blob/main/Happy_Customers_upd.ipynb\" target=\"_parent\"><img src=\"https://colab.research.google.com/assets/colab-badge.svg\" alt=\"Open In Colab\"/></a>"
      ]
    },
    {
      "cell_type": "code",
      "execution_count": null,
      "metadata": {
        "colab": {
          "base_uri": "https://localhost:8080/"
        },
        "id": "lKmSdwnFbsN2",
        "outputId": "506c3e9f-c9a9-4e41-c5b0-e49daa3f5e48"
      },
      "outputs": [
        {
          "output_type": "stream",
          "name": "stdout",
          "text": [
            "Collecting lazypredict\n",
            "  Downloading lazypredict-0.2.12-py2.py3-none-any.whl.metadata (12 kB)\n",
            "Requirement already satisfied: click in /usr/local/lib/python3.10/dist-packages (from lazypredict) (8.1.7)\n",
            "Requirement already satisfied: scikit-learn in /usr/local/lib/python3.10/dist-packages (from lazypredict) (1.3.2)\n",
            "Requirement already satisfied: pandas in /usr/local/lib/python3.10/dist-packages (from lazypredict) (2.1.4)\n",
            "Requirement already satisfied: tqdm in /usr/local/lib/python3.10/dist-packages (from lazypredict) (4.66.5)\n",
            "Requirement already satisfied: joblib in /usr/local/lib/python3.10/dist-packages (from lazypredict) (1.4.2)\n",
            "Requirement already satisfied: lightgbm in /usr/local/lib/python3.10/dist-packages (from lazypredict) (4.4.0)\n",
            "Requirement already satisfied: xgboost in /usr/local/lib/python3.10/dist-packages (from lazypredict) (2.1.1)\n",
            "Requirement already satisfied: numpy>=1.17.0 in /usr/local/lib/python3.10/dist-packages (from lightgbm->lazypredict) (1.26.4)\n",
            "Requirement already satisfied: scipy in /usr/local/lib/python3.10/dist-packages (from lightgbm->lazypredict) (1.13.1)\n",
            "Requirement already satisfied: python-dateutil>=2.8.2 in /usr/local/lib/python3.10/dist-packages (from pandas->lazypredict) (2.8.2)\n",
            "Requirement already satisfied: pytz>=2020.1 in /usr/local/lib/python3.10/dist-packages (from pandas->lazypredict) (2024.1)\n",
            "Requirement already satisfied: tzdata>=2022.1 in /usr/local/lib/python3.10/dist-packages (from pandas->lazypredict) (2024.1)\n",
            "Requirement already satisfied: threadpoolctl>=2.0.0 in /usr/local/lib/python3.10/dist-packages (from scikit-learn->lazypredict) (3.5.0)\n",
            "Collecting nvidia-nccl-cu12 (from xgboost->lazypredict)\n",
            "  Downloading nvidia_nccl_cu12-2.22.3-py3-none-manylinux2014_x86_64.whl.metadata (1.8 kB)\n",
            "Requirement already satisfied: six>=1.5 in /usr/local/lib/python3.10/dist-packages (from python-dateutil>=2.8.2->pandas->lazypredict) (1.16.0)\n",
            "Downloading lazypredict-0.2.12-py2.py3-none-any.whl (12 kB)\n",
            "Downloading nvidia_nccl_cu12-2.22.3-py3-none-manylinux2014_x86_64.whl (190.9 MB)\n",
            "\u001b[2K   \u001b[90m━━━━━━━━━━━━━━━━━━━━━━━━━━━━━━━━━━━━━━━━\u001b[0m \u001b[32m190.9/190.9 MB\u001b[0m \u001b[31m5.4 MB/s\u001b[0m eta \u001b[36m0:00:00\u001b[0m\n",
            "\u001b[?25hInstalling collected packages: nvidia-nccl-cu12, lazypredict\n",
            "\u001b[31mERROR: pip's dependency resolver does not currently take into account all the packages that are installed. This behaviour is the source of the following dependency conflicts.\n",
            "torch 2.3.1+cu121 requires nvidia-cublas-cu12==12.1.3.1; platform_system == \"Linux\" and platform_machine == \"x86_64\", which is not installed.\n",
            "torch 2.3.1+cu121 requires nvidia-cuda-cupti-cu12==12.1.105; platform_system == \"Linux\" and platform_machine == \"x86_64\", which is not installed.\n",
            "torch 2.3.1+cu121 requires nvidia-cuda-nvrtc-cu12==12.1.105; platform_system == \"Linux\" and platform_machine == \"x86_64\", which is not installed.\n",
            "torch 2.3.1+cu121 requires nvidia-cuda-runtime-cu12==12.1.105; platform_system == \"Linux\" and platform_machine == \"x86_64\", which is not installed.\n",
            "torch 2.3.1+cu121 requires nvidia-cudnn-cu12==8.9.2.26; platform_system == \"Linux\" and platform_machine == \"x86_64\", which is not installed.\n",
            "torch 2.3.1+cu121 requires nvidia-cufft-cu12==11.0.2.54; platform_system == \"Linux\" and platform_machine == \"x86_64\", which is not installed.\n",
            "torch 2.3.1+cu121 requires nvidia-curand-cu12==10.3.2.106; platform_system == \"Linux\" and platform_machine == \"x86_64\", which is not installed.\n",
            "torch 2.3.1+cu121 requires nvidia-cusolver-cu12==11.4.5.107; platform_system == \"Linux\" and platform_machine == \"x86_64\", which is not installed.\n",
            "torch 2.3.1+cu121 requires nvidia-cusparse-cu12==12.1.0.106; platform_system == \"Linux\" and platform_machine == \"x86_64\", which is not installed.\n",
            "torch 2.3.1+cu121 requires nvidia-nvtx-cu12==12.1.105; platform_system == \"Linux\" and platform_machine == \"x86_64\", which is not installed.\n",
            "torch 2.3.1+cu121 requires nvidia-nccl-cu12==2.20.5; platform_system == \"Linux\" and platform_machine == \"x86_64\", but you have nvidia-nccl-cu12 2.22.3 which is incompatible.\u001b[0m\u001b[31m\n",
            "\u001b[0mSuccessfully installed lazypredict-0.2.12 nvidia-nccl-cu12-2.22.3\n"
          ]
        }
      ],
      "source": [
        "! pip install lazypredict"
      ]
    },
    {
      "cell_type": "code",
      "execution_count": null,
      "metadata": {
        "colab": {
          "base_uri": "https://localhost:8080/"
        },
        "id": "pj2KMDwnbyQl",
        "outputId": "8b641c57-df2d-45a1-d43b-111ebcd72960"
      },
      "outputs": [
        {
          "output_type": "stream",
          "name": "stdout",
          "text": [
            "Collecting vecstack\n",
            "  Downloading vecstack-0.4.0.tar.gz (18 kB)\n",
            "  Preparing metadata (setup.py) ... \u001b[?25l\u001b[?25hdone\n",
            "Requirement already satisfied: numpy in /usr/local/lib/python3.10/dist-packages (from vecstack) (1.26.4)\n",
            "Requirement already satisfied: scipy in /usr/local/lib/python3.10/dist-packages (from vecstack) (1.13.1)\n",
            "Requirement already satisfied: scikit-learn>=0.18 in /usr/local/lib/python3.10/dist-packages (from vecstack) (1.3.2)\n",
            "Requirement already satisfied: joblib>=1.1.1 in /usr/local/lib/python3.10/dist-packages (from scikit-learn>=0.18->vecstack) (1.4.2)\n",
            "Requirement already satisfied: threadpoolctl>=2.0.0 in /usr/local/lib/python3.10/dist-packages (from scikit-learn>=0.18->vecstack) (3.5.0)\n",
            "Building wheels for collected packages: vecstack\n",
            "  Building wheel for vecstack (setup.py) ... \u001b[?25l\u001b[?25hdone\n",
            "  Created wheel for vecstack: filename=vecstack-0.4.0-py3-none-any.whl size=19860 sha256=682e34a655b114f617786a80a198d676cb8cf17975ca22a16d0e94487499fee9\n",
            "  Stored in directory: /root/.cache/pip/wheels/b8/d8/51/3cf39adf22c522b0a91dc2208db4e9de4d2d9d171683596220\n",
            "Successfully built vecstack\n",
            "Installing collected packages: vecstack\n",
            "Successfully installed vecstack-0.4.0\n"
          ]
        }
      ],
      "source": [
        "!pip install vecstack"
      ]
    },
    {
      "cell_type": "markdown",
      "metadata": {
        "id": "MLWB2ojQb3zP"
      },
      "source": [
        "# Happy Customer"
      ]
    },
    {
      "cell_type": "markdown",
      "metadata": {
        "id": "5iDRhLwyb11g"
      },
      "source": [
        "Background:\n",
        "\n",
        "We are one of the fastest growing startups in the logistics and delivery domain. We work with several partners and make on-demand delivery to our customers. During the COVID-19 pandemic, we are facing several different challenges and everyday we are trying to address these challenges.\n",
        "\n",
        "We thrive on making our customers happy. As a growing startup, with a global expansion strategy we know that we need to make our customers happy and the only way to do that is to measure how happy each customer is. If we can predict what makes our customers happy or unhappy, we can then take necessary actions.\n",
        "\n",
        "Getting feedback from customers is not easy either, but we do our best to get constant feedback from our customers. This is a crucial function to improve our operations across all levels.\n",
        "\n",
        "We recently did a survey to a select customer cohort. You are presented with a subset of this data. We will be using the remaining data as a private test set.\n",
        "\n",
        "Data Description:\n",
        "\n",
        "Y = target attribute (Y) with values indicating 0 (unhappy) and 1 (happy) customers\n",
        "X1 = my order was delivered on time\n",
        "X2 = contents of my order was as I expected\n",
        "X3 = I ordered everything I wanted to order\n",
        "X4 = I paid a good price for my order\n",
        "X5 = I am satisfied with my courier\n",
        "X6 = the app makes ordering easy for me\n",
        "\n",
        "Attributes X1 to X6 indicate the responses for each question and have values from 1 to 5 where the smaller number indicates less and the higher number indicates more towards the answer.\n",
        "\n",
        "Goal(s):\n",
        "\n",
        "Predict if a customer is happy or not based on the answers they give to questions asked.\n",
        "\n",
        "Success Metrics:\n",
        "\n",
        "Reach 73% accuracy score or above, or convince us why your solution is superior. We are definitely interested in every solution and insight you can provide us.\n",
        "\n",
        "Try to submit your working solution as soon as possible. The sooner the better.\n",
        "\n",
        "Bonus(es):\n",
        "\n",
        "We are very interested in finding which questions/features are more important when predicting a customer’s happiness. Using a feature selection approach show us understand what is the minimal set of attributes/features that would preserve the most information about the problem while increasing predictability of the data we have. Is there any question that we can remove in our next survey?"
      ]
    },
    {
      "cell_type": "code",
      "execution_count": null,
      "metadata": {
        "id": "VhTGf25Fb8rv"
      },
      "outputs": [],
      "source": [
        "import pandas as pd\n",
        "import numpy as np\n",
        "import matplotlib.pyplot as plt\n",
        "import seaborn as sns"
      ]
    },
    {
      "cell_type": "code",
      "execution_count": null,
      "metadata": {
        "colab": {
          "base_uri": "https://localhost:8080/",
          "height": 441
        },
        "id": "a1dibGULb-WD",
        "outputId": "e44c7d4a-e93b-4ef1-9086-333790cf4cf4"
      },
      "outputs": [
        {
          "output_type": "stream",
          "name": "stdout",
          "text": [
            "Mounted at /content/drive\n"
          ]
        },
        {
          "output_type": "execute_result",
          "data": {
            "text/plain": [
              "     Y  X1  X2  X3  X4  X5  X6\n",
              "0    0   3   3   3   4   2   4\n",
              "1    0   3   2   3   5   4   3\n",
              "2    1   5   3   3   3   3   5\n",
              "3    0   5   4   3   3   3   5\n",
              "4    0   5   4   3   3   3   5\n",
              "..  ..  ..  ..  ..  ..  ..  ..\n",
              "121  1   5   2   3   4   4   3\n",
              "122  1   5   2   3   4   2   5\n",
              "123  1   5   3   3   4   4   5\n",
              "124  0   4   3   3   4   4   5\n",
              "125  0   5   3   2   5   5   5\n",
              "\n",
              "[126 rows x 7 columns]"
            ],
            "text/html": [
              "\n",
              "  <div id=\"df-09a7a773-6842-4f5e-89b6-f6bc00f20876\" class=\"colab-df-container\">\n",
              "    <div>\n",
              "<style scoped>\n",
              "    .dataframe tbody tr th:only-of-type {\n",
              "        vertical-align: middle;\n",
              "    }\n",
              "\n",
              "    .dataframe tbody tr th {\n",
              "        vertical-align: top;\n",
              "    }\n",
              "\n",
              "    .dataframe thead th {\n",
              "        text-align: right;\n",
              "    }\n",
              "</style>\n",
              "<table border=\"1\" class=\"dataframe\">\n",
              "  <thead>\n",
              "    <tr style=\"text-align: right;\">\n",
              "      <th></th>\n",
              "      <th>Y</th>\n",
              "      <th>X1</th>\n",
              "      <th>X2</th>\n",
              "      <th>X3</th>\n",
              "      <th>X4</th>\n",
              "      <th>X5</th>\n",
              "      <th>X6</th>\n",
              "    </tr>\n",
              "  </thead>\n",
              "  <tbody>\n",
              "    <tr>\n",
              "      <th>0</th>\n",
              "      <td>0</td>\n",
              "      <td>3</td>\n",
              "      <td>3</td>\n",
              "      <td>3</td>\n",
              "      <td>4</td>\n",
              "      <td>2</td>\n",
              "      <td>4</td>\n",
              "    </tr>\n",
              "    <tr>\n",
              "      <th>1</th>\n",
              "      <td>0</td>\n",
              "      <td>3</td>\n",
              "      <td>2</td>\n",
              "      <td>3</td>\n",
              "      <td>5</td>\n",
              "      <td>4</td>\n",
              "      <td>3</td>\n",
              "    </tr>\n",
              "    <tr>\n",
              "      <th>2</th>\n",
              "      <td>1</td>\n",
              "      <td>5</td>\n",
              "      <td>3</td>\n",
              "      <td>3</td>\n",
              "      <td>3</td>\n",
              "      <td>3</td>\n",
              "      <td>5</td>\n",
              "    </tr>\n",
              "    <tr>\n",
              "      <th>3</th>\n",
              "      <td>0</td>\n",
              "      <td>5</td>\n",
              "      <td>4</td>\n",
              "      <td>3</td>\n",
              "      <td>3</td>\n",
              "      <td>3</td>\n",
              "      <td>5</td>\n",
              "    </tr>\n",
              "    <tr>\n",
              "      <th>4</th>\n",
              "      <td>0</td>\n",
              "      <td>5</td>\n",
              "      <td>4</td>\n",
              "      <td>3</td>\n",
              "      <td>3</td>\n",
              "      <td>3</td>\n",
              "      <td>5</td>\n",
              "    </tr>\n",
              "    <tr>\n",
              "      <th>...</th>\n",
              "      <td>...</td>\n",
              "      <td>...</td>\n",
              "      <td>...</td>\n",
              "      <td>...</td>\n",
              "      <td>...</td>\n",
              "      <td>...</td>\n",
              "      <td>...</td>\n",
              "    </tr>\n",
              "    <tr>\n",
              "      <th>121</th>\n",
              "      <td>1</td>\n",
              "      <td>5</td>\n",
              "      <td>2</td>\n",
              "      <td>3</td>\n",
              "      <td>4</td>\n",
              "      <td>4</td>\n",
              "      <td>3</td>\n",
              "    </tr>\n",
              "    <tr>\n",
              "      <th>122</th>\n",
              "      <td>1</td>\n",
              "      <td>5</td>\n",
              "      <td>2</td>\n",
              "      <td>3</td>\n",
              "      <td>4</td>\n",
              "      <td>2</td>\n",
              "      <td>5</td>\n",
              "    </tr>\n",
              "    <tr>\n",
              "      <th>123</th>\n",
              "      <td>1</td>\n",
              "      <td>5</td>\n",
              "      <td>3</td>\n",
              "      <td>3</td>\n",
              "      <td>4</td>\n",
              "      <td>4</td>\n",
              "      <td>5</td>\n",
              "    </tr>\n",
              "    <tr>\n",
              "      <th>124</th>\n",
              "      <td>0</td>\n",
              "      <td>4</td>\n",
              "      <td>3</td>\n",
              "      <td>3</td>\n",
              "      <td>4</td>\n",
              "      <td>4</td>\n",
              "      <td>5</td>\n",
              "    </tr>\n",
              "    <tr>\n",
              "      <th>125</th>\n",
              "      <td>0</td>\n",
              "      <td>5</td>\n",
              "      <td>3</td>\n",
              "      <td>2</td>\n",
              "      <td>5</td>\n",
              "      <td>5</td>\n",
              "      <td>5</td>\n",
              "    </tr>\n",
              "  </tbody>\n",
              "</table>\n",
              "<p>126 rows × 7 columns</p>\n",
              "</div>\n",
              "    <div class=\"colab-df-buttons\">\n",
              "\n",
              "  <div class=\"colab-df-container\">\n",
              "    <button class=\"colab-df-convert\" onclick=\"convertToInteractive('df-09a7a773-6842-4f5e-89b6-f6bc00f20876')\"\n",
              "            title=\"Convert this dataframe to an interactive table.\"\n",
              "            style=\"display:none;\">\n",
              "\n",
              "  <svg xmlns=\"http://www.w3.org/2000/svg\" height=\"24px\" viewBox=\"0 -960 960 960\">\n",
              "    <path d=\"M120-120v-720h720v720H120Zm60-500h600v-160H180v160Zm220 220h160v-160H400v160Zm0 220h160v-160H400v160ZM180-400h160v-160H180v160Zm440 0h160v-160H620v160ZM180-180h160v-160H180v160Zm440 0h160v-160H620v160Z\"/>\n",
              "  </svg>\n",
              "    </button>\n",
              "\n",
              "  <style>\n",
              "    .colab-df-container {\n",
              "      display:flex;\n",
              "      gap: 12px;\n",
              "    }\n",
              "\n",
              "    .colab-df-convert {\n",
              "      background-color: #E8F0FE;\n",
              "      border: none;\n",
              "      border-radius: 50%;\n",
              "      cursor: pointer;\n",
              "      display: none;\n",
              "      fill: #1967D2;\n",
              "      height: 32px;\n",
              "      padding: 0 0 0 0;\n",
              "      width: 32px;\n",
              "    }\n",
              "\n",
              "    .colab-df-convert:hover {\n",
              "      background-color: #E2EBFA;\n",
              "      box-shadow: 0px 1px 2px rgba(60, 64, 67, 0.3), 0px 1px 3px 1px rgba(60, 64, 67, 0.15);\n",
              "      fill: #174EA6;\n",
              "    }\n",
              "\n",
              "    .colab-df-buttons div {\n",
              "      margin-bottom: 4px;\n",
              "    }\n",
              "\n",
              "    [theme=dark] .colab-df-convert {\n",
              "      background-color: #3B4455;\n",
              "      fill: #D2E3FC;\n",
              "    }\n",
              "\n",
              "    [theme=dark] .colab-df-convert:hover {\n",
              "      background-color: #434B5C;\n",
              "      box-shadow: 0px 1px 3px 1px rgba(0, 0, 0, 0.15);\n",
              "      filter: drop-shadow(0px 1px 2px rgba(0, 0, 0, 0.3));\n",
              "      fill: #FFFFFF;\n",
              "    }\n",
              "  </style>\n",
              "\n",
              "    <script>\n",
              "      const buttonEl =\n",
              "        document.querySelector('#df-09a7a773-6842-4f5e-89b6-f6bc00f20876 button.colab-df-convert');\n",
              "      buttonEl.style.display =\n",
              "        google.colab.kernel.accessAllowed ? 'block' : 'none';\n",
              "\n",
              "      async function convertToInteractive(key) {\n",
              "        const element = document.querySelector('#df-09a7a773-6842-4f5e-89b6-f6bc00f20876');\n",
              "        const dataTable =\n",
              "          await google.colab.kernel.invokeFunction('convertToInteractive',\n",
              "                                                    [key], {});\n",
              "        if (!dataTable) return;\n",
              "\n",
              "        const docLinkHtml = 'Like what you see? Visit the ' +\n",
              "          '<a target=\"_blank\" href=https://colab.research.google.com/notebooks/data_table.ipynb>data table notebook</a>'\n",
              "          + ' to learn more about interactive tables.';\n",
              "        element.innerHTML = '';\n",
              "        dataTable['output_type'] = 'display_data';\n",
              "        await google.colab.output.renderOutput(dataTable, element);\n",
              "        const docLink = document.createElement('div');\n",
              "        docLink.innerHTML = docLinkHtml;\n",
              "        element.appendChild(docLink);\n",
              "      }\n",
              "    </script>\n",
              "  </div>\n",
              "\n",
              "\n",
              "<div id=\"df-eabf85ac-ac20-430f-8f50-78315926093f\">\n",
              "  <button class=\"colab-df-quickchart\" onclick=\"quickchart('df-eabf85ac-ac20-430f-8f50-78315926093f')\"\n",
              "            title=\"Suggest charts\"\n",
              "            style=\"display:none;\">\n",
              "\n",
              "<svg xmlns=\"http://www.w3.org/2000/svg\" height=\"24px\"viewBox=\"0 0 24 24\"\n",
              "     width=\"24px\">\n",
              "    <g>\n",
              "        <path d=\"M19 3H5c-1.1 0-2 .9-2 2v14c0 1.1.9 2 2 2h14c1.1 0 2-.9 2-2V5c0-1.1-.9-2-2-2zM9 17H7v-7h2v7zm4 0h-2V7h2v10zm4 0h-2v-4h2v4z\"/>\n",
              "    </g>\n",
              "</svg>\n",
              "  </button>\n",
              "\n",
              "<style>\n",
              "  .colab-df-quickchart {\n",
              "      --bg-color: #E8F0FE;\n",
              "      --fill-color: #1967D2;\n",
              "      --hover-bg-color: #E2EBFA;\n",
              "      --hover-fill-color: #174EA6;\n",
              "      --disabled-fill-color: #AAA;\n",
              "      --disabled-bg-color: #DDD;\n",
              "  }\n",
              "\n",
              "  [theme=dark] .colab-df-quickchart {\n",
              "      --bg-color: #3B4455;\n",
              "      --fill-color: #D2E3FC;\n",
              "      --hover-bg-color: #434B5C;\n",
              "      --hover-fill-color: #FFFFFF;\n",
              "      --disabled-bg-color: #3B4455;\n",
              "      --disabled-fill-color: #666;\n",
              "  }\n",
              "\n",
              "  .colab-df-quickchart {\n",
              "    background-color: var(--bg-color);\n",
              "    border: none;\n",
              "    border-radius: 50%;\n",
              "    cursor: pointer;\n",
              "    display: none;\n",
              "    fill: var(--fill-color);\n",
              "    height: 32px;\n",
              "    padding: 0;\n",
              "    width: 32px;\n",
              "  }\n",
              "\n",
              "  .colab-df-quickchart:hover {\n",
              "    background-color: var(--hover-bg-color);\n",
              "    box-shadow: 0 1px 2px rgba(60, 64, 67, 0.3), 0 1px 3px 1px rgba(60, 64, 67, 0.15);\n",
              "    fill: var(--button-hover-fill-color);\n",
              "  }\n",
              "\n",
              "  .colab-df-quickchart-complete:disabled,\n",
              "  .colab-df-quickchart-complete:disabled:hover {\n",
              "    background-color: var(--disabled-bg-color);\n",
              "    fill: var(--disabled-fill-color);\n",
              "    box-shadow: none;\n",
              "  }\n",
              "\n",
              "  .colab-df-spinner {\n",
              "    border: 2px solid var(--fill-color);\n",
              "    border-color: transparent;\n",
              "    border-bottom-color: var(--fill-color);\n",
              "    animation:\n",
              "      spin 1s steps(1) infinite;\n",
              "  }\n",
              "\n",
              "  @keyframes spin {\n",
              "    0% {\n",
              "      border-color: transparent;\n",
              "      border-bottom-color: var(--fill-color);\n",
              "      border-left-color: var(--fill-color);\n",
              "    }\n",
              "    20% {\n",
              "      border-color: transparent;\n",
              "      border-left-color: var(--fill-color);\n",
              "      border-top-color: var(--fill-color);\n",
              "    }\n",
              "    30% {\n",
              "      border-color: transparent;\n",
              "      border-left-color: var(--fill-color);\n",
              "      border-top-color: var(--fill-color);\n",
              "      border-right-color: var(--fill-color);\n",
              "    }\n",
              "    40% {\n",
              "      border-color: transparent;\n",
              "      border-right-color: var(--fill-color);\n",
              "      border-top-color: var(--fill-color);\n",
              "    }\n",
              "    60% {\n",
              "      border-color: transparent;\n",
              "      border-right-color: var(--fill-color);\n",
              "    }\n",
              "    80% {\n",
              "      border-color: transparent;\n",
              "      border-right-color: var(--fill-color);\n",
              "      border-bottom-color: var(--fill-color);\n",
              "    }\n",
              "    90% {\n",
              "      border-color: transparent;\n",
              "      border-bottom-color: var(--fill-color);\n",
              "    }\n",
              "  }\n",
              "</style>\n",
              "\n",
              "  <script>\n",
              "    async function quickchart(key) {\n",
              "      const quickchartButtonEl =\n",
              "        document.querySelector('#' + key + ' button');\n",
              "      quickchartButtonEl.disabled = true;  // To prevent multiple clicks.\n",
              "      quickchartButtonEl.classList.add('colab-df-spinner');\n",
              "      try {\n",
              "        const charts = await google.colab.kernel.invokeFunction(\n",
              "            'suggestCharts', [key], {});\n",
              "      } catch (error) {\n",
              "        console.error('Error during call to suggestCharts:', error);\n",
              "      }\n",
              "      quickchartButtonEl.classList.remove('colab-df-spinner');\n",
              "      quickchartButtonEl.classList.add('colab-df-quickchart-complete');\n",
              "    }\n",
              "    (() => {\n",
              "      let quickchartButtonEl =\n",
              "        document.querySelector('#df-eabf85ac-ac20-430f-8f50-78315926093f button');\n",
              "      quickchartButtonEl.style.display =\n",
              "        google.colab.kernel.accessAllowed ? 'block' : 'none';\n",
              "    })();\n",
              "  </script>\n",
              "</div>\n",
              "\n",
              "  <div id=\"id_85232bb2-6913-4d65-8722-ef3479c1632f\">\n",
              "    <style>\n",
              "      .colab-df-generate {\n",
              "        background-color: #E8F0FE;\n",
              "        border: none;\n",
              "        border-radius: 50%;\n",
              "        cursor: pointer;\n",
              "        display: none;\n",
              "        fill: #1967D2;\n",
              "        height: 32px;\n",
              "        padding: 0 0 0 0;\n",
              "        width: 32px;\n",
              "      }\n",
              "\n",
              "      .colab-df-generate:hover {\n",
              "        background-color: #E2EBFA;\n",
              "        box-shadow: 0px 1px 2px rgba(60, 64, 67, 0.3), 0px 1px 3px 1px rgba(60, 64, 67, 0.15);\n",
              "        fill: #174EA6;\n",
              "      }\n",
              "\n",
              "      [theme=dark] .colab-df-generate {\n",
              "        background-color: #3B4455;\n",
              "        fill: #D2E3FC;\n",
              "      }\n",
              "\n",
              "      [theme=dark] .colab-df-generate:hover {\n",
              "        background-color: #434B5C;\n",
              "        box-shadow: 0px 1px 3px 1px rgba(0, 0, 0, 0.15);\n",
              "        filter: drop-shadow(0px 1px 2px rgba(0, 0, 0, 0.3));\n",
              "        fill: #FFFFFF;\n",
              "      }\n",
              "    </style>\n",
              "    <button class=\"colab-df-generate\" onclick=\"generateWithVariable('customer_data')\"\n",
              "            title=\"Generate code using this dataframe.\"\n",
              "            style=\"display:none;\">\n",
              "\n",
              "  <svg xmlns=\"http://www.w3.org/2000/svg\" height=\"24px\"viewBox=\"0 0 24 24\"\n",
              "       width=\"24px\">\n",
              "    <path d=\"M7,19H8.4L18.45,9,17,7.55,7,17.6ZM5,21V16.75L18.45,3.32a2,2,0,0,1,2.83,0l1.4,1.43a1.91,1.91,0,0,1,.58,1.4,1.91,1.91,0,0,1-.58,1.4L9.25,21ZM18.45,9,17,7.55Zm-12,3A5.31,5.31,0,0,0,4.9,8.1,5.31,5.31,0,0,0,1,6.5,5.31,5.31,0,0,0,4.9,4.9,5.31,5.31,0,0,0,6.5,1,5.31,5.31,0,0,0,8.1,4.9,5.31,5.31,0,0,0,12,6.5,5.46,5.46,0,0,0,6.5,12Z\"/>\n",
              "  </svg>\n",
              "    </button>\n",
              "    <script>\n",
              "      (() => {\n",
              "      const buttonEl =\n",
              "        document.querySelector('#id_85232bb2-6913-4d65-8722-ef3479c1632f button.colab-df-generate');\n",
              "      buttonEl.style.display =\n",
              "        google.colab.kernel.accessAllowed ? 'block' : 'none';\n",
              "\n",
              "      buttonEl.onclick = () => {\n",
              "        google.colab.notebook.generateWithVariable('customer_data');\n",
              "      }\n",
              "      })();\n",
              "    </script>\n",
              "  </div>\n",
              "\n",
              "    </div>\n",
              "  </div>\n"
            ],
            "application/vnd.google.colaboratory.intrinsic+json": {
              "type": "dataframe",
              "variable_name": "customer_data",
              "summary": "{\n  \"name\": \"customer_data\",\n  \"rows\": 126,\n  \"fields\": [\n    {\n      \"column\": \"Y\",\n      \"properties\": {\n        \"dtype\": \"number\",\n        \"std\": 0,\n        \"min\": 0,\n        \"max\": 1,\n        \"num_unique_values\": 2,\n        \"samples\": [\n          1,\n          0\n        ],\n        \"semantic_type\": \"\",\n        \"description\": \"\"\n      }\n    },\n    {\n      \"column\": \"X1\",\n      \"properties\": {\n        \"dtype\": \"number\",\n        \"std\": 0,\n        \"min\": 1,\n        \"max\": 5,\n        \"num_unique_values\": 4,\n        \"samples\": [\n          5,\n          1\n        ],\n        \"semantic_type\": \"\",\n        \"description\": \"\"\n      }\n    },\n    {\n      \"column\": \"X2\",\n      \"properties\": {\n        \"dtype\": \"number\",\n        \"std\": 1,\n        \"min\": 1,\n        \"max\": 5,\n        \"num_unique_values\": 5,\n        \"samples\": [\n          2,\n          1\n        ],\n        \"semantic_type\": \"\",\n        \"description\": \"\"\n      }\n    },\n    {\n      \"column\": \"X3\",\n      \"properties\": {\n        \"dtype\": \"number\",\n        \"std\": 1,\n        \"min\": 1,\n        \"max\": 5,\n        \"num_unique_values\": 5,\n        \"samples\": [\n          2,\n          1\n        ],\n        \"semantic_type\": \"\",\n        \"description\": \"\"\n      }\n    },\n    {\n      \"column\": \"X4\",\n      \"properties\": {\n        \"dtype\": \"number\",\n        \"std\": 0,\n        \"min\": 1,\n        \"max\": 5,\n        \"num_unique_values\": 5,\n        \"samples\": [\n          5,\n          1\n        ],\n        \"semantic_type\": \"\",\n        \"description\": \"\"\n      }\n    },\n    {\n      \"column\": \"X5\",\n      \"properties\": {\n        \"dtype\": \"number\",\n        \"std\": 1,\n        \"min\": 1,\n        \"max\": 5,\n        \"num_unique_values\": 5,\n        \"samples\": [\n          4,\n          1\n        ],\n        \"semantic_type\": \"\",\n        \"description\": \"\"\n      }\n    },\n    {\n      \"column\": \"X6\",\n      \"properties\": {\n        \"dtype\": \"number\",\n        \"std\": 0,\n        \"min\": 1,\n        \"max\": 5,\n        \"num_unique_values\": 5,\n        \"samples\": [\n          3,\n          1\n        ],\n        \"semantic_type\": \"\",\n        \"description\": \"\"\n      }\n    }\n  ]\n}"
            }
          },
          "metadata": {},
          "execution_count": 4
        }
      ],
      "source": [
        "from google.colab import drive\n",
        "drive.mount('/content/drive')\n",
        "import os\n",
        "os.chdir(\"/content/drive/My Drive/ApzivaProjects\")\n",
        "\n",
        "# Importing dataset\n",
        "path = r'ACME-HappinessSurvey2020.csv'\n",
        "customer_data = pd.read_csv(f\"{path}\")\n",
        "\n",
        "customer_data"
      ]
    },
    {
      "cell_type": "code",
      "execution_count": null,
      "metadata": {
        "id": "Xemj0TbmcC-x"
      },
      "outputs": [],
      "source": [
        "# rename the columns\n",
        "data = customer_data.rename(columns = {'Y': 'happiness', 'X1':'on_time_delivery', 'X2':'contents_of_order', 'X3':'ordered_everything', 'X4': 'good_price_paid', 'X5':'courier_satisfaction', 'X6': 'easy_ordering_app'})"
      ]
    },
    {
      "cell_type": "markdown",
      "metadata": {
        "id": "7lDgCXjJcFGh"
      },
      "source": [
        "### Descriptive Analysis"
      ]
    },
    {
      "cell_type": "code",
      "execution_count": null,
      "metadata": {
        "colab": {
          "base_uri": "https://localhost:8080/",
          "height": 300
        },
        "id": "qiMJ5NlQcFaA",
        "outputId": "9623d7a1-1392-49b4-a2ca-9d863f082541"
      },
      "outputs": [
        {
          "output_type": "execute_result",
          "data": {
            "text/plain": [
              "        happiness  on_time_delivery  contents_of_order  ordered_everything  \\\n",
              "count  126.000000        126.000000         126.000000          126.000000   \n",
              "mean     0.547619          4.333333           2.531746            3.309524   \n",
              "std      0.499714          0.800000           1.114892            1.023440   \n",
              "min      0.000000          1.000000           1.000000            1.000000   \n",
              "25%      0.000000          4.000000           2.000000            3.000000   \n",
              "50%      1.000000          5.000000           3.000000            3.000000   \n",
              "75%      1.000000          5.000000           3.000000            4.000000   \n",
              "max      1.000000          5.000000           5.000000            5.000000   \n",
              "\n",
              "       good_price_paid  courier_satisfaction  easy_ordering_app  \n",
              "count       126.000000            126.000000         126.000000  \n",
              "mean          3.746032              3.650794           4.253968  \n",
              "std           0.875776              1.147641           0.809311  \n",
              "min           1.000000              1.000000           1.000000  \n",
              "25%           3.000000              3.000000           4.000000  \n",
              "50%           4.000000              4.000000           4.000000  \n",
              "75%           4.000000              4.000000           5.000000  \n",
              "max           5.000000              5.000000           5.000000  "
            ],
            "text/html": [
              "\n",
              "  <div id=\"df-89f0d8c2-042e-42d5-ad69-8348db39580d\" class=\"colab-df-container\">\n",
              "    <div>\n",
              "<style scoped>\n",
              "    .dataframe tbody tr th:only-of-type {\n",
              "        vertical-align: middle;\n",
              "    }\n",
              "\n",
              "    .dataframe tbody tr th {\n",
              "        vertical-align: top;\n",
              "    }\n",
              "\n",
              "    .dataframe thead th {\n",
              "        text-align: right;\n",
              "    }\n",
              "</style>\n",
              "<table border=\"1\" class=\"dataframe\">\n",
              "  <thead>\n",
              "    <tr style=\"text-align: right;\">\n",
              "      <th></th>\n",
              "      <th>happiness</th>\n",
              "      <th>on_time_delivery</th>\n",
              "      <th>contents_of_order</th>\n",
              "      <th>ordered_everything</th>\n",
              "      <th>good_price_paid</th>\n",
              "      <th>courier_satisfaction</th>\n",
              "      <th>easy_ordering_app</th>\n",
              "    </tr>\n",
              "  </thead>\n",
              "  <tbody>\n",
              "    <tr>\n",
              "      <th>count</th>\n",
              "      <td>126.000000</td>\n",
              "      <td>126.000000</td>\n",
              "      <td>126.000000</td>\n",
              "      <td>126.000000</td>\n",
              "      <td>126.000000</td>\n",
              "      <td>126.000000</td>\n",
              "      <td>126.000000</td>\n",
              "    </tr>\n",
              "    <tr>\n",
              "      <th>mean</th>\n",
              "      <td>0.547619</td>\n",
              "      <td>4.333333</td>\n",
              "      <td>2.531746</td>\n",
              "      <td>3.309524</td>\n",
              "      <td>3.746032</td>\n",
              "      <td>3.650794</td>\n",
              "      <td>4.253968</td>\n",
              "    </tr>\n",
              "    <tr>\n",
              "      <th>std</th>\n",
              "      <td>0.499714</td>\n",
              "      <td>0.800000</td>\n",
              "      <td>1.114892</td>\n",
              "      <td>1.023440</td>\n",
              "      <td>0.875776</td>\n",
              "      <td>1.147641</td>\n",
              "      <td>0.809311</td>\n",
              "    </tr>\n",
              "    <tr>\n",
              "      <th>min</th>\n",
              "      <td>0.000000</td>\n",
              "      <td>1.000000</td>\n",
              "      <td>1.000000</td>\n",
              "      <td>1.000000</td>\n",
              "      <td>1.000000</td>\n",
              "      <td>1.000000</td>\n",
              "      <td>1.000000</td>\n",
              "    </tr>\n",
              "    <tr>\n",
              "      <th>25%</th>\n",
              "      <td>0.000000</td>\n",
              "      <td>4.000000</td>\n",
              "      <td>2.000000</td>\n",
              "      <td>3.000000</td>\n",
              "      <td>3.000000</td>\n",
              "      <td>3.000000</td>\n",
              "      <td>4.000000</td>\n",
              "    </tr>\n",
              "    <tr>\n",
              "      <th>50%</th>\n",
              "      <td>1.000000</td>\n",
              "      <td>5.000000</td>\n",
              "      <td>3.000000</td>\n",
              "      <td>3.000000</td>\n",
              "      <td>4.000000</td>\n",
              "      <td>4.000000</td>\n",
              "      <td>4.000000</td>\n",
              "    </tr>\n",
              "    <tr>\n",
              "      <th>75%</th>\n",
              "      <td>1.000000</td>\n",
              "      <td>5.000000</td>\n",
              "      <td>3.000000</td>\n",
              "      <td>4.000000</td>\n",
              "      <td>4.000000</td>\n",
              "      <td>4.000000</td>\n",
              "      <td>5.000000</td>\n",
              "    </tr>\n",
              "    <tr>\n",
              "      <th>max</th>\n",
              "      <td>1.000000</td>\n",
              "      <td>5.000000</td>\n",
              "      <td>5.000000</td>\n",
              "      <td>5.000000</td>\n",
              "      <td>5.000000</td>\n",
              "      <td>5.000000</td>\n",
              "      <td>5.000000</td>\n",
              "    </tr>\n",
              "  </tbody>\n",
              "</table>\n",
              "</div>\n",
              "    <div class=\"colab-df-buttons\">\n",
              "\n",
              "  <div class=\"colab-df-container\">\n",
              "    <button class=\"colab-df-convert\" onclick=\"convertToInteractive('df-89f0d8c2-042e-42d5-ad69-8348db39580d')\"\n",
              "            title=\"Convert this dataframe to an interactive table.\"\n",
              "            style=\"display:none;\">\n",
              "\n",
              "  <svg xmlns=\"http://www.w3.org/2000/svg\" height=\"24px\" viewBox=\"0 -960 960 960\">\n",
              "    <path d=\"M120-120v-720h720v720H120Zm60-500h600v-160H180v160Zm220 220h160v-160H400v160Zm0 220h160v-160H400v160ZM180-400h160v-160H180v160Zm440 0h160v-160H620v160ZM180-180h160v-160H180v160Zm440 0h160v-160H620v160Z\"/>\n",
              "  </svg>\n",
              "    </button>\n",
              "\n",
              "  <style>\n",
              "    .colab-df-container {\n",
              "      display:flex;\n",
              "      gap: 12px;\n",
              "    }\n",
              "\n",
              "    .colab-df-convert {\n",
              "      background-color: #E8F0FE;\n",
              "      border: none;\n",
              "      border-radius: 50%;\n",
              "      cursor: pointer;\n",
              "      display: none;\n",
              "      fill: #1967D2;\n",
              "      height: 32px;\n",
              "      padding: 0 0 0 0;\n",
              "      width: 32px;\n",
              "    }\n",
              "\n",
              "    .colab-df-convert:hover {\n",
              "      background-color: #E2EBFA;\n",
              "      box-shadow: 0px 1px 2px rgba(60, 64, 67, 0.3), 0px 1px 3px 1px rgba(60, 64, 67, 0.15);\n",
              "      fill: #174EA6;\n",
              "    }\n",
              "\n",
              "    .colab-df-buttons div {\n",
              "      margin-bottom: 4px;\n",
              "    }\n",
              "\n",
              "    [theme=dark] .colab-df-convert {\n",
              "      background-color: #3B4455;\n",
              "      fill: #D2E3FC;\n",
              "    }\n",
              "\n",
              "    [theme=dark] .colab-df-convert:hover {\n",
              "      background-color: #434B5C;\n",
              "      box-shadow: 0px 1px 3px 1px rgba(0, 0, 0, 0.15);\n",
              "      filter: drop-shadow(0px 1px 2px rgba(0, 0, 0, 0.3));\n",
              "      fill: #FFFFFF;\n",
              "    }\n",
              "  </style>\n",
              "\n",
              "    <script>\n",
              "      const buttonEl =\n",
              "        document.querySelector('#df-89f0d8c2-042e-42d5-ad69-8348db39580d button.colab-df-convert');\n",
              "      buttonEl.style.display =\n",
              "        google.colab.kernel.accessAllowed ? 'block' : 'none';\n",
              "\n",
              "      async function convertToInteractive(key) {\n",
              "        const element = document.querySelector('#df-89f0d8c2-042e-42d5-ad69-8348db39580d');\n",
              "        const dataTable =\n",
              "          await google.colab.kernel.invokeFunction('convertToInteractive',\n",
              "                                                    [key], {});\n",
              "        if (!dataTable) return;\n",
              "\n",
              "        const docLinkHtml = 'Like what you see? Visit the ' +\n",
              "          '<a target=\"_blank\" href=https://colab.research.google.com/notebooks/data_table.ipynb>data table notebook</a>'\n",
              "          + ' to learn more about interactive tables.';\n",
              "        element.innerHTML = '';\n",
              "        dataTable['output_type'] = 'display_data';\n",
              "        await google.colab.output.renderOutput(dataTable, element);\n",
              "        const docLink = document.createElement('div');\n",
              "        docLink.innerHTML = docLinkHtml;\n",
              "        element.appendChild(docLink);\n",
              "      }\n",
              "    </script>\n",
              "  </div>\n",
              "\n",
              "\n",
              "<div id=\"df-37a18745-e55a-4150-b037-e3f9f9e76679\">\n",
              "  <button class=\"colab-df-quickchart\" onclick=\"quickchart('df-37a18745-e55a-4150-b037-e3f9f9e76679')\"\n",
              "            title=\"Suggest charts\"\n",
              "            style=\"display:none;\">\n",
              "\n",
              "<svg xmlns=\"http://www.w3.org/2000/svg\" height=\"24px\"viewBox=\"0 0 24 24\"\n",
              "     width=\"24px\">\n",
              "    <g>\n",
              "        <path d=\"M19 3H5c-1.1 0-2 .9-2 2v14c0 1.1.9 2 2 2h14c1.1 0 2-.9 2-2V5c0-1.1-.9-2-2-2zM9 17H7v-7h2v7zm4 0h-2V7h2v10zm4 0h-2v-4h2v4z\"/>\n",
              "    </g>\n",
              "</svg>\n",
              "  </button>\n",
              "\n",
              "<style>\n",
              "  .colab-df-quickchart {\n",
              "      --bg-color: #E8F0FE;\n",
              "      --fill-color: #1967D2;\n",
              "      --hover-bg-color: #E2EBFA;\n",
              "      --hover-fill-color: #174EA6;\n",
              "      --disabled-fill-color: #AAA;\n",
              "      --disabled-bg-color: #DDD;\n",
              "  }\n",
              "\n",
              "  [theme=dark] .colab-df-quickchart {\n",
              "      --bg-color: #3B4455;\n",
              "      --fill-color: #D2E3FC;\n",
              "      --hover-bg-color: #434B5C;\n",
              "      --hover-fill-color: #FFFFFF;\n",
              "      --disabled-bg-color: #3B4455;\n",
              "      --disabled-fill-color: #666;\n",
              "  }\n",
              "\n",
              "  .colab-df-quickchart {\n",
              "    background-color: var(--bg-color);\n",
              "    border: none;\n",
              "    border-radius: 50%;\n",
              "    cursor: pointer;\n",
              "    display: none;\n",
              "    fill: var(--fill-color);\n",
              "    height: 32px;\n",
              "    padding: 0;\n",
              "    width: 32px;\n",
              "  }\n",
              "\n",
              "  .colab-df-quickchart:hover {\n",
              "    background-color: var(--hover-bg-color);\n",
              "    box-shadow: 0 1px 2px rgba(60, 64, 67, 0.3), 0 1px 3px 1px rgba(60, 64, 67, 0.15);\n",
              "    fill: var(--button-hover-fill-color);\n",
              "  }\n",
              "\n",
              "  .colab-df-quickchart-complete:disabled,\n",
              "  .colab-df-quickchart-complete:disabled:hover {\n",
              "    background-color: var(--disabled-bg-color);\n",
              "    fill: var(--disabled-fill-color);\n",
              "    box-shadow: none;\n",
              "  }\n",
              "\n",
              "  .colab-df-spinner {\n",
              "    border: 2px solid var(--fill-color);\n",
              "    border-color: transparent;\n",
              "    border-bottom-color: var(--fill-color);\n",
              "    animation:\n",
              "      spin 1s steps(1) infinite;\n",
              "  }\n",
              "\n",
              "  @keyframes spin {\n",
              "    0% {\n",
              "      border-color: transparent;\n",
              "      border-bottom-color: var(--fill-color);\n",
              "      border-left-color: var(--fill-color);\n",
              "    }\n",
              "    20% {\n",
              "      border-color: transparent;\n",
              "      border-left-color: var(--fill-color);\n",
              "      border-top-color: var(--fill-color);\n",
              "    }\n",
              "    30% {\n",
              "      border-color: transparent;\n",
              "      border-left-color: var(--fill-color);\n",
              "      border-top-color: var(--fill-color);\n",
              "      border-right-color: var(--fill-color);\n",
              "    }\n",
              "    40% {\n",
              "      border-color: transparent;\n",
              "      border-right-color: var(--fill-color);\n",
              "      border-top-color: var(--fill-color);\n",
              "    }\n",
              "    60% {\n",
              "      border-color: transparent;\n",
              "      border-right-color: var(--fill-color);\n",
              "    }\n",
              "    80% {\n",
              "      border-color: transparent;\n",
              "      border-right-color: var(--fill-color);\n",
              "      border-bottom-color: var(--fill-color);\n",
              "    }\n",
              "    90% {\n",
              "      border-color: transparent;\n",
              "      border-bottom-color: var(--fill-color);\n",
              "    }\n",
              "  }\n",
              "</style>\n",
              "\n",
              "  <script>\n",
              "    async function quickchart(key) {\n",
              "      const quickchartButtonEl =\n",
              "        document.querySelector('#' + key + ' button');\n",
              "      quickchartButtonEl.disabled = true;  // To prevent multiple clicks.\n",
              "      quickchartButtonEl.classList.add('colab-df-spinner');\n",
              "      try {\n",
              "        const charts = await google.colab.kernel.invokeFunction(\n",
              "            'suggestCharts', [key], {});\n",
              "      } catch (error) {\n",
              "        console.error('Error during call to suggestCharts:', error);\n",
              "      }\n",
              "      quickchartButtonEl.classList.remove('colab-df-spinner');\n",
              "      quickchartButtonEl.classList.add('colab-df-quickchart-complete');\n",
              "    }\n",
              "    (() => {\n",
              "      let quickchartButtonEl =\n",
              "        document.querySelector('#df-37a18745-e55a-4150-b037-e3f9f9e76679 button');\n",
              "      quickchartButtonEl.style.display =\n",
              "        google.colab.kernel.accessAllowed ? 'block' : 'none';\n",
              "    })();\n",
              "  </script>\n",
              "</div>\n",
              "\n",
              "    </div>\n",
              "  </div>\n"
            ],
            "application/vnd.google.colaboratory.intrinsic+json": {
              "type": "dataframe",
              "summary": "{\n  \"name\": \"data\",\n  \"rows\": 8,\n  \"fields\": [\n    {\n      \"column\": \"happiness\",\n      \"properties\": {\n        \"dtype\": \"number\",\n        \"std\": 44.34525419957374,\n        \"min\": 0.0,\n        \"max\": 126.0,\n        \"num_unique_values\": 5,\n        \"samples\": [\n          0.5476190476190477,\n          1.0,\n          0.4997142040349521\n        ],\n        \"semantic_type\": \"\",\n        \"description\": \"\"\n      }\n    },\n    {\n      \"column\": \"on_time_delivery\",\n      \"properties\": {\n        \"dtype\": \"number\",\n        \"std\": 43.31323984686144,\n        \"min\": 0.8,\n        \"max\": 126.0,\n        \"num_unique_values\": 6,\n        \"samples\": [\n          126.0,\n          4.333333333333333,\n          5.0\n        ],\n        \"semantic_type\": \"\",\n        \"description\": \"\"\n      }\n    },\n    {\n      \"column\": \"contents_of_order\",\n      \"properties\": {\n        \"dtype\": \"number\",\n        \"std\": 43.6747036061378,\n        \"min\": 1.0,\n        \"max\": 126.0,\n        \"num_unique_values\": 7,\n        \"samples\": [\n          126.0,\n          2.5317460317460316,\n          3.0\n        ],\n        \"semantic_type\": \"\",\n        \"description\": \"\"\n      }\n    },\n    {\n      \"column\": \"ordered_everything\",\n      \"properties\": {\n        \"dtype\": \"number\",\n        \"std\": 43.5419885277691,\n        \"min\": 1.0,\n        \"max\": 126.0,\n        \"num_unique_values\": 7,\n        \"samples\": [\n          126.0,\n          3.3095238095238093,\n          4.0\n        ],\n        \"semantic_type\": \"\",\n        \"description\": \"\"\n      }\n    },\n    {\n      \"column\": \"good_price_paid\",\n      \"properties\": {\n        \"dtype\": \"number\",\n        \"std\": 43.480332108134476,\n        \"min\": 0.8757762996245827,\n        \"max\": 126.0,\n        \"num_unique_values\": 7,\n        \"samples\": [\n          126.0,\n          3.746031746031746,\n          4.0\n        ],\n        \"semantic_type\": \"\",\n        \"description\": \"\"\n      }\n    },\n    {\n      \"column\": \"courier_satisfaction\",\n      \"properties\": {\n        \"dtype\": \"number\",\n        \"std\": 43.46936231586972,\n        \"min\": 1.0,\n        \"max\": 126.0,\n        \"num_unique_values\": 7,\n        \"samples\": [\n          126.0,\n          3.6507936507936507,\n          4.0\n        ],\n        \"semantic_type\": \"\",\n        \"description\": \"\"\n      }\n    },\n    {\n      \"column\": \"easy_ordering_app\",\n      \"properties\": {\n        \"dtype\": \"number\",\n        \"std\": 43.36370727654915,\n        \"min\": 0.8093108963705646,\n        \"max\": 126.0,\n        \"num_unique_values\": 6,\n        \"samples\": [\n          126.0,\n          4.253968253968254,\n          5.0\n        ],\n        \"semantic_type\": \"\",\n        \"description\": \"\"\n      }\n    }\n  ]\n}"
            }
          },
          "metadata": {},
          "execution_count": 6
        }
      ],
      "source": [
        "data.describe()"
      ]
    },
    {
      "cell_type": "markdown",
      "metadata": {
        "id": "yhGDjUXocN3l"
      },
      "source": [
        "### Correlation between Variables"
      ]
    },
    {
      "cell_type": "code",
      "execution_count": null,
      "metadata": {
        "colab": {
          "base_uri": "https://localhost:8080/",
          "height": 269
        },
        "id": "n7bFCPo3cME5",
        "outputId": "ce0d361f-decf-4978-eeac-ae82f34e72e7"
      },
      "outputs": [
        {
          "output_type": "execute_result",
          "data": {
            "text/plain": [
              "<pandas.io.formats.style.Styler at 0x7a716b548df0>"
            ],
            "text/html": [
              "<style type=\"text/css\">\n",
              "#T_b9ec4_row0_col0, #T_b9ec4_row1_col1, #T_b9ec4_row2_col2, #T_b9ec4_row3_col3, #T_b9ec4_row4_col4, #T_b9ec4_row5_col5, #T_b9ec4_row6_col6 {\n",
              "  background-color: #800026;\n",
              "  color: #f1f1f1;\n",
              "}\n",
              "#T_b9ec4_row0_col1, #T_b9ec4_row3_col1 {\n",
              "  background-color: #fedb7b;\n",
              "  color: #000000;\n",
              "}\n",
              "#T_b9ec4_row0_col2 {\n",
              "  background-color: #fffac0;\n",
              "  color: #000000;\n",
              "}\n",
              "#T_b9ec4_row0_col3, #T_b9ec4_row0_col4, #T_b9ec4_row2_col0, #T_b9ec4_row2_col1, #T_b9ec4_row2_col5, #T_b9ec4_row2_col6, #T_b9ec4_row6_col2 {\n",
              "  background-color: #ffffcc;\n",
              "  color: #000000;\n",
              "}\n",
              "#T_b9ec4_row0_col5 {\n",
              "  background-color: #fee289;\n",
              "  color: #000000;\n",
              "}\n",
              "#T_b9ec4_row0_col6 {\n",
              "  background-color: #fede82;\n",
              "  color: #000000;\n",
              "}\n",
              "#T_b9ec4_row1_col0 {\n",
              "  background-color: #feca66;\n",
              "  color: #000000;\n",
              "}\n",
              "#T_b9ec4_row1_col2 {\n",
              "  background-color: #ffefa4;\n",
              "  color: #000000;\n",
              "}\n",
              "#T_b9ec4_row1_col3 {\n",
              "  background-color: #ffe997;\n",
              "  color: #000000;\n",
              "}\n",
              "#T_b9ec4_row1_col4 {\n",
              "  background-color: #fffcc4;\n",
              "  color: #000000;\n",
              "}\n",
              "#T_b9ec4_row1_col5 {\n",
              "  background-color: #fea848;\n",
              "  color: #000000;\n",
              "}\n",
              "#T_b9ec4_row1_col6 {\n",
              "  background-color: #fd9d43;\n",
              "  color: #000000;\n",
              "}\n",
              "#T_b9ec4_row2_col3 {\n",
              "  background-color: #fff9be;\n",
              "  color: #000000;\n",
              "}\n",
              "#T_b9ec4_row2_col4 {\n",
              "  background-color: #fff8ba;\n",
              "  color: #000000;\n",
              "}\n",
              "#T_b9ec4_row3_col0 {\n",
              "  background-color: #ffe691;\n",
              "  color: #000000;\n",
              "}\n",
              "#T_b9ec4_row3_col2 {\n",
              "  background-color: #fedc7c;\n",
              "  color: #000000;\n",
              "}\n",
              "#T_b9ec4_row3_col4 {\n",
              "  background-color: #fed774;\n",
              "  color: #000000;\n",
              "}\n",
              "#T_b9ec4_row3_col5 {\n",
              "  background-color: #fec05b;\n",
              "  color: #000000;\n",
              "}\n",
              "#T_b9ec4_row3_col6 {\n",
              "  background-color: #fed976;\n",
              "  color: #000000;\n",
              "}\n",
              "#T_b9ec4_row4_col0 {\n",
              "  background-color: #fff3ae;\n",
              "  color: #000000;\n",
              "}\n",
              "#T_b9ec4_row4_col1 {\n",
              "  background-color: #fffbc2;\n",
              "  color: #000000;\n",
              "}\n",
              "#T_b9ec4_row4_col2 {\n",
              "  background-color: #ffe793;\n",
              "  color: #000000;\n",
              "}\n",
              "#T_b9ec4_row4_col3 {\n",
              "  background-color: #ffe58f;\n",
              "  color: #000000;\n",
              "}\n",
              "#T_b9ec4_row4_col5, #T_b9ec4_row4_col6 {\n",
              "  background-color: #fed572;\n",
              "  color: #000000;\n",
              "}\n",
              "#T_b9ec4_row5_col0, #T_b9ec4_row5_col3, #T_b9ec4_row5_col4 {\n",
              "  background-color: #feda78;\n",
              "  color: #000000;\n",
              "}\n",
              "#T_b9ec4_row5_col1 {\n",
              "  background-color: #feac49;\n",
              "  color: #000000;\n",
              "}\n",
              "#T_b9ec4_row5_col2 {\n",
              "  background-color: #fff1ab;\n",
              "  color: #000000;\n",
              "}\n",
              "#T_b9ec4_row5_col6 {\n",
              "  background-color: #feb651;\n",
              "  color: #000000;\n",
              "}\n",
              "#T_b9ec4_row6_col0 {\n",
              "  background-color: #ffe48c;\n",
              "  color: #000000;\n",
              "}\n",
              "#T_b9ec4_row6_col1 {\n",
              "  background-color: #feb34d;\n",
              "  color: #000000;\n",
              "}\n",
              "#T_b9ec4_row6_col3 {\n",
              "  background-color: #fff7b7;\n",
              "  color: #000000;\n",
              "}\n",
              "#T_b9ec4_row6_col4 {\n",
              "  background-color: #ffe794;\n",
              "  color: #000000;\n",
              "}\n",
              "#T_b9ec4_row6_col5 {\n",
              "  background-color: #fecc68;\n",
              "  color: #000000;\n",
              "}\n",
              "</style>\n",
              "<table id=\"T_b9ec4\" class=\"dataframe\">\n",
              "  <thead>\n",
              "    <tr>\n",
              "      <th class=\"blank level0\" >&nbsp;</th>\n",
              "      <th id=\"T_b9ec4_level0_col0\" class=\"col_heading level0 col0\" >happiness</th>\n",
              "      <th id=\"T_b9ec4_level0_col1\" class=\"col_heading level0 col1\" >on_time_delivery</th>\n",
              "      <th id=\"T_b9ec4_level0_col2\" class=\"col_heading level0 col2\" >contents_of_order</th>\n",
              "      <th id=\"T_b9ec4_level0_col3\" class=\"col_heading level0 col3\" >ordered_everything</th>\n",
              "      <th id=\"T_b9ec4_level0_col4\" class=\"col_heading level0 col4\" >good_price_paid</th>\n",
              "      <th id=\"T_b9ec4_level0_col5\" class=\"col_heading level0 col5\" >courier_satisfaction</th>\n",
              "      <th id=\"T_b9ec4_level0_col6\" class=\"col_heading level0 col6\" >easy_ordering_app</th>\n",
              "    </tr>\n",
              "  </thead>\n",
              "  <tbody>\n",
              "    <tr>\n",
              "      <th id=\"T_b9ec4_level0_row0\" class=\"row_heading level0 row0\" >happiness</th>\n",
              "      <td id=\"T_b9ec4_row0_col0\" class=\"data row0 col0\" >1.000000</td>\n",
              "      <td id=\"T_b9ec4_row0_col1\" class=\"data row0 col1\" >0.280160</td>\n",
              "      <td id=\"T_b9ec4_row0_col2\" class=\"data row0 col2\" >-0.024274</td>\n",
              "      <td id=\"T_b9ec4_row0_col3\" class=\"data row0 col3\" >0.150838</td>\n",
              "      <td id=\"T_b9ec4_row0_col4\" class=\"data row0 col4\" >0.064415</td>\n",
              "      <td id=\"T_b9ec4_row0_col5\" class=\"data row0 col5\" >0.224522</td>\n",
              "      <td id=\"T_b9ec4_row0_col6\" class=\"data row0 col6\" >0.167669</td>\n",
              "    </tr>\n",
              "    <tr>\n",
              "      <th id=\"T_b9ec4_level0_row1\" class=\"row_heading level0 row1\" >on_time_delivery</th>\n",
              "      <td id=\"T_b9ec4_row1_col0\" class=\"data row1 col0\" >0.280160</td>\n",
              "      <td id=\"T_b9ec4_row1_col1\" class=\"data row1 col1\" >1.000000</td>\n",
              "      <td id=\"T_b9ec4_row1_col2\" class=\"data row1 col2\" >0.059797</td>\n",
              "      <td id=\"T_b9ec4_row1_col3\" class=\"data row1 col3\" >0.283358</td>\n",
              "      <td id=\"T_b9ec4_row1_col4\" class=\"data row1 col4\" >0.087541</td>\n",
              "      <td id=\"T_b9ec4_row1_col5\" class=\"data row1 col5\" >0.432772</td>\n",
              "      <td id=\"T_b9ec4_row1_col6\" class=\"data row1 col6\" >0.411873</td>\n",
              "    </tr>\n",
              "    <tr>\n",
              "      <th id=\"T_b9ec4_level0_row2\" class=\"row_heading level0 row2\" >contents_of_order</th>\n",
              "      <td id=\"T_b9ec4_row2_col0\" class=\"data row2 col0\" >-0.024274</td>\n",
              "      <td id=\"T_b9ec4_row2_col1\" class=\"data row2 col1\" >0.059797</td>\n",
              "      <td id=\"T_b9ec4_row2_col2\" class=\"data row2 col2\" >1.000000</td>\n",
              "      <td id=\"T_b9ec4_row2_col3\" class=\"data row2 col3\" >0.184129</td>\n",
              "      <td id=\"T_b9ec4_row2_col4\" class=\"data row2 col4\" >0.114838</td>\n",
              "      <td id=\"T_b9ec4_row2_col5\" class=\"data row2 col5\" >0.039996</td>\n",
              "      <td id=\"T_b9ec4_row2_col6\" class=\"data row2 col6\" >-0.062205</td>\n",
              "    </tr>\n",
              "    <tr>\n",
              "      <th id=\"T_b9ec4_level0_row3\" class=\"row_heading level0 row3\" >ordered_everything</th>\n",
              "      <td id=\"T_b9ec4_row3_col0\" class=\"data row3 col0\" >0.150838</td>\n",
              "      <td id=\"T_b9ec4_row3_col1\" class=\"data row3 col1\" >0.283358</td>\n",
              "      <td id=\"T_b9ec4_row3_col2\" class=\"data row3 col2\" >0.184129</td>\n",
              "      <td id=\"T_b9ec4_row3_col3\" class=\"data row3 col3\" >1.000000</td>\n",
              "      <td id=\"T_b9ec4_row3_col4\" class=\"data row3 col4\" >0.302618</td>\n",
              "      <td id=\"T_b9ec4_row3_col5\" class=\"data row3 col5\" >0.358397</td>\n",
              "      <td id=\"T_b9ec4_row3_col6\" class=\"data row3 col6\" >0.203750</td>\n",
              "    </tr>\n",
              "    <tr>\n",
              "      <th id=\"T_b9ec4_level0_row4\" class=\"row_heading level0 row4\" >good_price_paid</th>\n",
              "      <td id=\"T_b9ec4_row4_col0\" class=\"data row4 col0\" >0.064415</td>\n",
              "      <td id=\"T_b9ec4_row4_col1\" class=\"data row4 col1\" >0.087541</td>\n",
              "      <td id=\"T_b9ec4_row4_col2\" class=\"data row4 col2\" >0.114838</td>\n",
              "      <td id=\"T_b9ec4_row4_col3\" class=\"data row4 col3\" >0.302618</td>\n",
              "      <td id=\"T_b9ec4_row4_col4\" class=\"data row4 col4\" >1.000000</td>\n",
              "      <td id=\"T_b9ec4_row4_col5\" class=\"data row4 col5\" >0.293115</td>\n",
              "      <td id=\"T_b9ec4_row4_col6\" class=\"data row4 col6\" >0.215888</td>\n",
              "    </tr>\n",
              "    <tr>\n",
              "      <th id=\"T_b9ec4_level0_row5\" class=\"row_heading level0 row5\" >courier_satisfaction</th>\n",
              "      <td id=\"T_b9ec4_row5_col0\" class=\"data row5 col0\" >0.224522</td>\n",
              "      <td id=\"T_b9ec4_row5_col1\" class=\"data row5 col1\" >0.432772</td>\n",
              "      <td id=\"T_b9ec4_row5_col2\" class=\"data row5 col2\" >0.039996</td>\n",
              "      <td id=\"T_b9ec4_row5_col3\" class=\"data row5 col3\" >0.358397</td>\n",
              "      <td id=\"T_b9ec4_row5_col4\" class=\"data row5 col4\" >0.293115</td>\n",
              "      <td id=\"T_b9ec4_row5_col5\" class=\"data row5 col5\" >1.000000</td>\n",
              "      <td id=\"T_b9ec4_row5_col6\" class=\"data row5 col6\" >0.320195</td>\n",
              "    </tr>\n",
              "    <tr>\n",
              "      <th id=\"T_b9ec4_level0_row6\" class=\"row_heading level0 row6\" >easy_ordering_app</th>\n",
              "      <td id=\"T_b9ec4_row6_col0\" class=\"data row6 col0\" >0.167669</td>\n",
              "      <td id=\"T_b9ec4_row6_col1\" class=\"data row6 col1\" >0.411873</td>\n",
              "      <td id=\"T_b9ec4_row6_col2\" class=\"data row6 col2\" >-0.062205</td>\n",
              "      <td id=\"T_b9ec4_row6_col3\" class=\"data row6 col3\" >0.203750</td>\n",
              "      <td id=\"T_b9ec4_row6_col4\" class=\"data row6 col4\" >0.215888</td>\n",
              "      <td id=\"T_b9ec4_row6_col5\" class=\"data row6 col5\" >0.320195</td>\n",
              "      <td id=\"T_b9ec4_row6_col6\" class=\"data row6 col6\" >1.000000</td>\n",
              "    </tr>\n",
              "  </tbody>\n",
              "</table>\n"
            ]
          },
          "metadata": {},
          "execution_count": 7
        }
      ],
      "source": [
        "#Get correlation between the variables\n",
        "corr = data.corr(numeric_only = True)\n",
        "corr.style.background_gradient(cmap='YlOrRd')"
      ]
    },
    {
      "cell_type": "markdown",
      "metadata": {
        "id": "HyMuxieRcR9J"
      },
      "source": [
        "### Plotting the variables"
      ]
    },
    {
      "cell_type": "code",
      "execution_count": null,
      "metadata": {
        "colab": {
          "base_uri": "https://localhost:8080/",
          "height": 807
        },
        "id": "85Zpgaw-cSIC",
        "outputId": "32fc8d8c-fb8f-4b9a-d563-fbdf3808eec8"
      },
      "outputs": [
        {
          "output_type": "display_data",
          "data": {
            "text/plain": [
              "<Figure size 600x800 with 6 Axes>"
            ],
            "image/png": "[encoded data removed]"
          },
          "metadata": {}
        }
      ],
      "source": [
        "import warnings\n",
        "warnings.filterwarnings('ignore')\n",
        "\n",
        "fig, axes = plt.subplots(3,2 , figsize=(6, 8), sharey=False, sharex=True)\n",
        "\n",
        "# First plot for Variable X1 - my order was delivered on time\n",
        "sns.countplot(x ='on_time_delivery', hue = \"happiness\", data = data, ax=axes[0, 0])\n",
        "\n",
        "# Second plot for Variable X2 - contents of my order was as I expected\n",
        "sns.countplot(x ='contents_of_order', hue = \"happiness\", data = data, ax=axes[0, 1])\n",
        "\n",
        "# Third plot for Variable X3 = I ordered everything I wanted to order\n",
        "sns.countplot(x ='ordered_everything', hue = \"happiness\", data = data, ax=axes[1, 0])\n",
        "\n",
        "# Fourth plot for Variable X4 = I paid a good price for my order\n",
        "sns.countplot(x ='good_price_paid', hue = \"happiness\", data = data, ax=axes[1, 1])\n",
        "\n",
        "# Fifth plot for Variable X5 = I am satisfied with my courier\n",
        "sns.countplot(x ='courier_satisfaction', hue = \"happiness\", data = data, ax=axes[2, 0])\n",
        "\n",
        "# Sixth plot for Variable X6 = the app makes ordering easy for me\n",
        "sns.countplot(x ='easy_ordering_app', hue = \"happiness\", data = data, ax=axes[2, 1])\n",
        "\n",
        "for ax in axes[2, :]:\n",
        "    ax.set_xticklabels(ax.get_xticklabels(), rotation=30, ha='right')\n",
        "\n",
        "fig.tight_layout()\n",
        "plt.show()"
      ]
    },
    {
      "cell_type": "markdown",
      "metadata": {
        "id": "Sa9U7d8acXpL"
      },
      "source": [
        "### Plotting Output"
      ]
    },
    {
      "cell_type": "code",
      "execution_count": null,
      "metadata": {
        "colab": {
          "base_uri": "https://localhost:8080/",
          "height": 539
        },
        "id": "njgNuFZ8cXyY",
        "outputId": "d4949de1-120c-47af-fe03-6d8bd8322c42"
      },
      "outputs": [
        {
          "output_type": "execute_result",
          "data": {
            "text/plain": [
              "<Axes: >"
            ]
          },
          "metadata": {},
          "execution_count": 9
        },
        {
          "output_type": "display_data",
          "data": {
            "text/plain": [
              "<Figure size 500x600 with 1 Axes>"
            ],
            "image/png": "[encoded data removed]"
          },
          "metadata": {}
        }
      ],
      "source": [
        "#Boxplot for variables\n",
        "\n",
        "variables = data[['on_time_delivery',\t'contents_of_order',\t'ordered_everything',\t'good_price_paid',\t'courier_satisfaction',\t'easy_ordering_app']]\n",
        "plt.figure(figsize=(5, 6))\n",
        "sns.boxplot(variables)"
      ]
    },
    {
      "cell_type": "code",
      "execution_count": null,
      "metadata": {
        "colab": {
          "base_uri": "https://localhost:8080/",
          "height": 484
        },
        "id": "aadzGpv5cfGR",
        "outputId": "6b7de55a-b745-4cef-bb9c-af9b215884cd"
      },
      "outputs": [
        {
          "output_type": "execute_result",
          "data": {
            "text/plain": [
              "<Figure size 300x400 with 0 Axes>"
            ]
          },
          "metadata": {},
          "execution_count": 10
        },
        {
          "output_type": "display_data",
          "data": {
            "text/plain": [
              "<Figure size 640x480 with 1 Axes>"
            ],
            "image/png": "[encoded data removed]"
          },
          "metadata": {}
        },
        {
          "output_type": "display_data",
          "data": {
            "text/plain": [
              "<Figure size 300x400 with 0 Axes>"
            ]
          },
          "metadata": {}
        }
      ],
      "source": [
        "#Plot Output variable Y\n",
        "\n",
        "sns.countplot(x ='happiness', data = data)\n",
        "plt.figure(figsize=(3, 4))"
      ]
    },
    {
      "cell_type": "markdown",
      "metadata": {
        "id": "64rGV7n7cgKw"
      },
      "source": [
        "### Split and Train data"
      ]
    },
    {
      "cell_type": "code",
      "execution_count": null,
      "metadata": {
        "colab": {
          "base_uri": "https://localhost:8080/"
        },
        "id": "ySDE-EyfcgRp",
        "outputId": "36e0908c-bd18-4f0d-d97e-59fb69121373"
      },
      "outputs": [
        {
          "output_type": "stream",
          "name": "stdout",
          "text": [
            "5516\n",
            "Training set has 100 samples\n",
            "Training set has 100 samples\n",
            "Test set has 26 samples\n",
            "Test set has 26 samples\n"
          ]
        }
      ],
      "source": [
        "from sklearn.model_selection import train_test_split\n",
        "import random\n",
        "#seed = random.randint(1000,9999)\n",
        "seed = 5516\n",
        "# Assign the seed after experimenting\n",
        "print(seed)\n",
        "\n",
        "train, test = train_test_split(data, test_size=0.2, random_state=seed)\n",
        "#train, val = train_test_split(train, test_size=0.2, random_state=seed)\n",
        "X_train = train.drop(columns=['happiness'])\n",
        "y_train = train['happiness']\n",
        "\n",
        "#X_val = val.drop(columns=['Y'])\n",
        "#y_val = val['Y']\n",
        "\n",
        "X_test = test.drop(columns=['happiness'])\n",
        "y_test = test['happiness']\n",
        "\n",
        "print(f\"Training set has {len(X_train)} samples\")\n",
        "print(f\"Training set has {len(y_train)} samples\")\n",
        "#print(f\"Validation set has {len(X_val)} samples\")\n",
        "#print(f\"Validation set has {len(y_val)} samples\")\n",
        "print(f\"Test set has {len(X_test)} samples\")\n",
        "print(f\"Test set has {len(y_test)} samples\")"
      ]
    },
    {
      "cell_type": "markdown",
      "metadata": {
        "id": "slvghE-GcnU3"
      },
      "source": [
        "#### Lazy Predict Algorithm\n"
      ]
    },
    {
      "cell_type": "code",
      "execution_count": null,
      "metadata": {
        "colab": {
          "base_uri": "https://localhost:8080/"
        },
        "id": "bgVTbWg-cnco",
        "outputId": "ac9a9bee-4fc1-4266-d4f9-9cd65317ae0d"
      },
      "outputs": [
        {
          "output_type": "stream",
          "name": "stderr",
          "text": [
            "100%|██████████| 29/29 [00:01<00:00, 23.93it/s]"
          ]
        },
        {
          "output_type": "stream",
          "name": "stdout",
          "text": [
            "[LightGBM] [Info] Number of positive: 52, number of negative: 48\n",
            "[LightGBM] [Info] Auto-choosing col-wise multi-threading, the overhead of testing was 0.000701 seconds.\n",
            "You can set `force_col_wise=true` to remove the overhead.\n",
            "[LightGBM] [Info] Total Bins 31\n",
            "[LightGBM] [Info] Number of data points in the train set: 100, number of used features: 6\n",
            "[LightGBM] [Info] [binary:BoostFromScore]: pavg=0.520000 -> initscore=0.080043\n",
            "[LightGBM] [Info] Start training from score 0.080043\n",
            "[LightGBM] [Warning] No further splits with positive gain, best gain: -inf\n",
            "[LightGBM] [Warning] No further splits with positive gain, best gain: -inf\n",
            "[LightGBM] [Warning] No further splits with positive gain, best gain: -inf\n",
            "[LightGBM] [Warning] No further splits with positive gain, best gain: -inf\n",
            "[LightGBM] [Warning] No further splits with positive gain, best gain: -inf\n",
            "[LightGBM] [Warning] No further splits with positive gain, best gain: -inf\n",
            "[LightGBM] [Warning] No further splits with positive gain, best gain: -inf\n",
            "[LightGBM] [Warning] No further splits with positive gain, best gain: -inf\n",
            "[LightGBM] [Warning] No further splits with positive gain, best gain: -inf\n",
            "[LightGBM] [Warning] No further splits with positive gain, best gain: -inf\n",
            "[LightGBM] [Warning] No further splits with positive gain, best gain: -inf\n",
            "[LightGBM] [Warning] No further splits with positive gain, best gain: -inf\n",
            "[LightGBM] [Warning] No further splits with positive gain, best gain: -inf\n",
            "[LightGBM] [Warning] No further splits with positive gain, best gain: -inf\n",
            "[LightGBM] [Warning] No further splits with positive gain, best gain: -inf\n",
            "[LightGBM] [Warning] No further splits with positive gain, best gain: -inf\n",
            "[LightGBM] [Warning] No further splits with positive gain, best gain: -inf\n",
            "[LightGBM] [Warning] No further splits with positive gain, best gain: -inf\n",
            "[LightGBM] [Warning] No further splits with positive gain, best gain: -inf\n",
            "[LightGBM] [Warning] No further splits with positive gain, best gain: -inf\n",
            "[LightGBM] [Warning] No further splits with positive gain, best gain: -inf\n",
            "[LightGBM] [Warning] No further splits with positive gain, best gain: -inf\n",
            "[LightGBM] [Warning] No further splits with positive gain, best gain: -inf\n",
            "[LightGBM] [Warning] No further splits with positive gain, best gain: -inf\n",
            "[LightGBM] [Warning] No further splits with positive gain, best gain: -inf\n",
            "[LightGBM] [Warning] No further splits with positive gain, best gain: -inf\n",
            "[LightGBM] [Warning] No further splits with positive gain, best gain: -inf\n",
            "[LightGBM] [Warning] No further splits with positive gain, best gain: -inf\n",
            "[LightGBM] [Warning] No further splits with positive gain, best gain: -inf\n",
            "[LightGBM] [Warning] No further splits with positive gain, best gain: -inf\n",
            "[LightGBM] [Warning] No further splits with positive gain, best gain: -inf\n",
            "[LightGBM] [Warning] No further splits with positive gain, best gain: -inf\n",
            "[LightGBM] [Warning] No further splits with positive gain, best gain: -inf\n",
            "[LightGBM] [Warning] No further splits with positive gain, best gain: -inf\n",
            "[LightGBM] [Warning] No further splits with positive gain, best gain: -inf\n",
            "[LightGBM] [Warning] No further splits with positive gain, best gain: -inf\n",
            "[LightGBM] [Warning] No further splits with positive gain, best gain: -inf\n",
            "[LightGBM] [Warning] No further splits with positive gain, best gain: -inf\n",
            "[LightGBM] [Warning] No further splits with positive gain, best gain: -inf\n",
            "[LightGBM] [Warning] No further splits with positive gain, best gain: -inf\n",
            "[LightGBM] [Warning] No further splits with positive gain, best gain: -inf\n",
            "[LightGBM] [Warning] No further splits with positive gain, best gain: -inf\n",
            "[LightGBM] [Warning] No further splits with positive gain, best gain: -inf\n",
            "[LightGBM] [Warning] No further splits with positive gain, best gain: -inf\n",
            "[LightGBM] [Warning] No further splits with positive gain, best gain: -inf\n",
            "[LightGBM] [Warning] No further splits with positive gain, best gain: -inf\n",
            "[LightGBM] [Warning] No further splits with positive gain, best gain: -inf\n",
            "[LightGBM] [Warning] No further splits with positive gain, best gain: -inf\n",
            "[LightGBM] [Warning] No further splits with positive gain, best gain: -inf\n",
            "[LightGBM] [Warning] No further splits with positive gain, best gain: -inf\n",
            "[LightGBM] [Warning] No further splits with positive gain, best gain: -inf\n",
            "[LightGBM] [Warning] No further splits with positive gain, best gain: -inf\n",
            "[LightGBM] [Warning] No further splits with positive gain, best gain: -inf\n",
            "[LightGBM] [Warning] No further splits with positive gain, best gain: -inf\n",
            "[LightGBM] [Warning] No further splits with positive gain, best gain: -inf\n",
            "[LightGBM] [Warning] No further splits with positive gain, best gain: -inf\n",
            "[LightGBM] [Warning] No further splits with positive gain, best gain: -inf\n",
            "[LightGBM] [Warning] No further splits with positive gain, best gain: -inf\n",
            "[LightGBM] [Warning] No further splits with positive gain, best gain: -inf\n",
            "[LightGBM] [Warning] No further splits with positive gain, best gain: -inf\n",
            "[LightGBM] [Warning] No further splits with positive gain, best gain: -inf\n",
            "[LightGBM] [Warning] No further splits with positive gain, best gain: -inf\n",
            "[LightGBM] [Warning] No further splits with positive gain, best gain: -inf\n",
            "[LightGBM] [Warning] No further splits with positive gain, best gain: -inf\n",
            "[LightGBM] [Warning] No further splits with positive gain, best gain: -inf\n",
            "[LightGBM] [Warning] No further splits with positive gain, best gain: -inf\n",
            "[LightGBM] [Warning] No further splits with positive gain, best gain: -inf\n",
            "[LightGBM] [Warning] No further splits with positive gain, best gain: -inf\n",
            "[LightGBM] [Warning] No further splits with positive gain, best gain: -inf\n",
            "[LightGBM] [Warning] No further splits with positive gain, best gain: -inf\n",
            "[LightGBM] [Warning] No further splits with positive gain, best gain: -inf\n",
            "[LightGBM] [Warning] No further splits with positive gain, best gain: -inf\n",
            "[LightGBM] [Warning] No further splits with positive gain, best gain: -inf\n",
            "[LightGBM] [Warning] No further splits with positive gain, best gain: -inf\n",
            "[LightGBM] [Warning] No further splits with positive gain, best gain: -inf\n",
            "[LightGBM] [Warning] No further splits with positive gain, best gain: -inf\n",
            "[LightGBM] [Warning] No further splits with positive gain, best gain: -inf\n",
            "[LightGBM] [Warning] No further splits with positive gain, best gain: -inf\n",
            "[LightGBM] [Warning] No further splits with positive gain, best gain: -inf\n",
            "[LightGBM] [Warning] No further splits with positive gain, best gain: -inf\n",
            "[LightGBM] [Warning] No further splits with positive gain, best gain: -inf\n",
            "[LightGBM] [Warning] No further splits with positive gain, best gain: -inf\n",
            "[LightGBM] [Warning] No further splits with positive gain, best gain: -inf\n",
            "[LightGBM] [Warning] No further splits with positive gain, best gain: -inf\n",
            "[LightGBM] [Warning] No further splits with positive gain, best gain: -inf\n",
            "[LightGBM] [Warning] No further splits with positive gain, best gain: -inf\n",
            "[LightGBM] [Warning] No further splits with positive gain, best gain: -inf\n",
            "[LightGBM] [Warning] No further splits with positive gain, best gain: -inf\n",
            "[LightGBM] [Warning] No further splits with positive gain, best gain: -inf\n",
            "[LightGBM] [Warning] No further splits with positive gain, best gain: -inf\n",
            "[LightGBM] [Warning] No further splits with positive gain, best gain: -inf\n",
            "[LightGBM] [Warning] No further splits with positive gain, best gain: -inf\n",
            "[LightGBM] [Warning] No further splits with positive gain, best gain: -inf\n",
            "[LightGBM] [Warning] No further splits with positive gain, best gain: -inf\n",
            "[LightGBM] [Warning] No further splits with positive gain, best gain: -inf\n",
            "[LightGBM] [Warning] No further splits with positive gain, best gain: -inf\n",
            "[LightGBM] [Warning] No further splits with positive gain, best gain: -inf\n",
            "[LightGBM] [Warning] No further splits with positive gain, best gain: -inf\n",
            "[LightGBM] [Warning] No further splits with positive gain, best gain: -inf\n",
            "[LightGBM] [Warning] No further splits with positive gain, best gain: -inf\n",
            "                               Accuracy  Balanced Accuracy  ROC AUC  F1 Score  \\\n",
            "Model                                                                           \n",
            "NearestCentroid                    0.88               0.89     0.89      0.89   \n",
            "BernoulliNB                        0.81               0.80     0.80      0.81   \n",
            "SGDClassifier                      0.81               0.80     0.80      0.81   \n",
            "Perceptron                         0.73               0.77     0.77      0.74   \n",
            "GaussianNB                         0.77               0.75     0.75      0.77   \n",
            "LogisticRegression                 0.77               0.75     0.75      0.77   \n",
            "SVC                                0.77               0.69     0.69      0.75   \n",
            "LinearSVC                          0.73               0.69     0.69      0.73   \n",
            "LinearDiscriminantAnalysis         0.73               0.69     0.69      0.73   \n",
            "RidgeClassifierCV                  0.73               0.69     0.69      0.73   \n",
            "RidgeClassifier                    0.73               0.69     0.69      0.73   \n",
            "QuadraticDiscriminantAnalysis      0.65               0.66     0.66      0.66   \n",
            "LGBMClassifier                     0.69               0.63     0.63      0.68   \n",
            "BaggingClassifier                  0.54               0.59     0.59      0.54   \n",
            "DecisionTreeClassifier             0.54               0.57     0.57      0.55   \n",
            "AdaBoostClassifier                 0.58               0.55     0.55      0.58   \n",
            "NuSVC                              0.54               0.54     0.54      0.55   \n",
            "KNeighborsClassifier               0.54               0.54     0.54      0.55   \n",
            "PassiveAggressiveClassifier        0.46               0.54     0.54      0.45   \n",
            "LabelPropagation                   0.54               0.52     0.52      0.55   \n",
            "RandomForestClassifier             0.54               0.52     0.52      0.55   \n",
            "DummyClassifier                    0.65               0.50     0.50      0.52   \n",
            "LabelSpreading                     0.50               0.49     0.49      0.51   \n",
            "ExtraTreesClassifier               0.50               0.49     0.49      0.51   \n",
            "ExtraTreeClassifier                0.46               0.48     0.48      0.47   \n",
            "XGBClassifier                      0.46               0.46     0.46      0.47   \n",
            "CalibratedClassifierCV             0.27               0.23     0.23      0.29   \n",
            "\n",
            "                               Time Taken  \n",
            "Model                                      \n",
            "NearestCentroid                      0.02  \n",
            "BernoulliNB                          0.01  \n",
            "SGDClassifier                        0.02  \n",
            "Perceptron                           0.02  \n",
            "GaussianNB                           0.02  \n",
            "LogisticRegression                   0.03  \n",
            "SVC                                  0.02  \n",
            "LinearSVC                            0.03  \n",
            "LinearDiscriminantAnalysis           0.05  \n",
            "RidgeClassifierCV                    0.02  \n",
            "RidgeClassifier                      0.02  \n",
            "QuadraticDiscriminantAnalysis        0.04  \n",
            "LGBMClassifier                       0.14  \n",
            "BaggingClassifier                    0.05  \n",
            "DecisionTreeClassifier               0.02  \n",
            "AdaBoostClassifier                   0.13  \n",
            "NuSVC                                0.02  \n",
            "KNeighborsClassifier                 0.02  \n",
            "PassiveAggressiveClassifier          0.02  \n",
            "LabelPropagation                     0.02  \n",
            "RandomForestClassifier               0.18  \n",
            "DummyClassifier                      0.01  \n",
            "LabelSpreading                       0.02  \n",
            "ExtraTreesClassifier                 0.13  \n",
            "ExtraTreeClassifier                  0.01  \n",
            "XGBClassifier                        0.11  \n",
            "CalibratedClassifierCV               0.04  \n"
          ]
        },
        {
          "output_type": "stream",
          "name": "stderr",
          "text": [
            "\n"
          ]
        }
      ],
      "source": [
        "\n",
        "from lazypredict.Supervised import LazyClassifier\n",
        "from sklearn.model_selection import train_test_split\n",
        "\n",
        "clf = LazyClassifier(verbose=0,ignore_warnings=True, custom_metric=None, random_state=seed,)\n",
        "models,predictions = clf.fit(X_train, X_test, y_train, y_test)\n",
        "print(models)"
      ]
    },
    {
      "cell_type": "markdown",
      "metadata": {
        "id": "EHSWFaD6dSIR"
      },
      "source": [
        "**Define Your Objective:**\n",
        "\n",
        "Understand the primary goal of your model.\n",
        "*   If you need to minimize false positives, the ROC AUC or Precision might be more important.\n",
        "*   If you need to balance between false positives and false negatives, the F1 Score might be more suitable.\n",
        "\n",
        "\n",
        "**Understand Each Metric:**\n",
        "\n",
        "**Accuracy**: The ratio of correctly predicted instances to the total instances. Best for balanced datasets.\n",
        "\n",
        "**Balanced Accuracy**: The average of recall obtained on each class. Useful for imbalanced datasets.\n",
        "\n",
        "**ROC AUC**: Measures the ability of the classifier to distinguish between classes. A higher value indicates better performance.\n",
        "\n",
        "**F1 Score**: The harmonic mean of Precision and Recall. Useful when you need to balance precision and recall.\n",
        "\n",
        "**Time Taken**: The time required to train and predict with the model. Important for real-time or resource-constrained applications.\n"
      ]
    },
    {
      "cell_type": "markdown",
      "metadata": {
        "id": "X2rn6XvedUhQ"
      },
      "source": [
        "## Ranking Model"
      ]
    },
    {
      "cell_type": "code",
      "execution_count": null,
      "metadata": {
        "colab": {
          "base_uri": "https://localhost:8080/"
        },
        "id": "qQkr9P3sdS1Y",
        "outputId": "a1c1af63-2b2d-4f6e-9367-a6ce0269cc1a"
      },
      "outputs": [
        {
          "output_type": "stream",
          "name": "stdout",
          "text": [
            "                 Accuracy  Balanced Accuracy  ROC AUC  F1 Score  Time Taken  \\\n",
            "Model                                                                         \n",
            "NearestCentroid      0.88               0.89     0.89      0.89        0.16   \n",
            "BernoulliNB          0.81               0.80     0.80      0.81        0.16   \n",
            "SGDClassifier        0.81               0.80     0.80      0.81        0.16   \n",
            "\n",
            "                 Accuracy_Rank  Balanced Accuracy_Rank  ROC AUC_Rank  \\\n",
            "Model                                                                  \n",
            "NearestCentroid           1.00                    1.00          1.00   \n",
            "BernoulliNB               2.50                    2.50          2.50   \n",
            "SGDClassifier             2.50                    2.50          2.50   \n",
            "\n",
            "                 F1 Score_Rank  Time Taken_Rank  Composite_Score  \n",
            "Model                                                             \n",
            "NearestCentroid           1.00             8.00             3.40  \n",
            "BernoulliNB               2.50             3.00             3.40  \n",
            "SGDClassifier             2.50             5.00             4.00  \n"
          ]
        }
      ],
      "source": [
        "df = pd.DataFrame(models)\n",
        "#df = pd.DataFrame(data)\n",
        "\n",
        "# Normalize the Time Taken (lower is better, so we invert the rank)\n",
        "df['Time Taken'] = df['Time Taken'].max() - df['Time Taken']\n",
        "\n",
        "# Rank the models for each metric\n",
        "for metric in ['Accuracy', 'Balanced Accuracy', 'ROC AUC', 'F1 Score', 'Time Taken']:\n",
        "    df[metric + '_Rank'] = df[metric].rank(ascending=False)\n",
        "\n",
        "# Assign weights to each metric\n",
        "weights = {\n",
        "    'Accuracy': 0.1,\n",
        "    'Balanced Accuracy': 0.2,\n",
        "    'ROC AUC': 0.4,\n",
        "    'F1 Score': 0.3,\n",
        "    'Time Taken': 0.3\n",
        "}\n",
        "\n",
        "# Calculate the composite score\n",
        "df['Composite_Score'] = sum(df[metric + '_Rank'] * weight for metric, weight in weights.items())\n",
        "\n",
        "# Sort models by the composite score to get the best models\n",
        "df = df.sort_values(by='Composite_Score')\n",
        "\n",
        "# Select the top 3 models\n",
        "top_3_models = df.head(3)\n",
        "print(top_3_models)\n"
      ]
    },
    {
      "cell_type": "markdown",
      "metadata": {
        "id": "KFUDeoefdafQ"
      },
      "source": [
        "#### Models"
      ]
    },
    {
      "cell_type": "code",
      "execution_count": null,
      "metadata": {
        "id": "EWW__gD_daoO",
        "colab": {
          "base_uri": "https://localhost:8080/"
        },
        "outputId": "d440ac19-f558-474b-931e-40f0e1196a12"
      },
      "outputs": [
        {
          "output_type": "stream",
          "name": "stderr",
          "text": [
            "/usr/local/lib/python3.10/dist-packages/dask/dataframe/__init__.py:42: FutureWarning: \n",
            "Dask dataframe query planning is disabled because dask-expr is not installed.\n",
            "\n",
            "You can install it with `pip install dask[dataframe]` or `conda install dask`.\n",
            "This will raise in a future version.\n",
            "\n",
            "  warnings.warn(msg, FutureWarning)\n"
          ]
        }
      ],
      "source": [
        "from sklearn.metrics import classification_report, accuracy_score, roc_auc_score, recall_score\n",
        "from sklearn.naive_bayes import BernoulliNB\n",
        "from sklearn.linear_model import Perceptron\n",
        "from sklearn.linear_model import SGDClassifier\n",
        "from sklearn.tree import DecisionTreeClassifier\n",
        "from sklearn.linear_model import LogisticRegression\n",
        "from sklearn.neighbors import KNeighborsClassifier\n",
        "import lightgbm as lgb\n",
        "from sklearn.ensemble import RandomForestClassifier\n",
        "from sklearn.ensemble import BaggingClassifier\n",
        "from lightgbm import LGBMClassifier\n",
        "from sklearn.ensemble import ExtraTreesClassifier\n",
        "from sklearn.svm import SVC\n",
        "import xgboost as xgb\n",
        "from sklearn.neighbors import NearestCentroid"
      ]
    },
    {
      "cell_type": "markdown",
      "metadata": {
        "id": "85IwKguldhmw"
      },
      "source": [
        "### Bernouli Naive Bayes"
      ]
    },
    {
      "cell_type": "code",
      "execution_count": null,
      "metadata": {
        "colab": {
          "base_uri": "https://localhost:8080/"
        },
        "id": "f6dYAnmSdhwW",
        "outputId": "cdbf7d6a-d6a0-46c8-ad42-55a6d5400293"
      },
      "outputs": [
        {
          "output_type": "stream",
          "name": "stdout",
          "text": [
            "Classification Report:\n",
            "               precision    recall  f1-score   support\n",
            "\n",
            "           0       0.00      0.00      0.00         9\n",
            "           1       0.65      1.00      0.79        17\n",
            "\n",
            "    accuracy                           0.65        26\n",
            "   macro avg       0.33      0.50      0.40        26\n",
            "weighted avg       0.43      0.65      0.52        26\n",
            "\n",
            "Training accuracy: 0.654\n"
          ]
        }
      ],
      "source": [
        "bnb = BernoulliNB(binarize=0.0)\n",
        "model = bnb.fit(X_train, y_train)\n",
        "y_pred1 = bnb.predict(X_test)\n",
        "print(\"Classification Report:\\n\", classification_report(y_test, y_pred1))\n",
        "print('Training accuracy: {:.3f}'.format(accuracy_score(y_test,y_pred1)))\n"
      ]
    },
    {
      "cell_type": "markdown",
      "metadata": {
        "id": "eC1Rzct9drcJ"
      },
      "source": [
        "### Bagging Classifier"
      ]
    },
    {
      "cell_type": "code",
      "execution_count": null,
      "metadata": {
        "colab": {
          "base_uri": "https://localhost:8080/"
        },
        "id": "Rrtcz12Tdrk3",
        "outputId": "60eaae9c-342e-4ef2-aaf2-db4f2a889fc6"
      },
      "outputs": [
        {
          "output_type": "stream",
          "name": "stdout",
          "text": [
            "Classification Report:\n",
            "               precision    recall  f1-score   support\n",
            "\n",
            "           0       0.41      0.78      0.54         9\n",
            "           1       0.78      0.41      0.54        17\n",
            "\n",
            "    accuracy                           0.54        26\n",
            "   macro avg       0.59      0.59      0.54        26\n",
            "weighted avg       0.65      0.54      0.54        26\n",
            "\n",
            "Training accuracy: 0.538\n"
          ]
        }
      ],
      "source": [
        "# Create the base classifier\n",
        "dc = DecisionTreeClassifier()\n",
        "model = BaggingClassifier(estimator=dc, n_estimators=10, random_state=seed)\n",
        "classifiers = model.fit(X_train, y_train)\n",
        "\n",
        "y_pred = model.predict(X_test)\n",
        "\n",
        "print(\"Classification Report:\\n\", classification_report(y_test, y_pred))\n",
        "print('Training accuracy: {:.3f}'.format(accuracy_score(y_test,y_pred)))"
      ]
    },
    {
      "cell_type": "markdown",
      "metadata": {
        "id": "8KHDlSFjdyV5"
      },
      "source": [
        "### LGBM Classifier"
      ]
    },
    {
      "cell_type": "code",
      "execution_count": null,
      "metadata": {
        "colab": {
          "base_uri": "https://localhost:8080/"
        },
        "id": "n-Uqo96ldyca",
        "outputId": "67513196-0130-4a58-deb9-36c1b92c7572"
      },
      "outputs": [
        {
          "output_type": "stream",
          "name": "stdout",
          "text": [
            "[LightGBM] [Info] Number of positive: 52, number of negative: 48\n",
            "[LightGBM] [Info] Auto-choosing col-wise multi-threading, the overhead of testing was 0.000041 seconds.\n",
            "You can set `force_col_wise=true` to remove the overhead.\n",
            "[LightGBM] [Info] Total Bins 31\n",
            "[LightGBM] [Info] Number of data points in the train set: 100, number of used features: 6\n",
            "[LightGBM] [Info] [binary:BoostFromScore]: pavg=0.520000 -> initscore=0.080043\n",
            "[LightGBM] [Info] Start training from score 0.080043\n",
            "[LightGBM] [Warning] No further splits with positive gain, best gain: -inf\n",
            "[LightGBM] [Warning] No further splits with positive gain, best gain: -inf\n",
            "[LightGBM] [Warning] No further splits with positive gain, best gain: -inf\n",
            "[LightGBM] [Warning] No further splits with positive gain, best gain: -inf\n",
            "[LightGBM] [Warning] No further splits with positive gain, best gain: -inf\n",
            "[LightGBM] [Warning] No further splits with positive gain, best gain: -inf\n",
            "[LightGBM] [Warning] No further splits with positive gain, best gain: -inf\n",
            "[LightGBM] [Warning] No further splits with positive gain, best gain: -inf\n",
            "[LightGBM] [Warning] No further splits with positive gain, best gain: -inf\n",
            "[LightGBM] [Warning] No further splits with positive gain, best gain: -inf\n",
            "[LightGBM] [Warning] No further splits with positive gain, best gain: -inf\n",
            "[LightGBM] [Warning] No further splits with positive gain, best gain: -inf\n",
            "[LightGBM] [Warning] No further splits with positive gain, best gain: -inf\n",
            "[LightGBM] [Warning] No further splits with positive gain, best gain: -inf\n",
            "[LightGBM] [Warning] No further splits with positive gain, best gain: -inf\n",
            "[LightGBM] [Warning] No further splits with positive gain, best gain: -inf\n",
            "[LightGBM] [Warning] No further splits with positive gain, best gain: -inf\n",
            "[LightGBM] [Warning] No further splits with positive gain, best gain: -inf\n",
            "[LightGBM] [Warning] No further splits with positive gain, best gain: -inf\n",
            "[LightGBM] [Warning] No further splits with positive gain, best gain: -inf\n",
            "[LightGBM] [Warning] No further splits with positive gain, best gain: -inf\n",
            "[LightGBM] [Warning] No further splits with positive gain, best gain: -inf\n",
            "[LightGBM] [Warning] No further splits with positive gain, best gain: -inf\n",
            "[LightGBM] [Warning] No further splits with positive gain, best gain: -inf\n",
            "[LightGBM] [Warning] No further splits with positive gain, best gain: -inf\n",
            "[LightGBM] [Warning] No further splits with positive gain, best gain: -inf\n",
            "[LightGBM] [Warning] No further splits with positive gain, best gain: -inf\n",
            "[LightGBM] [Warning] No further splits with positive gain, best gain: -inf\n",
            "[LightGBM] [Warning] No further splits with positive gain, best gain: -inf\n",
            "[LightGBM] [Warning] No further splits with positive gain, best gain: -inf\n",
            "[LightGBM] [Warning] No further splits with positive gain, best gain: -inf\n",
            "[LightGBM] [Warning] No further splits with positive gain, best gain: -inf\n",
            "[LightGBM] [Warning] No further splits with positive gain, best gain: -inf\n",
            "[LightGBM] [Warning] No further splits with positive gain, best gain: -inf\n",
            "[LightGBM] [Warning] No further splits with positive gain, best gain: -inf\n",
            "[LightGBM] [Warning] No further splits with positive gain, best gain: -inf\n",
            "[LightGBM] [Warning] No further splits with positive gain, best gain: -inf\n",
            "[LightGBM] [Warning] No further splits with positive gain, best gain: -inf\n",
            "[LightGBM] [Warning] No further splits with positive gain, best gain: -inf\n",
            "[LightGBM] [Warning] No further splits with positive gain, best gain: -inf\n",
            "[LightGBM] [Warning] No further splits with positive gain, best gain: -inf\n",
            "[LightGBM] [Warning] No further splits with positive gain, best gain: -inf\n",
            "[LightGBM] [Warning] No further splits with positive gain, best gain: -inf\n",
            "[LightGBM] [Warning] No further splits with positive gain, best gain: -inf\n",
            "[LightGBM] [Warning] No further splits with positive gain, best gain: -inf\n",
            "[LightGBM] [Warning] No further splits with positive gain, best gain: -inf\n",
            "[LightGBM] [Warning] No further splits with positive gain, best gain: -inf\n",
            "[LightGBM] [Warning] No further splits with positive gain, best gain: -inf\n",
            "[LightGBM] [Warning] No further splits with positive gain, best gain: -inf\n",
            "[LightGBM] [Warning] No further splits with positive gain, best gain: -inf\n",
            "[LightGBM] [Warning] No further splits with positive gain, best gain: -inf\n",
            "[LightGBM] [Warning] No further splits with positive gain, best gain: -inf\n",
            "[LightGBM] [Warning] No further splits with positive gain, best gain: -inf\n",
            "[LightGBM] [Warning] No further splits with positive gain, best gain: -inf\n",
            "[LightGBM] [Warning] No further splits with positive gain, best gain: -inf\n",
            "[LightGBM] [Warning] No further splits with positive gain, best gain: -inf\n",
            "[LightGBM] [Warning] No further splits with positive gain, best gain: -inf\n",
            "[LightGBM] [Warning] No further splits with positive gain, best gain: -inf\n",
            "[LightGBM] [Warning] No further splits with positive gain, best gain: -inf\n",
            "[LightGBM] [Warning] No further splits with positive gain, best gain: -inf\n",
            "[LightGBM] [Warning] No further splits with positive gain, best gain: -inf\n",
            "[LightGBM] [Warning] No further splits with positive gain, best gain: -inf\n",
            "[LightGBM] [Warning] No further splits with positive gain, best gain: -inf\n",
            "[LightGBM] [Warning] No further splits with positive gain, best gain: -inf\n",
            "[LightGBM] [Warning] No further splits with positive gain, best gain: -inf\n",
            "[LightGBM] [Warning] No further splits with positive gain, best gain: -inf\n",
            "[LightGBM] [Warning] No further splits with positive gain, best gain: -inf\n",
            "[LightGBM] [Warning] No further splits with positive gain, best gain: -inf\n",
            "[LightGBM] [Warning] No further splits with positive gain, best gain: -inf\n",
            "[LightGBM] [Warning] No further splits with positive gain, best gain: -inf\n",
            "[LightGBM] [Warning] No further splits with positive gain, best gain: -inf\n",
            "[LightGBM] [Warning] No further splits with positive gain, best gain: -inf\n",
            "[LightGBM] [Warning] No further splits with positive gain, best gain: -inf\n",
            "[LightGBM] [Warning] No further splits with positive gain, best gain: -inf\n",
            "[LightGBM] [Warning] No further splits with positive gain, best gain: -inf\n",
            "[LightGBM] [Warning] No further splits with positive gain, best gain: -inf\n",
            "[LightGBM] [Warning] No further splits with positive gain, best gain: -inf\n",
            "[LightGBM] [Warning] No further splits with positive gain, best gain: -inf\n",
            "[LightGBM] [Warning] No further splits with positive gain, best gain: -inf\n",
            "[LightGBM] [Warning] No further splits with positive gain, best gain: -inf\n",
            "[LightGBM] [Warning] No further splits with positive gain, best gain: -inf\n",
            "[LightGBM] [Warning] No further splits with positive gain, best gain: -inf\n",
            "[LightGBM] [Warning] No further splits with positive gain, best gain: -inf\n",
            "[LightGBM] [Warning] No further splits with positive gain, best gain: -inf\n",
            "[LightGBM] [Warning] No further splits with positive gain, best gain: -inf\n",
            "[LightGBM] [Warning] No further splits with positive gain, best gain: -inf\n",
            "[LightGBM] [Warning] No further splits with positive gain, best gain: -inf\n",
            "[LightGBM] [Warning] No further splits with positive gain, best gain: -inf\n",
            "[LightGBM] [Warning] No further splits with positive gain, best gain: -inf\n",
            "[LightGBM] [Warning] No further splits with positive gain, best gain: -inf\n",
            "[LightGBM] [Warning] No further splits with positive gain, best gain: -inf\n",
            "[LightGBM] [Warning] No further splits with positive gain, best gain: -inf\n",
            "[LightGBM] [Warning] No further splits with positive gain, best gain: -inf\n",
            "[LightGBM] [Warning] No further splits with positive gain, best gain: -inf\n",
            "[LightGBM] [Warning] No further splits with positive gain, best gain: -inf\n",
            "[LightGBM] [Warning] No further splits with positive gain, best gain: -inf\n",
            "[LightGBM] [Warning] No further splits with positive gain, best gain: -inf\n",
            "[LightGBM] [Warning] No further splits with positive gain, best gain: -inf\n",
            "[LightGBM] [Warning] No further splits with positive gain, best gain: -inf\n",
            "[LightGBM] [Warning] No further splits with positive gain, best gain: -inf\n",
            "Training Report\n",
            "               precision    recall  f1-score   support\n",
            "\n",
            "           0       0.57      0.44      0.50         9\n",
            "           1       0.74      0.82      0.78        17\n",
            "\n",
            "    accuracy                           0.69        26\n",
            "   macro avg       0.65      0.63      0.64        26\n",
            "weighted avg       0.68      0.69      0.68        26\n",
            "\n",
            "Training accuracy: 0.692\n"
          ]
        }
      ],
      "source": [
        "# LGBM Classifier\n",
        "\n",
        "clf = lgb.LGBMClassifier(random_state=seed)\n",
        "clf.fit(X_train, y_train)\n",
        "y_pred=clf.predict(X_test)\n",
        "print('Training Report\\n {}'.format(classification_report(y_test, y_pred)))\n",
        "print('Training accuracy: {:.3f}'.format(accuracy_score(y_test, y_pred)))"
      ]
    },
    {
      "cell_type": "markdown",
      "metadata": {
        "id": "7Ur7KvBQd4Ax"
      },
      "source": [
        "### Perceptron Model"
      ]
    },
    {
      "cell_type": "code",
      "execution_count": null,
      "metadata": {
        "colab": {
          "base_uri": "https://localhost:8080/"
        },
        "id": "xpvpstF5d4Hd",
        "outputId": "afa888f8-1c60-4e8a-de7b-3e5e5f9a8886"
      },
      "outputs": [
        {
          "output_type": "stream",
          "name": "stdout",
          "text": [
            "Classification Report:\n",
            "               precision    recall  f1-score   support\n",
            "\n",
            "           0       0.35      1.00      0.51         9\n",
            "           1       0.00      0.00      0.00        17\n",
            "\n",
            "    accuracy                           0.35        26\n",
            "   macro avg       0.17      0.50      0.26        26\n",
            "weighted avg       0.12      0.35      0.18        26\n",
            "\n",
            "Training accuracy: 0.346\n"
          ]
        }
      ],
      "source": [
        "\n",
        "perceptron = Perceptron(max_iter=100, eta0=0.1, random_state=seed)\n",
        "perceptron.fit(X_train, y_train)\n",
        "y_pred = perceptron.predict(X_test)\n",
        "accuracy = accuracy_score(y_test, y_pred)\n",
        "\n",
        "class_report = classification_report(y_test, y_pred)\n",
        "print(\"Classification Report:\\n\", class_report)\n",
        "print('Training accuracy: {:.3f}'.format(accuracy_score(y_test, y_pred)))"
      ]
    },
    {
      "cell_type": "markdown",
      "metadata": {
        "id": "kZ04VsO6d9z5"
      },
      "source": [
        "### SGD Classifier"
      ]
    },
    {
      "cell_type": "code",
      "execution_count": null,
      "metadata": {
        "colab": {
          "base_uri": "https://localhost:8080/"
        },
        "id": "uSbsYjYJd97B",
        "outputId": "5249c1e2-e0b2-432f-bd5e-58f70ccd107b"
      },
      "outputs": [
        {
          "output_type": "stream",
          "name": "stdout",
          "text": [
            "Classification Report:\n",
            "               precision    recall  f1-score   support\n",
            "\n",
            "           0       0.75      0.67      0.71         9\n",
            "           1       0.83      0.88      0.86        17\n",
            "\n",
            "    accuracy                           0.81        26\n",
            "   macro avg       0.79      0.77      0.78        26\n",
            "weighted avg       0.80      0.81      0.80        26\n",
            "\n",
            "Training accuracy: 0.808\n"
          ]
        }
      ],
      "source": [
        "\n",
        "clf = SGDClassifier(loss='log_loss', alpha=0.01, max_iter=1000, random_state=seed,)\n",
        "clf.fit(X_train, y_train)\n",
        "y_pred = clf.predict(X_test)\n",
        "accuracy = accuracy_score(y_test, y_pred)\n",
        "\n",
        "class_report = classification_report(y_test, y_pred)\n",
        "print(\"Classification Report:\\n\", class_report)\n",
        "print('Training accuracy: {:.3f}'.format(accuracy_score(y_test, y_pred)))"
      ]
    },
    {
      "cell_type": "markdown",
      "metadata": {
        "id": "4d4WaijpeEZI"
      },
      "source": [
        "### Extratree Classifier"
      ]
    },
    {
      "cell_type": "code",
      "execution_count": null,
      "metadata": {
        "colab": {
          "base_uri": "https://localhost:8080/"
        },
        "id": "QMxpKiiceEfT",
        "outputId": "ec60f041-7c8a-4631-cb7a-1876123819e3"
      },
      "outputs": [
        {
          "output_type": "stream",
          "name": "stdout",
          "text": [
            "Classification Report:\n",
            "               precision    recall  f1-score   support\n",
            "\n",
            "           0       0.31      0.44      0.36         9\n",
            "           1       0.62      0.47      0.53        17\n",
            "\n",
            "    accuracy                           0.46        26\n",
            "   macro avg       0.46      0.46      0.45        26\n",
            "weighted avg       0.51      0.46      0.47        26\n",
            "\n",
            "Training accuracy: 0.462\n"
          ]
        }
      ],
      "source": [
        "etf = ExtraTreesClassifier(n_estimators = 5, criterion ='entropy', max_features = 2, random_state=seed,)\n",
        "etf.fit(X_train, y_train)\n",
        "y_pred = etf.predict(X_test)\n",
        "accuracy = accuracy_score(y_test, y_pred)\n",
        "\n",
        "class_report = classification_report(y_test, y_pred)\n",
        "print(\"Classification Report:\\n\", class_report)\n",
        "print('Training accuracy: {:.3f}'.format(accuracy_score(y_test, y_pred)))"
      ]
    },
    {
      "cell_type": "markdown",
      "metadata": {
        "id": "WlSugJ7teKWq"
      },
      "source": [
        "### SVC Classifier"
      ]
    },
    {
      "cell_type": "code",
      "execution_count": null,
      "metadata": {
        "colab": {
          "base_uri": "https://localhost:8080/"
        },
        "id": "U0z-Ho4geKdh",
        "outputId": "43a7c8a4-6b19-4227-b7bb-e9e5c77b000d"
      },
      "outputs": [
        {
          "output_type": "stream",
          "name": "stdout",
          "text": [
            "Classification Report:\n",
            "               precision    recall  f1-score   support\n",
            "\n",
            "           0       0.45      0.56      0.50         9\n",
            "           1       0.73      0.65      0.69        17\n",
            "\n",
            "    accuracy                           0.62        26\n",
            "   macro avg       0.59      0.60      0.59        26\n",
            "weighted avg       0.64      0.62      0.62        26\n",
            "\n",
            "Training accuracy: 0.615\n"
          ]
        }
      ],
      "source": [
        "svm = SVC(kernel=\"rbf\", gamma=0.5, C=1.0, random_state=seed,)\n",
        "svm.fit(X_train, y_train)\n",
        "y_pred = svm.predict(X_test)\n",
        "accuracy = accuracy_score(y_test, y_pred)\n",
        "\n",
        "class_report = classification_report(y_test, y_pred)\n",
        "print(\"Classification Report:\\n\", class_report)\n",
        "print('Training accuracy: {:.3f}'.format(accuracy_score(y_test, y_pred)))"
      ]
    },
    {
      "cell_type": "markdown",
      "metadata": {
        "id": "vcxWAy2ieRor"
      },
      "source": [
        "### XGB Classifier"
      ]
    },
    {
      "cell_type": "code",
      "execution_count": null,
      "metadata": {
        "colab": {
          "base_uri": "https://localhost:8080/"
        },
        "id": "mVRFdA1feRxq",
        "outputId": "8582d56b-459e-45ac-be28-c6c7535edeef"
      },
      "outputs": [
        {
          "output_type": "stream",
          "name": "stdout",
          "text": [
            "Classification Report:\n",
            "               precision    recall  f1-score   support\n",
            "\n",
            "           0       0.31      0.44      0.36         9\n",
            "           1       0.62      0.47      0.53        17\n",
            "\n",
            "    accuracy                           0.46        26\n",
            "   macro avg       0.46      0.46      0.45        26\n",
            "weighted avg       0.51      0.46      0.47        26\n",
            "\n",
            "Training accuracy: 0.462\n"
          ]
        }
      ],
      "source": [
        "from xgboost import XGBClassifier\n",
        "\n",
        "model = XGBClassifier(random_state=seed,)\n",
        "\n",
        "model.fit(X_train, y_train)\n",
        "y_pred = model.predict(X_test)\n",
        "accuracy = accuracy_score(y_test, y_pred)\n",
        "\n",
        "class_report = classification_report(y_test, y_pred)\n",
        "print(\"Classification Report:\\n\", class_report)\n",
        "print('Training accuracy: {:.3f}'.format(accuracy_score(y_test, y_pred)))"
      ]
    },
    {
      "cell_type": "markdown",
      "metadata": {
        "id": "Qz1jnZ1we7Fu"
      },
      "source": [
        "### Decision tree Classifier"
      ]
    },
    {
      "cell_type": "code",
      "execution_count": null,
      "metadata": {
        "colab": {
          "base_uri": "https://localhost:8080/"
        },
        "id": "Rf8Y7Q8re7Mw",
        "outputId": "80233e6f-5a7f-450d-d9e4-21593b1a431c"
      },
      "outputs": [
        {
          "output_type": "stream",
          "name": "stdout",
          "text": [
            "Training Report\n",
            "               precision    recall  f1-score   support\n",
            "\n",
            "           0       0.36      0.56      0.43         9\n",
            "           1       0.67      0.47      0.55        17\n",
            "\n",
            "    accuracy                           0.50        26\n",
            "   macro avg       0.51      0.51      0.49        26\n",
            "weighted avg       0.56      0.50      0.51        26\n",
            "\n",
            "Training accuracy: 0.500\n"
          ]
        }
      ],
      "source": [
        "model = DecisionTreeClassifier(min_samples_split=4, random_state=seed,)\n",
        "model.fit(X_train, y_train)\n",
        "y_pred = model.predict(X_test)\n",
        "print('Training Report\\n {}'.format(classification_report(y_test,y_pred)))\n",
        "print('Training accuracy: {:.3f}'.format(accuracy_score(y_test,y_pred)))"
      ]
    },
    {
      "cell_type": "markdown",
      "metadata": {
        "id": "6RboHBvHlK56"
      },
      "source": [
        "### Random Forest"
      ]
    },
    {
      "cell_type": "code",
      "execution_count": null,
      "metadata": {
        "colab": {
          "base_uri": "https://localhost:8080/"
        },
        "id": "Qj0FshgdlLAo",
        "outputId": "399a9bd0-e87b-4cf0-a0cf-5551c5a4f80a"
      },
      "outputs": [
        {
          "output_type": "stream",
          "name": "stdout",
          "text": [
            "Training Report\n",
            "               precision    recall  f1-score   support\n",
            "\n",
            "           0       0.36      0.44      0.40         9\n",
            "           1       0.67      0.59      0.62        17\n",
            "\n",
            "    accuracy                           0.54        26\n",
            "   macro avg       0.52      0.52      0.51        26\n",
            "weighted avg       0.56      0.54      0.55        26\n",
            "\n",
            "Training accuracy: 0.538\n"
          ]
        }
      ],
      "source": [
        "model = RandomForestClassifier(n_estimators=100, random_state=seed,)\n",
        "model.fit(X_train, y_train)\n",
        "y_pred = model.predict(X_test)\n",
        "print('Training Report\\n {}'.format(classification_report(y_test,y_pred)))\n",
        "print('Training accuracy: {:.3f}'.format(accuracy_score(y_test,y_pred)))"
      ]
    },
    {
      "cell_type": "markdown",
      "metadata": {
        "id": "mGPWdZ_deVi9"
      },
      "source": [
        "### Logistic Regression"
      ]
    },
    {
      "cell_type": "code",
      "execution_count": null,
      "metadata": {
        "colab": {
          "base_uri": "https://localhost:8080/"
        },
        "id": "wL3croHkeVo4",
        "outputId": "12539fce-8a4e-4884-f645-3fc916f8ccb3"
      },
      "outputs": [
        {
          "output_type": "stream",
          "name": "stdout",
          "text": [
            "Training Report\n",
            "               precision    recall  f1-score   support\n",
            "\n",
            "           0       0.62      0.56      0.59         9\n",
            "           1       0.78      0.82      0.80        17\n",
            "\n",
            "    accuracy                           0.73        26\n",
            "   macro avg       0.70      0.69      0.69        26\n",
            "weighted avg       0.72      0.73      0.73        26\n",
            "\n",
            "Training accuracy: 0.731\n"
          ]
        }
      ],
      "source": [
        "# fit logistic regression\n",
        "lr = LogisticRegression(random_state=seed,)\n",
        "lr.fit(X_train,y_train)\n",
        "\n",
        "# predict on the test set and get the test accuracy:\n",
        "y_pred = lr.predict(X_test)\n",
        "print('Training Report\\n {}'.format(classification_report(y_test, y_pred)))\n",
        "print('Training accuracy: {:.3f}'.format(accuracy_score(y_test, y_pred)))"
      ]
    },
    {
      "cell_type": "markdown",
      "source": [
        "### NearestCentroid"
      ],
      "metadata": {
        "id": "J7p0YiFfSx3F"
      }
    },
    {
      "cell_type": "code",
      "source": [
        "nc = NearestCentroid()\n",
        "model = nc.fit(X_train, y_train)\n",
        "y_pred1 = nc.predict(X_test)\n",
        "print(\"Classification Report:\\n\", classification_report(y_test, y_pred1))\n",
        "print('Training accuracy: {:.3f}'.format(accuracy_score(y_test,y_pred1)))"
      ],
      "metadata": {
        "colab": {
          "base_uri": "https://localhost:8080/"
        },
        "id": "he6PdKxbSyBn",
        "outputId": "1ac6f3f8-e430-46b5-e46b-72acf2aea249"
      },
      "execution_count": null,
      "outputs": [
        {
          "output_type": "stream",
          "name": "stdout",
          "text": [
            "Classification Report:\n",
            "               precision    recall  f1-score   support\n",
            "\n",
            "           0       0.78      0.78      0.78         9\n",
            "           1       0.88      0.88      0.88        17\n",
            "\n",
            "    accuracy                           0.85        26\n",
            "   macro avg       0.83      0.83      0.83        26\n",
            "weighted avg       0.85      0.85      0.85        26\n",
            "\n",
            "Training accuracy: 0.846\n"
          ]
        }
      ]
    },
    {
      "cell_type": "markdown",
      "metadata": {
        "id": "-9tKWIiKeag5"
      },
      "source": [
        "### Logistic Regression with L1 Regularisation"
      ]
    },
    {
      "cell_type": "code",
      "execution_count": null,
      "metadata": {
        "colab": {
          "base_uri": "https://localhost:8080/"
        },
        "id": "ntawaSA0eamq",
        "outputId": "ae7fe8f7-ecbd-48a8-fa59-875979b63bc5"
      },
      "outputs": [
        {
          "output_type": "stream",
          "name": "stdout",
          "text": [
            "Non Zero weights: 6\n"
          ]
        }
      ],
      "source": [
        "from sklearn.linear_model import LogisticRegression\n",
        "\n",
        "clf = LogisticRegression(C= 100, penalty= 'l1', solver='liblinear')\n",
        "clf.fit(X_train, y_train)\n",
        "pred = clf.predict(X_test)\n",
        "print(\"Non Zero weights:\",np.count_nonzero(clf.coef_))\n"
      ]
    },
    {
      "cell_type": "code",
      "execution_count": null,
      "metadata": {
        "colab": {
          "base_uri": "https://localhost:8080/"
        },
        "id": "FuTBJlpWelRJ",
        "outputId": "80779f0d-8ba5-455b-89a3-cb09cd5d4ef9"
      },
      "outputs": [
        {
          "output_type": "stream",
          "name": "stdout",
          "text": [
            "Non Zero weights: 1\n"
          ]
        }
      ],
      "source": [
        "from sklearn.linear_model import LogisticRegression\n",
        "\n",
        "clf = LogisticRegression(C= 0.1, penalty= 'l1', solver='liblinear')\n",
        "clf.fit(X_train, y_train)\n",
        "pred = clf.predict(X_test)\n",
        "print(\"Non Zero weights:\",np.count_nonzero(clf.coef_))\n"
      ]
    },
    {
      "cell_type": "code",
      "execution_count": null,
      "metadata": {
        "colab": {
          "base_uri": "https://localhost:8080/"
        },
        "id": "dtwHtWVyeqg9",
        "outputId": "dc929a2e-6097-476c-d7e7-021ccf1740d1"
      },
      "outputs": [
        {
          "output_type": "stream",
          "name": "stdout",
          "text": [
            "Non Zero weights: 0\n",
            "Training Report\n",
            "               precision    recall  f1-score   support\n",
            "\n",
            "           0       0.35      1.00      0.51         9\n",
            "           1       0.00      0.00      0.00        17\n",
            "\n",
            "    accuracy                           0.35        26\n",
            "   macro avg       0.17      0.50      0.26        26\n",
            "weighted avg       0.12      0.35      0.18        26\n",
            "\n",
            "Training accuracy: 0.346\n"
          ]
        }
      ],
      "source": [
        "clf = LogisticRegression(C= 0.0001, penalty= 'l1', solver='liblinear')\n",
        "clf.fit(X_train, y_train)\n",
        "pred = clf.predict(X_test)\n",
        "print(\"Non Zero weights:\",np.count_nonzero(clf.coef_))\n",
        "# Predit accuracy\n",
        "print('Training Report\\n {}'.format(classification_report(y_test, pred)))\n",
        "print('Training accuracy: {:.3f}'.format(accuracy_score(y_test, pred)))"
      ]
    },
    {
      "cell_type": "markdown",
      "metadata": {
        "id": "zoQDjoKnk1ET"
      },
      "source": [
        "#### From experimenting different model we can conclude that **Nearest Centroid** has got good accuracies as 84% also with better recall percentage of78%."
      ]
    },
    {
      "cell_type": "markdown",
      "metadata": {
        "id": "3wduT5wck1NS"
      },
      "source": [
        "### 1. Voting Ensemble Method using LGBM Classifier\n"
      ]
    },
    {
      "cell_type": "code",
      "execution_count": null,
      "metadata": {
        "colab": {
          "base_uri": "https://localhost:8080/"
        },
        "id": "_MG8OYE1k1Y7",
        "outputId": "938f6b78-0861-4c71-b77f-3892d0489c2a"
      },
      "outputs": [
        {
          "output_type": "stream",
          "name": "stdout",
          "text": [
            "Training Report\n",
            "               precision    recall  f1-score   support\n",
            "\n",
            "           0       0.70      0.78      0.74         9\n",
            "           1       0.88      0.82      0.85        17\n",
            "\n",
            "    accuracy                           0.81        26\n",
            "   macro avg       0.79      0.80      0.79        26\n",
            "weighted avg       0.81      0.81      0.81        26\n",
            "\n",
            "Training accuracy: 0.808\n"
          ]
        }
      ],
      "source": [
        "# importing voting classifier\n",
        "from sklearn.ensemble import VotingClassifier\n",
        "\n",
        "# initializing all the model objects with default parameters\n",
        "model_1 = LogisticRegression()\n",
        "model_2 = SGDClassifier(random_state=seed)\n",
        "model_3 = NearestCentroid()\n",
        "\n",
        "#model_4 = SVC(random_state=seed,)\n",
        "#model_5 = BaggingClassifier(random_state=seed)\n",
        "#model_6 = lgb.LGBMClassifier(random_state=seed)\n",
        "#model_7 = XGBClassifier(random_state=seed)\n",
        "\n",
        "# Making the final model using voting classifier\n",
        "final_model = VotingClassifier(\n",
        "    estimators=[('lr', model_1), ('sgd', model_2), ('nc', model_3)] , voting='hard')\n",
        "\n",
        "#estimators=[('lr', model_1), ('sgd', model_2), ('svc', model_3), ('nc', model_4), ('bag', model_5), ('lgb', model_5), ('xgb', model_5)] , voting='hard')\n",
        "\n",
        "# training all the model on the train dataset\n",
        "final_model.fit(X_train, y_train)\n",
        "\n",
        "\n",
        "# predicting the output on the test dataset\n",
        "pred_final = final_model.predict(X_test)\n",
        "\n",
        "print('Training Report\\n {}'.format(classification_report(y_test, pred_final)))\n",
        "print('Training accuracy: {:.3f}'.format(accuracy_score(y_test, pred_final)))\n"
      ]
    },
    {
      "cell_type": "markdown",
      "metadata": {
        "id": "900EkTGenlXR"
      },
      "source": [
        "### 2. Stacking Ensemble Method\n",
        "\n"
      ]
    },
    {
      "cell_type": "code",
      "execution_count": null,
      "metadata": {
        "colab": {
          "base_uri": "https://localhost:8080/"
        },
        "id": "4Qc4ByM1nle5",
        "outputId": "f394a0f8-bba6-4350-d4f7-08bcdb98c579"
      },
      "outputs": [
        {
          "output_type": "stream",
          "name": "stdout",
          "text": [
            "Training Report\n",
            "               precision    recall  f1-score   support\n",
            "\n",
            "           0       0.78      0.78      0.78         9\n",
            "           1       0.88      0.88      0.88        17\n",
            "\n",
            "    accuracy                           0.85        26\n",
            "   macro avg       0.83      0.83      0.83        26\n",
            "weighted avg       0.85      0.85      0.85        26\n",
            "\n",
            "Training accuracy: 0.846\n"
          ]
        }
      ],
      "source": [
        "# importing stacking lib\n",
        "from vecstack import stacking\n",
        "\n",
        "# initializing all the model objects with default parameters\n",
        "model_1 = LogisticRegression()\n",
        "model_2 = SGDClassifier(random_state=seed)\n",
        "model_3 = NearestCentroid()\n",
        "\n",
        "# putting all base model objects in one list\n",
        "all_models = [model_1, model_2, model_3]\n",
        "\n",
        "# Ensure y_train is a 1D array\n",
        "y_train = y_train.ravel()\n",
        "\n",
        "# computing the stack features\n",
        "s_train, s_test = stacking(all_models,\n",
        "                           X_train.values, # Convert X_train to numpy array\n",
        "                           y_train,\n",
        "                           X_test.values, # Convert X_test to numpy array\n",
        "                           regression=True,\n",
        "                           n_folds=4,\n",
        "                           shuffle=True, # Enable shuffling for KFold\n",
        "                           random_state=seed, # Now you can set a random state\n",
        "                          )\n",
        "\n",
        "# initializing the second-level model\n",
        "final_model = model_3\n",
        "\n",
        "# fitting the second level model with stack features\n",
        "final_model = final_model.fit(X_train, y_train)\n",
        "\n",
        "# predicting the final output using stacking\n",
        "pred_final = final_model.predict(X_test)\n",
        "\n",
        "print('Training Report\\n {}'.format(classification_report(y_test, pred_final)))\n",
        "print('Training accuracy: {:.3f}'.format(accuracy_score(y_test, pred_final)))"
      ]
    },
    {
      "cell_type": "markdown",
      "metadata": {
        "id": "NeYuBU-zuvFR"
      },
      "source": []
    },
    {
      "cell_type": "markdown",
      "metadata": {
        "id": "OL_S5SXiu6M7"
      },
      "source": [
        "### Feature importance using Nearest Centroid"
      ]
    },
    {
      "cell_type": "code",
      "source": [
        "# Initialize and train the nearest centroid model\n",
        "clf = NearestCentroid()\n",
        "rf1 = clf.fit(X_train, y_train)\n",
        "\n",
        "# Baseline accuracy with all features\n",
        "y_pred = clf.predict(X_test)\n",
        "baseline_accuracy = accuracy_score(y_test, y_pred)\n",
        "\n",
        "# Function to calculate feature importance\n",
        "def calculate_feature_importance(X_train, y_train, X_test, y_test, feature_names):\n",
        "    n_features = X_train.shape[1]\n",
        "    feature_importance = []\n",
        "\n",
        "    for i in range(n_features):\n",
        "        # Remove one feature (leave-one-feature-out)\n",
        "        X_train_reduced = np.delete(X_train, i, axis=1)\n",
        "        X_test_reduced = np.delete(X_test, i, axis=1)\n",
        "\n",
        "        # Train the model with the reduced feature set\n",
        "        clf_reduced = NearestCentroid()\n",
        "        clf_reduced.fit(X_train_reduced, y_train)\n",
        "\n",
        "        # Predict and calculate accuracy\n",
        "        y_pred_reduced = clf_reduced.predict(X_test_reduced)\n",
        "        accuracy_reduced = accuracy_score(y_test, y_pred_reduced)\n",
        "\n",
        "        # Calculate the drop in accuracy\n",
        "        accuracy_drop = baseline_accuracy - accuracy_reduced\n",
        "        feature_importance.append((feature_names[i], accuracy_drop))\n",
        "\n",
        "  # Sort features by importance\n",
        "    feature_importance.sort(key=lambda x: x[1], reverse=True)\n",
        "    return feature_importance\n",
        "\n",
        "# Get feature names from X_train (assuming it's a pandas DataFrame)\n",
        "feature_names = X_train.columns\n",
        "\n",
        "# Calculate feature importance\n",
        "importance = calculate_feature_importance(X_train, y_train, X_test, y_test, feature_names)\n",
        "\n",
        "# Print the ranked feature importance\n",
        "print(\"\\nFeature importance (ranked):\")\n",
        "for feature, importance_value in importance:\n",
        "    print(f\"{feature}: {importance_value:.4f}\")\n",
        "\n"
      ],
      "metadata": {
        "colab": {
          "base_uri": "https://localhost:8080/"
        },
        "id": "TF26OU6FJ3ay",
        "outputId": "b9f41a5c-d153-454c-e4de-26ce7e474e7f"
      },
      "execution_count": null,
      "outputs": [
        {
          "output_type": "stream",
          "name": "stdout",
          "text": [
            "\n",
            "Feature importance (ranked):\n",
            "on_time_delivery: 0.0769\n",
            "courier_satisfaction: 0.0769\n",
            "contents_of_order: 0.0000\n",
            "easy_ordering_app: 0.0000\n",
            "ordered_everything: -0.0385\n",
            "good_price_paid: -0.0385\n"
          ]
        }
      ]
    },
    {
      "cell_type": "code",
      "source": [
        "from sklearn.neighbors import NearestCentroid\n",
        "from sklearn.inspection import permutation_importance\n",
        "import numpy as np\n",
        "\n",
        "# Initialize and fit the NearestCentroid model\n",
        "model = NearestCentroid()\n",
        "model.fit(X_train, y_train)\n",
        "\n",
        "# Calculate permutation importance\n",
        "perm_importance = permutation_importance(model, X_train, y_train, n_repeats=10, random_state=seed)\n",
        "\n",
        "# Get the importances and sort them\n",
        "sorted_importances = np.argsort(perm_importance.importances_mean)\n",
        "\n",
        "# Print sorted importances (indices)\n",
        "print(\"Sorted feature importances:\", sorted_importances)\n",
        "\n",
        "# Select the top 4 most important features\n",
        "selected_features = sorted_importances[-4:]  # Select the indices of the top 4 features\n",
        "\n",
        "print(\"Selected feature indices:\", selected_features)\n",
        "\n",
        "# Map indices to feature names\n",
        "sorted_feature_names = feature_names[sorted_importances]\n",
        "selected_feature_names = feature_names[selected_features]\n",
        "\n",
        "# Print sorted features with their indices\n",
        "print(\"\\nSorted feature importances with names:\")\n",
        "for idx in sorted_importances:\n",
        "    print(f\"Feature: {feature_names[idx]}, Importance Rank: {idx}\")\n",
        "\n",
        "# Print selected top features with their names\n",
        "print(\"\\nSelected top 4 most important features:\")\n",
        "for idx in selected_features:\n",
        "    print(f\"Feature: {feature_names[idx]}\")\n"
      ],
      "metadata": {
        "colab": {
          "base_uri": "https://localhost:8080/"
        },
        "id": "w557c61v_QoP",
        "outputId": "732d4780-7598-4e98-e481-6a9bff89277b"
      },
      "execution_count": null,
      "outputs": [
        {
          "output_type": "stream",
          "name": "stdout",
          "text": [
            "Sorted feature importances: [0 3 5 4 1 2]\n",
            "Selected feature indices: [5 4 1 2]\n",
            "\n",
            "Sorted feature importances with names:\n",
            "Feature: on_time_delivery, Importance Rank: 0\n",
            "Feature: good_price_paid, Importance Rank: 3\n",
            "Feature: easy_ordering_app, Importance Rank: 5\n",
            "Feature: courier_satisfaction, Importance Rank: 4\n",
            "Feature: contents_of_order, Importance Rank: 1\n",
            "Feature: ordered_everything, Importance Rank: 2\n",
            "\n",
            "Selected top 4 most important features:\n",
            "Feature: easy_ordering_app\n",
            "Feature: courier_satisfaction\n",
            "Feature: contents_of_order\n",
            "Feature: ordered_everything\n"
          ]
        }
      ]
    },
    {
      "cell_type": "code",
      "source": [],
      "metadata": {
        "id": "nleNFyWg7gDq"
      },
      "execution_count": null,
      "outputs": []
    },
    {
      "cell_type": "markdown",
      "metadata": {
        "id": "Jk9FoEtA_pi6"
      },
      "source": [
        "### Modelling after removing Variables"
      ]
    },
    {
      "cell_type": "code",
      "source": [
        "X_train_rfe1 = X_train.drop(columns=['good_price_paid'])\n",
        "X_test_rfe1 = X_test.drop(columns=['good_price_paid'])\n",
        "\n",
        "\n",
        "# Nearest Centroid\n",
        "\n",
        "nc = NearestCentroid()\n",
        "nc.fit(X_train_rfe1, y_train)\n",
        "y_pred = nc.predict(X_test_rfe1)\n",
        "print('Training Report\\n {}'.format(classification_report(y_test,y_pred)))\n",
        "print('Training accuracy: {:.3f}'.format(accuracy_score(y_test,y_pred)))"
      ],
      "metadata": {
        "colab": {
          "base_uri": "https://localhost:8080/"
        },
        "id": "rHkHTFqMIYHA",
        "outputId": "290989c5-3d51-4b28-b3ca-381eac94e5fd"
      },
      "execution_count": null,
      "outputs": [
        {
          "output_type": "stream",
          "name": "stdout",
          "text": [
            "Training Report\n",
            "               precision    recall  f1-score   support\n",
            "\n",
            "           0       0.80      0.89      0.84         9\n",
            "           1       0.94      0.88      0.91        17\n",
            "\n",
            "    accuracy                           0.88        26\n",
            "   macro avg       0.87      0.89      0.88        26\n",
            "weighted avg       0.89      0.88      0.89        26\n",
            "\n",
            "Training accuracy: 0.885\n"
          ]
        }
      ]
    },
    {
      "cell_type": "code",
      "source": [
        "X_train_rfe2 = X_train.drop(columns=['contents_of_order'])\n",
        "X_test_rfe2 = X_test.drop(columns=['contents_of_order'])\n",
        "\n",
        "\n",
        "# Nearest Centroid\n",
        "\n",
        "nc = NearestCentroid()\n",
        "nc.fit(X_train_rfe2, y_train)\n",
        "y_pred = nc.predict(X_test_rfe2)\n",
        "print('Training Report\\n {}'.format(classification_report(y_test,y_pred)))\n",
        "print('Training accuracy: {:.3f}'.format(accuracy_score(y_test,y_pred)))"
      ],
      "metadata": {
        "id": "3o6Snn8FJBdS",
        "colab": {
          "base_uri": "https://localhost:8080/"
        },
        "outputId": "589ebe1d-bab9-4c5e-9b9a-e0469c0c82ea"
      },
      "execution_count": null,
      "outputs": [
        {
          "output_type": "stream",
          "name": "stdout",
          "text": [
            "Training Report\n",
            "               precision    recall  f1-score   support\n",
            "\n",
            "           0       0.78      0.78      0.78         9\n",
            "           1       0.88      0.88      0.88        17\n",
            "\n",
            "    accuracy                           0.85        26\n",
            "   macro avg       0.83      0.83      0.83        26\n",
            "weighted avg       0.85      0.85      0.85        26\n",
            "\n",
            "Training accuracy: 0.846\n"
          ]
        }
      ]
    },
    {
      "cell_type": "code",
      "source": [
        "X_train_rfe3 = X_train.drop(columns=['ordered_everything'])\n",
        "X_test_rfe3 = X_test.drop(columns=['ordered_everything'])\n",
        "\n",
        "\n",
        "# Nearest Centroid\n",
        "\n",
        "nc = NearestCentroid()\n",
        "nc.fit(X_train_rfe3, y_train)\n",
        "y_pred = nc.predict(X_test_rfe3)\n",
        "print('Training Report\\n {}'.format(classification_report(y_test,y_pred)))\n",
        "print('Training accuracy: {:.3f}'.format(accuracy_score(y_test,y_pred)))"
      ],
      "metadata": {
        "colab": {
          "base_uri": "https://localhost:8080/"
        },
        "id": "uDN3gnrk_zr8",
        "outputId": "70609305-fc06-4224-9414-c001d864cde8"
      },
      "execution_count": null,
      "outputs": [
        {
          "output_type": "stream",
          "name": "stdout",
          "text": [
            "Training Report\n",
            "               precision    recall  f1-score   support\n",
            "\n",
            "           0       0.80      0.89      0.84         9\n",
            "           1       0.94      0.88      0.91        17\n",
            "\n",
            "    accuracy                           0.88        26\n",
            "   macro avg       0.87      0.89      0.88        26\n",
            "weighted avg       0.89      0.88      0.89        26\n",
            "\n",
            "Training accuracy: 0.885\n"
          ]
        }
      ]
    },
    {
      "cell_type": "markdown",
      "source": [],
      "metadata": {
        "id": "aM6syuITANfb"
      }
    },
    {
      "cell_type": "code",
      "source": [
        "X_train_rfe4 = X_train.drop(columns=['good_price_paid', 'ordered_everything'])\n",
        "X_test_rfe4 = X_test.drop(columns=['good_price_paid', 'ordered_everything'])\n",
        "\n",
        "\n",
        "# Nearest Centroid\n",
        "\n",
        "nc = NearestCentroid()\n",
        "nc.fit(X_train_rfe4, y_train)\n",
        "y_pred = nc.predict(X_test_rfe4)\n",
        "print('Training Report\\n {}'.format(classification_report(y_test,y_pred)))\n",
        "print('Training accuracy: {:.3f}'.format(accuracy_score(y_test,y_pred)))"
      ],
      "metadata": {
        "id": "hLh_bgouKAtb",
        "colab": {
          "base_uri": "https://localhost:8080/"
        },
        "outputId": "8271d6af-6b19-42b6-d7a1-db17034e8455"
      },
      "execution_count": null,
      "outputs": [
        {
          "output_type": "stream",
          "name": "stdout",
          "text": [
            "Training Report\n",
            "               precision    recall  f1-score   support\n",
            "\n",
            "           0       0.78      0.78      0.78         9\n",
            "           1       0.88      0.88      0.88        17\n",
            "\n",
            "    accuracy                           0.85        26\n",
            "   macro avg       0.83      0.83      0.83        26\n",
            "weighted avg       0.85      0.85      0.85        26\n",
            "\n",
            "Training accuracy: 0.846\n"
          ]
        }
      ]
    },
    {
      "cell_type": "code",
      "source": [
        "X_train_rfe5 = X_train.drop(columns=['contents_of_order', 'ordered_everything', 'good_price_paid'])\n",
        "X_test_rfe5 = X_test.drop(columns=['contents_of_order', 'ordered_everything', 'good_price_paid'])\n",
        "\n",
        "\n",
        "# Nearest Centroid\n",
        "\n",
        "nc = NearestCentroid()\n",
        "nc.fit(X_train_rfe5, y_train)\n",
        "y_pred = nc.predict(X_test_rfe5)\n",
        "print('Training Report\\n {}'.format(classification_report(y_test,y_pred)))\n",
        "print('Training accuracy: {:.3f}'.format(accuracy_score(y_test,y_pred)))"
      ],
      "metadata": {
        "id": "EoCz7DTFLVYO",
        "colab": {
          "base_uri": "https://localhost:8080/"
        },
        "outputId": "0ace1bdd-dacc-4426-cc7d-fa636bbf1341"
      },
      "execution_count": null,
      "outputs": [
        {
          "output_type": "stream",
          "name": "stdout",
          "text": [
            "Training Report\n",
            "               precision    recall  f1-score   support\n",
            "\n",
            "           0       0.73      0.89      0.80         9\n",
            "           1       0.93      0.82      0.87        17\n",
            "\n",
            "    accuracy                           0.85        26\n",
            "   macro avg       0.83      0.86      0.84        26\n",
            "weighted avg       0.86      0.85      0.85        26\n",
            "\n",
            "Training accuracy: 0.846\n"
          ]
        }
      ]
    },
    {
      "cell_type": "code",
      "source": [],
      "metadata": {
        "id": "F2gPK_JyQvSu"
      },
      "execution_count": null,
      "outputs": []
    },
    {
      "cell_type": "markdown",
      "source": [
        "### Hyperparamter Tuning on Nearest Centroid"
      ],
      "metadata": {
        "id": "JvoeCKdrLVvw"
      }
    },
    {
      "cell_type": "code",
      "source": [
        "## Hyper Parameter Optimization\n",
        "param_grid = {\n",
        "    'shrink_threshold': [None]\n",
        "}"
      ],
      "metadata": {
        "id": "otR4pP3dLYxY"
      },
      "execution_count": null,
      "outputs": []
    },
    {
      "cell_type": "code",
      "source": [
        "## Hyperparameter optimization using RandomizedSearchCV\n",
        "from sklearn.model_selection import RandomizedSearchCV, GridSearchCV\n"
      ],
      "metadata": {
        "id": "CP_dt0ZXLY3Q"
      },
      "execution_count": null,
      "outputs": []
    },
    {
      "cell_type": "code",
      "source": [
        "# Initialize the NearestCentroid model\n",
        "model = NearestCentroid()\n",
        "\n",
        "# Initialize GridSearchCV\n",
        "grid_search = GridSearchCV(estimator=model, param_grid=param_grid, cv=5, scoring='accuracy')\n",
        "\n",
        "# Fit the model using grid search\n",
        "grid_search.fit(X_train_rfe5, y_train)\n",
        "\n",
        "# Get the best model and hyperparameters\n",
        "best_model = grid_search.best_estimator_\n",
        "best_params = grid_search.best_params_\n",
        "\n",
        "# Print the best hyperparameters\n",
        "print(\"Best hyperparameters:\", best_params)\n",
        "\n",
        "# Get the feature names used during training\n",
        "training_features = X_train_rfe5.columns\n",
        "\n",
        "# Select only those features from X_test_rfe5\n",
        "X_test_for_prediction = X_test_rfe5[training_features]\n",
        "\n",
        "# Now predict using the subset of X_test_rfe5\n",
        "y_pred = best_model.predict(X_test_for_prediction)\n",
        "\n",
        "\n",
        "# Evaluate the model\n",
        "print(\"\\nClassification Report:\\n\", classification_report(y_test, y_pred))\n",
        "print(\"Accuracy on test data:\", accuracy_score(y_test, y_pred))"
      ],
      "metadata": {
        "colab": {
          "base_uri": "https://localhost:8080/"
        },
        "id": "CAmXkXW4REYV",
        "outputId": "fc1aafb9-bfef-4841-8797-1e9ecd2cb2fc"
      },
      "execution_count": null,
      "outputs": [
        {
          "output_type": "stream",
          "name": "stdout",
          "text": [
            "Best hyperparameters: {'shrink_threshold': None}\n",
            "\n",
            "Classification Report:\n",
            "               precision    recall  f1-score   support\n",
            "\n",
            "           0       0.73      0.89      0.80         9\n",
            "           1       0.93      0.82      0.87        17\n",
            "\n",
            "    accuracy                           0.85        26\n",
            "   macro avg       0.83      0.86      0.84        26\n",
            "weighted avg       0.86      0.85      0.85        26\n",
            "\n",
            "Accuracy on test data: 0.8461538461538461\n"
          ]
        }
      ]
    },
    {
      "cell_type": "code",
      "source": [
        "# Initialize the NearestCentroid model\n",
        "classifier = NearestCentroid()\n",
        "\n",
        "# Initialize RandomizedSearchCV with cross-validation\n",
        "random_search = RandomizedSearchCV(\n",
        "    estimator=classifier,\n",
        "    param_distributions=param_grid,\n",
        "    n_iter=5,  # Number of parameter settings to try\n",
        "    scoring='accuracy',  # You might use 'roc_auc' for binary classification\n",
        "    n_jobs=-1,\n",
        "    cv=5,\n",
        "    verbose=3,\n",
        "    random_state=seed\n",
        ")\n",
        "\n",
        "# Fit the model using random search\n",
        "random_search.fit(X_train_rfe5, y_train)\n",
        "\n",
        "# Get the best estimator\n",
        "best_estimator = random_search.best_estimator_\n",
        "\n",
        "# Print the best hyperparameters and the best score\n",
        "print(\"Best Hyperparameters:\", random_search.best_params_)\n",
        "print(\"Best Cross-Validation Score:\", random_search.best_score_)\n",
        "\n",
        "# Get the feature names used during training\n",
        "training_features = X_train_rfe5.columns\n",
        "\n",
        "# Select only those features from X_test_rfe5\n",
        "X_test_for_prediction = X_test_rfe5[training_features]\n",
        "\n",
        "# Evaluate the best model on the test set (using the subset of X_test_rfe5)\n",
        "test_accuracy = best_estimator.score(X_test_for_prediction, y_test)\n",
        "\n",
        "y_pred = best_estimator.predict(X_test_for_prediction)\n",
        "\n",
        "print(\"\\nClassification Report:\\n\", classification_report(y_test, y_pred))\n",
        "print(\"Accuracy on test data:\", accuracy_score(y_test, y_pred))"
      ],
      "metadata": {
        "colab": {
          "base_uri": "https://localhost:8080/"
        },
        "id": "KONJ6nzkRZU-",
        "outputId": "d1fd4df2-a5de-4ed5-cee4-b808ddcfcf5a"
      },
      "execution_count": null,
      "outputs": [
        {
          "output_type": "stream",
          "name": "stdout",
          "text": [
            "Fitting 5 folds for each of 1 candidates, totalling 5 fits\n",
            "Best Hyperparameters: {'shrink_threshold': None}\n",
            "Best Cross-Validation Score: 0.51\n",
            "\n",
            "Classification Report:\n",
            "               precision    recall  f1-score   support\n",
            "\n",
            "           0       0.73      0.89      0.80         9\n",
            "           1       0.93      0.82      0.87        17\n",
            "\n",
            "    accuracy                           0.85        26\n",
            "   macro avg       0.83      0.86      0.84        26\n",
            "weighted avg       0.86      0.85      0.85        26\n",
            "\n",
            "Accuracy on test data: 0.8461538461538461\n"
          ]
        },
        {
          "output_type": "stream",
          "name": "stderr",
          "text": [
            "/usr/local/lib/python3.10/dist-packages/sklearn/model_selection/_search.py:307: UserWarning: The total space of parameters 1 is smaller than n_iter=5. Running 1 iterations. For exhaustive searches, use GridSearchCV.\n",
            "  warnings.warn(\n"
          ]
        }
      ]
    },
    {
      "cell_type": "code",
      "source": [],
      "metadata": {
        "id": "cNUJvwIDRZXf"
      },
      "execution_count": null,
      "outputs": []
    },
    {
      "cell_type": "code",
      "source": [],
      "metadata": {
        "id": "E1wV82oHRZaK"
      },
      "execution_count": null,
      "outputs": []
    },
    {
      "cell_type": "code",
      "source": [],
      "metadata": {
        "id": "by5oftJ0RZce"
      },
      "execution_count": null,
      "outputs": []
    },
    {
      "cell_type": "code",
      "source": [],
      "metadata": {
        "id": "6lHuxrlkRZgm"
      },
      "execution_count": null,
      "outputs": []
    },
    {
      "cell_type": "code",
      "source": [],
      "metadata": {
        "id": "8NDpe6reN6rq"
      },
      "execution_count": null,
      "outputs": []
    },
    {
      "cell_type": "code",
      "source": [],
      "metadata": {
        "id": "OjjEawXvN6yf"
      },
      "execution_count": null,
      "outputs": []
    },
    {
      "cell_type": "markdown",
      "source": [
        "### Reference Code"
      ],
      "metadata": {
        "id": "Ul2zfoM2N7UC"
      }
    },
    {
      "cell_type": "code",
      "source": [
        "import pandas as pd\n",
        "from sklearn.feature_selection import RFE\n",
        "from sklearn.inspection import permutation_importance\n",
        "from sklearn.neighbors import NearestCentroid\n",
        "\n",
        "# Assuming seed is defined\n",
        "seed = 42  # Example seed value\n",
        "\n",
        "# Print initial shape\n",
        "print(f\"Initial X_train shape: {X_train.shape}\")\n",
        "\n",
        "# Initialize the NearestCentroid model\n",
        "model = NearestCentroid()\n",
        "\n",
        "# Fit the model to the entire dataset first (necessary for permutation importance)\n",
        "model.fit(X_train, y_train)\n",
        "\n",
        "# Define a custom importance getter\n",
        "def custom_importance_getter(estimator):\n",
        "    result = permutation_importance(estimator, X_train, y_train, n_repeats=10, random_state=seed)\n",
        "    return result.importances_mean\n",
        "\n",
        "# Initialize RFE to select 4 features out of 6\n",
        "rfe = RFE(estimator=NearestCentroid(), n_features_to_select=5, step=1, importance_getter=custom_importance_getter)\n",
        "\n",
        "# Fit RFE\n",
        "rfe1 = rfe.fit(X_train, y_train)\n",
        "\n",
        "# Transform the data\n",
        "rfe_X_train = rfe.transform(X_train)\n",
        "\n",
        "# Check shape after RFE\n",
        "print(f\"Shape after RFE: {rfe_X_train.shape}\")\n",
        "\n",
        "# Fit the model on the transformed dataset\n",
        "model.fit(rfe_X_train, y_train)\n",
        "\n",
        "# Get the ranking of the features\n",
        "ranking = rfe1.ranking_\n",
        "selected_features = pd.DataFrame({'Feature': X_train.columns, 'Ranking': ranking})\n",
        "selected_features.sort_values(by='Ranking', inplace=True)\n",
        "\n",
        "# Print the ranking of features\n",
        "print(\"Feature Ranking using RFE with NearestCentroid:\")\n",
        "print(selected_features)\n",
        "\n",
        "# Transform the test data using RFE\n",
        "rfe_X_test = rfe.transform(X_test)\n"
      ],
      "metadata": {
        "id": "O_wDZ3Bc6nXh"
      },
      "execution_count": null,
      "outputs": []
    },
    {
      "cell_type": "code",
      "source": [
        "# Feature extraction using SGDClassifier\n",
        "sgd_clf = SGDClassifier(random_state=seed).fit(X_train, y_train)\n",
        "\n",
        "# Explore feature importances using model coefficients\n",
        "# Coefficients in SGDClassifier indicate feature importance\n",
        "feature_importances = pd.DataFrame(sgd_clf.coef_.flatten(),\n",
        "                                   index=X_train.columns,\n",
        "                                   columns=['importance']).sort_values('importance', ascending=False)\n",
        "\n",
        "# Print sorted list of feature importances\n",
        "feature_importances\n",
        "\n",
        "from sklearn.feature_selection import RFE\n",
        "\n",
        "rfe = RFE(sgd_clf,  n_features_to_select=3)\n",
        "fit1 = rfe.fit(X_train, y_train)\n",
        "\n",
        "rfe\n",
        "\n",
        "selected_features = pd.DataFrame({'Feature':list(X_train.columns),'Ranking':fit1.ranking_})\n",
        "selected_features.sort_values(by='Ranking')"
      ],
      "metadata": {
        "id": "miLPVlYMN2Re",
        "colab": {
          "base_uri": "https://localhost:8080/",
          "height": 238
        },
        "outputId": "41b9df86-bf45-4c32-db86-1827247f0459"
      },
      "execution_count": null,
      "outputs": [
        {
          "output_type": "execute_result",
          "data": {
            "text/plain": [
              "                Feature  Ranking\n",
              "1     contents_of_order        1\n",
              "4  courier_satisfaction        1\n",
              "5     easy_ordering_app        1\n",
              "0      on_time_delivery        2\n",
              "3       good_price_paid        3\n",
              "2    ordered_everything        4"
            ],
            "text/html": [
              "\n",
              "  <div id=\"df-84463c92-f8da-417d-ab29-6bc528216d65\" class=\"colab-df-container\">\n",
              "    <div>\n",
              "<style scoped>\n",
              "    .dataframe tbody tr th:only-of-type {\n",
              "        vertical-align: middle;\n",
              "    }\n",
              "\n",
              "    .dataframe tbody tr th {\n",
              "        vertical-align: top;\n",
              "    }\n",
              "\n",
              "    .dataframe thead th {\n",
              "        text-align: right;\n",
              "    }\n",
              "</style>\n",
              "<table border=\"1\" class=\"dataframe\">\n",
              "  <thead>\n",
              "    <tr style=\"text-align: right;\">\n",
              "      <th></th>\n",
              "      <th>Feature</th>\n",
              "      <th>Ranking</th>\n",
              "    </tr>\n",
              "  </thead>\n",
              "  <tbody>\n",
              "    <tr>\n",
              "      <th>1</th>\n",
              "      <td>contents_of_order</td>\n",
              "      <td>1</td>\n",
              "    </tr>\n",
              "    <tr>\n",
              "      <th>4</th>\n",
              "      <td>courier_satisfaction</td>\n",
              "      <td>1</td>\n",
              "    </tr>\n",
              "    <tr>\n",
              "      <th>5</th>\n",
              "      <td>easy_ordering_app</td>\n",
              "      <td>1</td>\n",
              "    </tr>\n",
              "    <tr>\n",
              "      <th>0</th>\n",
              "      <td>on_time_delivery</td>\n",
              "      <td>2</td>\n",
              "    </tr>\n",
              "    <tr>\n",
              "      <th>3</th>\n",
              "      <td>good_price_paid</td>\n",
              "      <td>3</td>\n",
              "    </tr>\n",
              "    <tr>\n",
              "      <th>2</th>\n",
              "      <td>ordered_everything</td>\n",
              "      <td>4</td>\n",
              "    </tr>\n",
              "  </tbody>\n",
              "</table>\n",
              "</div>\n",
              "    <div class=\"colab-df-buttons\">\n",
              "\n",
              "  <div class=\"colab-df-container\">\n",
              "    <button class=\"colab-df-convert\" onclick=\"convertToInteractive('df-84463c92-f8da-417d-ab29-6bc528216d65')\"\n",
              "            title=\"Convert this dataframe to an interactive table.\"\n",
              "            style=\"display:none;\">\n",
              "\n",
              "  <svg xmlns=\"http://www.w3.org/2000/svg\" height=\"24px\" viewBox=\"0 -960 960 960\">\n",
              "    <path d=\"M120-120v-720h720v720H120Zm60-500h600v-160H180v160Zm220 220h160v-160H400v160Zm0 220h160v-160H400v160ZM180-400h160v-160H180v160Zm440 0h160v-160H620v160ZM180-180h160v-160H180v160Zm440 0h160v-160H620v160Z\"/>\n",
              "  </svg>\n",
              "    </button>\n",
              "\n",
              "  <style>\n",
              "    .colab-df-container {\n",
              "      display:flex;\n",
              "      gap: 12px;\n",
              "    }\n",
              "\n",
              "    .colab-df-convert {\n",
              "      background-color: #E8F0FE;\n",
              "      border: none;\n",
              "      border-radius: 50%;\n",
              "      cursor: pointer;\n",
              "      display: none;\n",
              "      fill: #1967D2;\n",
              "      height: 32px;\n",
              "      padding: 0 0 0 0;\n",
              "      width: 32px;\n",
              "    }\n",
              "\n",
              "    .colab-df-convert:hover {\n",
              "      background-color: #E2EBFA;\n",
              "      box-shadow: 0px 1px 2px rgba(60, 64, 67, 0.3), 0px 1px 3px 1px rgba(60, 64, 67, 0.15);\n",
              "      fill: #174EA6;\n",
              "    }\n",
              "\n",
              "    .colab-df-buttons div {\n",
              "      margin-bottom: 4px;\n",
              "    }\n",
              "\n",
              "    [theme=dark] .colab-df-convert {\n",
              "      background-color: #3B4455;\n",
              "      fill: #D2E3FC;\n",
              "    }\n",
              "\n",
              "    [theme=dark] .colab-df-convert:hover {\n",
              "      background-color: #434B5C;\n",
              "      box-shadow: 0px 1px 3px 1px rgba(0, 0, 0, 0.15);\n",
              "      filter: drop-shadow(0px 1px 2px rgba(0, 0, 0, 0.3));\n",
              "      fill: #FFFFFF;\n",
              "    }\n",
              "  </style>\n",
              "\n",
              "    <script>\n",
              "      const buttonEl =\n",
              "        document.querySelector('#df-84463c92-f8da-417d-ab29-6bc528216d65 button.colab-df-convert');\n",
              "      buttonEl.style.display =\n",
              "        google.colab.kernel.accessAllowed ? 'block' : 'none';\n",
              "\n",
              "      async function convertToInteractive(key) {\n",
              "        const element = document.querySelector('#df-84463c92-f8da-417d-ab29-6bc528216d65');\n",
              "        const dataTable =\n",
              "          await google.colab.kernel.invokeFunction('convertToInteractive',\n",
              "                                                    [key], {});\n",
              "        if (!dataTable) return;\n",
              "\n",
              "        const docLinkHtml = 'Like what you see? Visit the ' +\n",
              "          '<a target=\"_blank\" href=https://colab.research.google.com/notebooks/data_table.ipynb>data table notebook</a>'\n",
              "          + ' to learn more about interactive tables.';\n",
              "        element.innerHTML = '';\n",
              "        dataTable['output_type'] = 'display_data';\n",
              "        await google.colab.output.renderOutput(dataTable, element);\n",
              "        const docLink = document.createElement('div');\n",
              "        docLink.innerHTML = docLinkHtml;\n",
              "        element.appendChild(docLink);\n",
              "      }\n",
              "    </script>\n",
              "  </div>\n",
              "\n",
              "\n",
              "<div id=\"df-b8af39e5-46ad-43fd-a609-837ac8d39c79\">\n",
              "  <button class=\"colab-df-quickchart\" onclick=\"quickchart('df-b8af39e5-46ad-43fd-a609-837ac8d39c79')\"\n",
              "            title=\"Suggest charts\"\n",
              "            style=\"display:none;\">\n",
              "\n",
              "<svg xmlns=\"http://www.w3.org/2000/svg\" height=\"24px\"viewBox=\"0 0 24 24\"\n",
              "     width=\"24px\">\n",
              "    <g>\n",
              "        <path d=\"M19 3H5c-1.1 0-2 .9-2 2v14c0 1.1.9 2 2 2h14c1.1 0 2-.9 2-2V5c0-1.1-.9-2-2-2zM9 17H7v-7h2v7zm4 0h-2V7h2v10zm4 0h-2v-4h2v4z\"/>\n",
              "    </g>\n",
              "</svg>\n",
              "  </button>\n",
              "\n",
              "<style>\n",
              "  .colab-df-quickchart {\n",
              "      --bg-color: #E8F0FE;\n",
              "      --fill-color: #1967D2;\n",
              "      --hover-bg-color: #E2EBFA;\n",
              "      --hover-fill-color: #174EA6;\n",
              "      --disabled-fill-color: #AAA;\n",
              "      --disabled-bg-color: #DDD;\n",
              "  }\n",
              "\n",
              "  [theme=dark] .colab-df-quickchart {\n",
              "      --bg-color: #3B4455;\n",
              "      --fill-color: #D2E3FC;\n",
              "      --hover-bg-color: #434B5C;\n",
              "      --hover-fill-color: #FFFFFF;\n",
              "      --disabled-bg-color: #3B4455;\n",
              "      --disabled-fill-color: #666;\n",
              "  }\n",
              "\n",
              "  .colab-df-quickchart {\n",
              "    background-color: var(--bg-color);\n",
              "    border: none;\n",
              "    border-radius: 50%;\n",
              "    cursor: pointer;\n",
              "    display: none;\n",
              "    fill: var(--fill-color);\n",
              "    height: 32px;\n",
              "    padding: 0;\n",
              "    width: 32px;\n",
              "  }\n",
              "\n",
              "  .colab-df-quickchart:hover {\n",
              "    background-color: var(--hover-bg-color);\n",
              "    box-shadow: 0 1px 2px rgba(60, 64, 67, 0.3), 0 1px 3px 1px rgba(60, 64, 67, 0.15);\n",
              "    fill: var(--button-hover-fill-color);\n",
              "  }\n",
              "\n",
              "  .colab-df-quickchart-complete:disabled,\n",
              "  .colab-df-quickchart-complete:disabled:hover {\n",
              "    background-color: var(--disabled-bg-color);\n",
              "    fill: var(--disabled-fill-color);\n",
              "    box-shadow: none;\n",
              "  }\n",
              "\n",
              "  .colab-df-spinner {\n",
              "    border: 2px solid var(--fill-color);\n",
              "    border-color: transparent;\n",
              "    border-bottom-color: var(--fill-color);\n",
              "    animation:\n",
              "      spin 1s steps(1) infinite;\n",
              "  }\n",
              "\n",
              "  @keyframes spin {\n",
              "    0% {\n",
              "      border-color: transparent;\n",
              "      border-bottom-color: var(--fill-color);\n",
              "      border-left-color: var(--fill-color);\n",
              "    }\n",
              "    20% {\n",
              "      border-color: transparent;\n",
              "      border-left-color: var(--fill-color);\n",
              "      border-top-color: var(--fill-color);\n",
              "    }\n",
              "    30% {\n",
              "      border-color: transparent;\n",
              "      border-left-color: var(--fill-color);\n",
              "      border-top-color: var(--fill-color);\n",
              "      border-right-color: var(--fill-color);\n",
              "    }\n",
              "    40% {\n",
              "      border-color: transparent;\n",
              "      border-right-color: var(--fill-color);\n",
              "      border-top-color: var(--fill-color);\n",
              "    }\n",
              "    60% {\n",
              "      border-color: transparent;\n",
              "      border-right-color: var(--fill-color);\n",
              "    }\n",
              "    80% {\n",
              "      border-color: transparent;\n",
              "      border-right-color: var(--fill-color);\n",
              "      border-bottom-color: var(--fill-color);\n",
              "    }\n",
              "    90% {\n",
              "      border-color: transparent;\n",
              "      border-bottom-color: var(--fill-color);\n",
              "    }\n",
              "  }\n",
              "</style>\n",
              "\n",
              "  <script>\n",
              "    async function quickchart(key) {\n",
              "      const quickchartButtonEl =\n",
              "        document.querySelector('#' + key + ' button');\n",
              "      quickchartButtonEl.disabled = true;  // To prevent multiple clicks.\n",
              "      quickchartButtonEl.classList.add('colab-df-spinner');\n",
              "      try {\n",
              "        const charts = await google.colab.kernel.invokeFunction(\n",
              "            'suggestCharts', [key], {});\n",
              "      } catch (error) {\n",
              "        console.error('Error during call to suggestCharts:', error);\n",
              "      }\n",
              "      quickchartButtonEl.classList.remove('colab-df-spinner');\n",
              "      quickchartButtonEl.classList.add('colab-df-quickchart-complete');\n",
              "    }\n",
              "    (() => {\n",
              "      let quickchartButtonEl =\n",
              "        document.querySelector('#df-b8af39e5-46ad-43fd-a609-837ac8d39c79 button');\n",
              "      quickchartButtonEl.style.display =\n",
              "        google.colab.kernel.accessAllowed ? 'block' : 'none';\n",
              "    })();\n",
              "  </script>\n",
              "</div>\n",
              "\n",
              "    </div>\n",
              "  </div>\n"
            ],
            "application/vnd.google.colaboratory.intrinsic+json": {
              "type": "dataframe",
              "summary": "{\n  \"name\": \"selected_features\",\n  \"rows\": 6,\n  \"fields\": [\n    {\n      \"column\": \"Feature\",\n      \"properties\": {\n        \"dtype\": \"string\",\n        \"num_unique_values\": 6,\n        \"samples\": [\n          \"contents_of_order\",\n          \"courier_satisfaction\",\n          \"ordered_everything\"\n        ],\n        \"semantic_type\": \"\",\n        \"description\": \"\"\n      }\n    },\n    {\n      \"column\": \"Ranking\",\n      \"properties\": {\n        \"dtype\": \"number\",\n        \"std\": 1,\n        \"min\": 1,\n        \"max\": 4,\n        \"num_unique_values\": 4,\n        \"samples\": [\n          2,\n          4,\n          1\n        ],\n        \"semantic_type\": \"\",\n        \"description\": \"\"\n      }\n    }\n  ]\n}"
            }
          },
          "metadata": {},
          "execution_count": 26
        }
      ]
    }
  ],
  "metadata": {
    "colab": {
      "provenance": [],
      "authorship_tag": "ABX9TyOEhdc8j4juamrIoAo3Cdy/",
      "include_colab_link": true
    },
    "kernelspec": {
      "display_name": "Python 3",
      "name": "python3"
    },
    "language_info": {
      "name": "python"
    }
  },
  "nbformat": 4,
  "nbformat_minor": 0
}